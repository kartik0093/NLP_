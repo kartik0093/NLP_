{
  "nbformat": 4,
  "nbformat_minor": 0,
  "metadata": {
    "colab": {
      "name": "DATATOBIZ DAY 9.ipynb",
      "provenance": []
    },
    "kernelspec": {
      "name": "python3",
      "display_name": "Python 3"
    },
    "language_info": {
      "name": "python"
    },
    "accelerator": "GPU",
    "widgets": {
      "application/vnd.jupyter.widget-state+json": {
        "7e620d9f26b04d5a93f608996679c001": {
          "model_module": "@jupyter-widgets/controls",
          "model_name": "HBoxModel",
          "model_module_version": "1.5.0",
          "state": {
            "_view_name": "HBoxView",
            "_dom_classes": [],
            "_model_name": "HBoxModel",
            "_view_module": "@jupyter-widgets/controls",
            "_model_module_version": "1.5.0",
            "_view_count": null,
            "_view_module_version": "1.5.0",
            "box_style": "",
            "layout": "IPY_MODEL_9a788592917941b7b2d593f5dc76a8ad",
            "_model_module": "@jupyter-widgets/controls",
            "children": [
              "IPY_MODEL_32ecef1ab9b94cf08e858caf81e34283",
              "IPY_MODEL_828b9eb67a5b4ee0b79759b21da57b53",
              "IPY_MODEL_7099b33d43f447b49af1af38e8b93e44"
            ]
          }
        },
        "9a788592917941b7b2d593f5dc76a8ad": {
          "model_module": "@jupyter-widgets/base",
          "model_name": "LayoutModel",
          "model_module_version": "1.2.0",
          "state": {
            "_view_name": "LayoutView",
            "grid_template_rows": null,
            "right": null,
            "justify_content": null,
            "_view_module": "@jupyter-widgets/base",
            "overflow": null,
            "_model_module_version": "1.2.0",
            "_view_count": null,
            "flex_flow": null,
            "width": null,
            "min_width": null,
            "border": null,
            "align_items": null,
            "bottom": null,
            "_model_module": "@jupyter-widgets/base",
            "top": null,
            "grid_column": null,
            "overflow_y": null,
            "overflow_x": null,
            "grid_auto_flow": null,
            "grid_area": null,
            "grid_template_columns": null,
            "flex": null,
            "_model_name": "LayoutModel",
            "justify_items": null,
            "grid_row": null,
            "max_height": null,
            "align_content": null,
            "visibility": null,
            "align_self": null,
            "height": null,
            "min_height": null,
            "padding": null,
            "grid_auto_rows": null,
            "grid_gap": null,
            "max_width": null,
            "order": null,
            "_view_module_version": "1.2.0",
            "grid_template_areas": null,
            "object_position": null,
            "object_fit": null,
            "grid_auto_columns": null,
            "margin": null,
            "display": null,
            "left": null
          }
        },
        "32ecef1ab9b94cf08e858caf81e34283": {
          "model_module": "@jupyter-widgets/controls",
          "model_name": "HTMLModel",
          "model_module_version": "1.5.0",
          "state": {
            "_view_name": "HTMLView",
            "style": "IPY_MODEL_ee90f5229fa54173abac19d148d7a3dd",
            "_dom_classes": [],
            "description": "",
            "_model_name": "HTMLModel",
            "placeholder": "​",
            "_view_module": "@jupyter-widgets/controls",
            "_model_module_version": "1.5.0",
            "value": "Downloading: 100%",
            "_view_count": null,
            "_view_module_version": "1.5.0",
            "description_tooltip": null,
            "_model_module": "@jupyter-widgets/controls",
            "layout": "IPY_MODEL_ffa579eda0a5434ea62155352e276da9"
          }
        },
        "828b9eb67a5b4ee0b79759b21da57b53": {
          "model_module": "@jupyter-widgets/controls",
          "model_name": "FloatProgressModel",
          "model_module_version": "1.5.0",
          "state": {
            "_view_name": "ProgressView",
            "style": "IPY_MODEL_748307b6aebf46d094aa97dc8e06a638",
            "_dom_classes": [],
            "description": "",
            "_model_name": "FloatProgressModel",
            "bar_style": "success",
            "max": 213450,
            "_view_module": "@jupyter-widgets/controls",
            "_model_module_version": "1.5.0",
            "value": 213450,
            "_view_count": null,
            "_view_module_version": "1.5.0",
            "orientation": "horizontal",
            "min": 0,
            "description_tooltip": null,
            "_model_module": "@jupyter-widgets/controls",
            "layout": "IPY_MODEL_c2df697c49684269a2348dcf8a6f81b0"
          }
        },
        "7099b33d43f447b49af1af38e8b93e44": {
          "model_module": "@jupyter-widgets/controls",
          "model_name": "HTMLModel",
          "model_module_version": "1.5.0",
          "state": {
            "_view_name": "HTMLView",
            "style": "IPY_MODEL_a3c3acf8cc304087b6537726d2477e44",
            "_dom_classes": [],
            "description": "",
            "_model_name": "HTMLModel",
            "placeholder": "​",
            "_view_module": "@jupyter-widgets/controls",
            "_model_module_version": "1.5.0",
            "value": " 213k/213k [00:00&lt;00:00, 1.01MB/s]",
            "_view_count": null,
            "_view_module_version": "1.5.0",
            "description_tooltip": null,
            "_model_module": "@jupyter-widgets/controls",
            "layout": "IPY_MODEL_7b7b31ff958d463f93a91be661b3c5b3"
          }
        },
        "ee90f5229fa54173abac19d148d7a3dd": {
          "model_module": "@jupyter-widgets/controls",
          "model_name": "DescriptionStyleModel",
          "model_module_version": "1.5.0",
          "state": {
            "_view_name": "StyleView",
            "_model_name": "DescriptionStyleModel",
            "description_width": "",
            "_view_module": "@jupyter-widgets/base",
            "_model_module_version": "1.5.0",
            "_view_count": null,
            "_view_module_version": "1.2.0",
            "_model_module": "@jupyter-widgets/controls"
          }
        },
        "ffa579eda0a5434ea62155352e276da9": {
          "model_module": "@jupyter-widgets/base",
          "model_name": "LayoutModel",
          "model_module_version": "1.2.0",
          "state": {
            "_view_name": "LayoutView",
            "grid_template_rows": null,
            "right": null,
            "justify_content": null,
            "_view_module": "@jupyter-widgets/base",
            "overflow": null,
            "_model_module_version": "1.2.0",
            "_view_count": null,
            "flex_flow": null,
            "width": null,
            "min_width": null,
            "border": null,
            "align_items": null,
            "bottom": null,
            "_model_module": "@jupyter-widgets/base",
            "top": null,
            "grid_column": null,
            "overflow_y": null,
            "overflow_x": null,
            "grid_auto_flow": null,
            "grid_area": null,
            "grid_template_columns": null,
            "flex": null,
            "_model_name": "LayoutModel",
            "justify_items": null,
            "grid_row": null,
            "max_height": null,
            "align_content": null,
            "visibility": null,
            "align_self": null,
            "height": null,
            "min_height": null,
            "padding": null,
            "grid_auto_rows": null,
            "grid_gap": null,
            "max_width": null,
            "order": null,
            "_view_module_version": "1.2.0",
            "grid_template_areas": null,
            "object_position": null,
            "object_fit": null,
            "grid_auto_columns": null,
            "margin": null,
            "display": null,
            "left": null
          }
        },
        "748307b6aebf46d094aa97dc8e06a638": {
          "model_module": "@jupyter-widgets/controls",
          "model_name": "ProgressStyleModel",
          "model_module_version": "1.5.0",
          "state": {
            "_view_name": "StyleView",
            "_model_name": "ProgressStyleModel",
            "description_width": "",
            "_view_module": "@jupyter-widgets/base",
            "_model_module_version": "1.5.0",
            "_view_count": null,
            "_view_module_version": "1.2.0",
            "bar_color": null,
            "_model_module": "@jupyter-widgets/controls"
          }
        },
        "c2df697c49684269a2348dcf8a6f81b0": {
          "model_module": "@jupyter-widgets/base",
          "model_name": "LayoutModel",
          "model_module_version": "1.2.0",
          "state": {
            "_view_name": "LayoutView",
            "grid_template_rows": null,
            "right": null,
            "justify_content": null,
            "_view_module": "@jupyter-widgets/base",
            "overflow": null,
            "_model_module_version": "1.2.0",
            "_view_count": null,
            "flex_flow": null,
            "width": null,
            "min_width": null,
            "border": null,
            "align_items": null,
            "bottom": null,
            "_model_module": "@jupyter-widgets/base",
            "top": null,
            "grid_column": null,
            "overflow_y": null,
            "overflow_x": null,
            "grid_auto_flow": null,
            "grid_area": null,
            "grid_template_columns": null,
            "flex": null,
            "_model_name": "LayoutModel",
            "justify_items": null,
            "grid_row": null,
            "max_height": null,
            "align_content": null,
            "visibility": null,
            "align_self": null,
            "height": null,
            "min_height": null,
            "padding": null,
            "grid_auto_rows": null,
            "grid_gap": null,
            "max_width": null,
            "order": null,
            "_view_module_version": "1.2.0",
            "grid_template_areas": null,
            "object_position": null,
            "object_fit": null,
            "grid_auto_columns": null,
            "margin": null,
            "display": null,
            "left": null
          }
        },
        "a3c3acf8cc304087b6537726d2477e44": {
          "model_module": "@jupyter-widgets/controls",
          "model_name": "DescriptionStyleModel",
          "model_module_version": "1.5.0",
          "state": {
            "_view_name": "StyleView",
            "_model_name": "DescriptionStyleModel",
            "description_width": "",
            "_view_module": "@jupyter-widgets/base",
            "_model_module_version": "1.5.0",
            "_view_count": null,
            "_view_module_version": "1.2.0",
            "_model_module": "@jupyter-widgets/controls"
          }
        },
        "7b7b31ff958d463f93a91be661b3c5b3": {
          "model_module": "@jupyter-widgets/base",
          "model_name": "LayoutModel",
          "model_module_version": "1.2.0",
          "state": {
            "_view_name": "LayoutView",
            "grid_template_rows": null,
            "right": null,
            "justify_content": null,
            "_view_module": "@jupyter-widgets/base",
            "overflow": null,
            "_model_module_version": "1.2.0",
            "_view_count": null,
            "flex_flow": null,
            "width": null,
            "min_width": null,
            "border": null,
            "align_items": null,
            "bottom": null,
            "_model_module": "@jupyter-widgets/base",
            "top": null,
            "grid_column": null,
            "overflow_y": null,
            "overflow_x": null,
            "grid_auto_flow": null,
            "grid_area": null,
            "grid_template_columns": null,
            "flex": null,
            "_model_name": "LayoutModel",
            "justify_items": null,
            "grid_row": null,
            "max_height": null,
            "align_content": null,
            "visibility": null,
            "align_self": null,
            "height": null,
            "min_height": null,
            "padding": null,
            "grid_auto_rows": null,
            "grid_gap": null,
            "max_width": null,
            "order": null,
            "_view_module_version": "1.2.0",
            "grid_template_areas": null,
            "object_position": null,
            "object_fit": null,
            "grid_auto_columns": null,
            "margin": null,
            "display": null,
            "left": null
          }
        }
      }
    }
  },
  "cells": [
    {
      "cell_type": "code",
      "metadata": {
        "id": "KebDYZ0kMn87"
      },
      "source": [
        "!pip install -q -U watermark"
      ],
      "execution_count": 2,
      "outputs": []
    },
    {
      "cell_type": "code",
      "metadata": {
        "colab": {
          "base_uri": "https://localhost:8080/"
        },
        "id": "SjSPWjGYfiYS",
        "outputId": "9cd0cf66-576a-42a6-e8de-787d777bb87e"
      },
      "source": [
        "pip install transformers==2.8.0"
      ],
      "execution_count": 3,
      "outputs": [
        {
          "output_type": "stream",
          "name": "stdout",
          "text": [
            "Requirement already satisfied: transformers==2.8.0 in /usr/local/lib/python3.7/dist-packages (2.8.0)\n",
            "Requirement already satisfied: tqdm>=4.27 in /usr/local/lib/python3.7/dist-packages (from transformers==2.8.0) (4.62.3)\n",
            "Requirement already satisfied: sacremoses in /usr/local/lib/python3.7/dist-packages (from transformers==2.8.0) (0.0.46)\n",
            "Requirement already satisfied: boto3 in /usr/local/lib/python3.7/dist-packages (from transformers==2.8.0) (1.18.57)\n",
            "Requirement already satisfied: sentencepiece in /usr/local/lib/python3.7/dist-packages (from transformers==2.8.0) (0.1.96)\n",
            "Requirement already satisfied: regex!=2019.12.17 in /usr/local/lib/python3.7/dist-packages (from transformers==2.8.0) (2019.12.20)\n",
            "Requirement already satisfied: tokenizers==0.5.2 in /usr/local/lib/python3.7/dist-packages (from transformers==2.8.0) (0.5.2)\n",
            "Requirement already satisfied: requests in /usr/local/lib/python3.7/dist-packages (from transformers==2.8.0) (2.23.0)\n",
            "Requirement already satisfied: filelock in /usr/local/lib/python3.7/dist-packages (from transformers==2.8.0) (3.3.0)\n",
            "Requirement already satisfied: numpy in /usr/local/lib/python3.7/dist-packages (from transformers==2.8.0) (1.19.5)\n",
            "Requirement already satisfied: jmespath<1.0.0,>=0.7.1 in /usr/local/lib/python3.7/dist-packages (from boto3->transformers==2.8.0) (0.10.0)\n",
            "Requirement already satisfied: s3transfer<0.6.0,>=0.5.0 in /usr/local/lib/python3.7/dist-packages (from boto3->transformers==2.8.0) (0.5.0)\n",
            "Requirement already satisfied: botocore<1.22.0,>=1.21.57 in /usr/local/lib/python3.7/dist-packages (from boto3->transformers==2.8.0) (1.21.57)\n",
            "Requirement already satisfied: urllib3<1.27,>=1.25.4 in /usr/local/lib/python3.7/dist-packages (from botocore<1.22.0,>=1.21.57->boto3->transformers==2.8.0) (1.25.11)\n",
            "Requirement already satisfied: python-dateutil<3.0.0,>=2.1 in /usr/local/lib/python3.7/dist-packages (from botocore<1.22.0,>=1.21.57->boto3->transformers==2.8.0) (2.8.2)\n",
            "Requirement already satisfied: six>=1.5 in /usr/local/lib/python3.7/dist-packages (from python-dateutil<3.0.0,>=2.1->botocore<1.22.0,>=1.21.57->boto3->transformers==2.8.0) (1.15.0)\n",
            "Requirement already satisfied: idna<3,>=2.5 in /usr/local/lib/python3.7/dist-packages (from requests->transformers==2.8.0) (2.10)\n",
            "Requirement already satisfied: chardet<4,>=3.0.2 in /usr/local/lib/python3.7/dist-packages (from requests->transformers==2.8.0) (3.0.4)\n",
            "Requirement already satisfied: certifi>=2017.4.17 in /usr/local/lib/python3.7/dist-packages (from requests->transformers==2.8.0) (2021.5.30)\n",
            "Requirement already satisfied: click in /usr/local/lib/python3.7/dist-packages (from sacremoses->transformers==2.8.0) (7.1.2)\n",
            "Requirement already satisfied: joblib in /usr/local/lib/python3.7/dist-packages (from sacremoses->transformers==2.8.0) (1.0.1)\n"
          ]
        }
      ]
    },
    {
      "cell_type": "code",
      "metadata": {
        "colab": {
          "base_uri": "https://localhost:8080/"
        },
        "id": "xd2aSXf_M4a3",
        "outputId": "2867d7f6-2e86-4b12-a1bb-faefb850afc9"
      },
      "source": [
        "%reload_ext watermark\n",
        "%watermark -v -p numpy,pandas,torch,transformers"
      ],
      "execution_count": 4,
      "outputs": [
        {
          "output_type": "stream",
          "name": "stdout",
          "text": [
            "Python implementation: CPython\n",
            "Python version       : 3.7.12\n",
            "IPython version      : 5.5.0\n",
            "\n",
            "numpy       : 1.19.5\n",
            "pandas      : 1.1.5\n",
            "torch       : 1.9.0+cu111\n",
            "transformers: 2.8.0\n",
            "\n"
          ]
        }
      ]
    },
    {
      "cell_type": "code",
      "metadata": {
        "id": "Pb21tWYeM4c7"
      },
      "source": [
        "import transformers\n",
        "from transformers import BertModel, BertTokenizer, AdamW, get_linear_schedule_with_warmup\n",
        "import torch\n",
        "import numpy as np\n",
        "import pandas as pd\n",
        "from sklearn.model_selection import train_test_split\n",
        "from sklearn.metrics import confusion_matrix, classification_report\n",
        "from collections import defaultdict\n",
        "from textwrap import wrap"
      ],
      "execution_count": 5,
      "outputs": []
    },
    {
      "cell_type": "code",
      "metadata": {
        "id": "I-j2zFcPNVDh"
      },
      "source": [
        "from torch import nn, optim\n",
        "from torch.utils.data import Dataset, DataLoader\n",
        "import torch.nn.functional as F"
      ],
      "execution_count": 6,
      "outputs": []
    },
    {
      "cell_type": "code",
      "metadata": {
        "colab": {
          "base_uri": "https://localhost:8080/"
        },
        "id": "SwNgl6JxNVGJ",
        "outputId": "bb62edf4-4c20-4a04-ebe6-59ffb0d5aff4"
      },
      "source": [
        "RANDOM_SEED = 42\n",
        "np.random.seed(RANDOM_SEED)\n",
        "torch.manual_seed(RANDOM_SEED)"
      ],
      "execution_count": 7,
      "outputs": [
        {
          "output_type": "execute_result",
          "data": {
            "text/plain": [
              "<torch._C.Generator at 0x7fe95477ff70>"
            ]
          },
          "metadata": {},
          "execution_count": 7
        }
      ]
    },
    {
      "cell_type": "code",
      "metadata": {
        "colab": {
          "base_uri": "https://localhost:8080/"
        },
        "id": "BQzsFeeeNbeN",
        "outputId": "3cbb2307-aff3-4d54-898e-4156149d1c5c"
      },
      "source": [
        "device = torch.device(\"cuda:0\" if torch.cuda.is_available() else \"cpu\")\n",
        "device"
      ],
      "execution_count": 8,
      "outputs": [
        {
          "output_type": "execute_result",
          "data": {
            "text/plain": [
              "device(type='cuda', index=0)"
            ]
          },
          "metadata": {},
          "execution_count": 8
        }
      ]
    },
    {
      "cell_type": "code",
      "metadata": {
        "id": "xDMOtM2rNbgw",
        "colab": {
          "base_uri": "https://localhost:8080/"
        },
        "outputId": "9c9ef9a6-3ab0-415a-e404-4025d62c2a9d"
      },
      "source": [
        "!gdown --id 1S6qMioqPJjyBLpLVz4gmRTnJHnjitnuV\n",
        "!gdown --id 1zdmewp7ayS4js4VtrJEHzAheSW-5NBZv"
      ],
      "execution_count": 9,
      "outputs": [
        {
          "output_type": "stream",
          "name": "stdout",
          "text": [
            "Downloading...\n",
            "From: https://drive.google.com/uc?id=1S6qMioqPJjyBLpLVz4gmRTnJHnjitnuV\n",
            "To: /content/apps.csv\n",
            "100% 134k/134k [00:00<00:00, 48.8MB/s]\n",
            "Downloading...\n",
            "From: https://drive.google.com/uc?id=1zdmewp7ayS4js4VtrJEHzAheSW-5NBZv\n",
            "To: /content/reviews.csv\n",
            "100% 7.17M/7.17M [00:00<00:00, 113MB/s]\n"
          ]
        }
      ]
    },
    {
      "cell_type": "code",
      "metadata": {
        "id": "8padv9jPNbjB",
        "colab": {
          "base_uri": "https://localhost:8080/",
          "height": 626
        },
        "outputId": "480d03d2-b890-40ff-bd90-6e871549df7d"
      },
      "source": [
        "df = pd.read_csv(\"reviews.csv\")\n",
        "df.head()"
      ],
      "execution_count": 10,
      "outputs": [
        {
          "output_type": "execute_result",
          "data": {
            "text/html": [
              "<div>\n",
              "<style scoped>\n",
              "    .dataframe tbody tr th:only-of-type {\n",
              "        vertical-align: middle;\n",
              "    }\n",
              "\n",
              "    .dataframe tbody tr th {\n",
              "        vertical-align: top;\n",
              "    }\n",
              "\n",
              "    .dataframe thead th {\n",
              "        text-align: right;\n",
              "    }\n",
              "</style>\n",
              "<table border=\"1\" class=\"dataframe\">\n",
              "  <thead>\n",
              "    <tr style=\"text-align: right;\">\n",
              "      <th></th>\n",
              "      <th>userName</th>\n",
              "      <th>userImage</th>\n",
              "      <th>content</th>\n",
              "      <th>score</th>\n",
              "      <th>thumbsUpCount</th>\n",
              "      <th>reviewCreatedVersion</th>\n",
              "      <th>at</th>\n",
              "      <th>replyContent</th>\n",
              "      <th>repliedAt</th>\n",
              "      <th>sortOrder</th>\n",
              "      <th>appId</th>\n",
              "    </tr>\n",
              "  </thead>\n",
              "  <tbody>\n",
              "    <tr>\n",
              "      <th>0</th>\n",
              "      <td>Andrew Thomas</td>\n",
              "      <td>https://lh3.googleusercontent.com/a-/AOh14GiHd...</td>\n",
              "      <td>Update: After getting a response from the deve...</td>\n",
              "      <td>1</td>\n",
              "      <td>21</td>\n",
              "      <td>4.17.0.3</td>\n",
              "      <td>2020-04-05 22:25:57</td>\n",
              "      <td>According to our TOS, and the term you have ag...</td>\n",
              "      <td>2020-04-05 15:10:24</td>\n",
              "      <td>most_relevant</td>\n",
              "      <td>com.anydo</td>\n",
              "    </tr>\n",
              "    <tr>\n",
              "      <th>1</th>\n",
              "      <td>Craig Haines</td>\n",
              "      <td>https://lh3.googleusercontent.com/-hoe0kwSJgPQ...</td>\n",
              "      <td>Used it for a fair amount of time without any ...</td>\n",
              "      <td>1</td>\n",
              "      <td>11</td>\n",
              "      <td>4.17.0.3</td>\n",
              "      <td>2020-04-04 13:40:01</td>\n",
              "      <td>It sounds like you logged in with a different ...</td>\n",
              "      <td>2020-04-05 15:11:35</td>\n",
              "      <td>most_relevant</td>\n",
              "      <td>com.anydo</td>\n",
              "    </tr>\n",
              "    <tr>\n",
              "      <th>2</th>\n",
              "      <td>steven adkins</td>\n",
              "      <td>https://lh3.googleusercontent.com/a-/AOh14GiXw...</td>\n",
              "      <td>Your app sucks now!!!!! Used to be good but no...</td>\n",
              "      <td>1</td>\n",
              "      <td>17</td>\n",
              "      <td>4.17.0.3</td>\n",
              "      <td>2020-04-01 16:18:13</td>\n",
              "      <td>This sounds odd! We are not aware of any issue...</td>\n",
              "      <td>2020-04-02 16:05:56</td>\n",
              "      <td>most_relevant</td>\n",
              "      <td>com.anydo</td>\n",
              "    </tr>\n",
              "    <tr>\n",
              "      <th>3</th>\n",
              "      <td>Lars Panzerbjørn</td>\n",
              "      <td>https://lh3.googleusercontent.com/a-/AOh14Gg-h...</td>\n",
              "      <td>It seems OK, but very basic. Recurring tasks n...</td>\n",
              "      <td>1</td>\n",
              "      <td>192</td>\n",
              "      <td>4.17.0.2</td>\n",
              "      <td>2020-03-12 08:17:34</td>\n",
              "      <td>We do offer this option as part of the Advance...</td>\n",
              "      <td>2020-03-15 06:20:13</td>\n",
              "      <td>most_relevant</td>\n",
              "      <td>com.anydo</td>\n",
              "    </tr>\n",
              "    <tr>\n",
              "      <th>4</th>\n",
              "      <td>Scott Prewitt</td>\n",
              "      <td>https://lh3.googleusercontent.com/-K-X1-YsVd6U...</td>\n",
              "      <td>Absolutely worthless. This app runs a prohibit...</td>\n",
              "      <td>1</td>\n",
              "      <td>42</td>\n",
              "      <td>4.17.0.2</td>\n",
              "      <td>2020-03-14 17:41:01</td>\n",
              "      <td>We're sorry you feel this way! 90% of the app ...</td>\n",
              "      <td>2020-03-15 23:45:51</td>\n",
              "      <td>most_relevant</td>\n",
              "      <td>com.anydo</td>\n",
              "    </tr>\n",
              "  </tbody>\n",
              "</table>\n",
              "</div>"
            ],
            "text/plain": [
              "           userName  ...      appId\n",
              "0     Andrew Thomas  ...  com.anydo\n",
              "1      Craig Haines  ...  com.anydo\n",
              "2     steven adkins  ...  com.anydo\n",
              "3  Lars Panzerbjørn  ...  com.anydo\n",
              "4     Scott Prewitt  ...  com.anydo\n",
              "\n",
              "[5 rows x 11 columns]"
            ]
          },
          "metadata": {},
          "execution_count": 10
        }
      ]
    },
    {
      "cell_type": "code",
      "metadata": {
        "id": "KPSc_GYPNblh",
        "colab": {
          "base_uri": "https://localhost:8080/"
        },
        "outputId": "36c5b272-222c-4686-bd80-b1e6a9b66dd0"
      },
      "source": [
        "df.shape"
      ],
      "execution_count": 11,
      "outputs": [
        {
          "output_type": "execute_result",
          "data": {
            "text/plain": [
              "(15746, 11)"
            ]
          },
          "metadata": {},
          "execution_count": 11
        }
      ]
    },
    {
      "cell_type": "code",
      "metadata": {
        "colab": {
          "base_uri": "https://localhost:8080/"
        },
        "id": "Ukmi_Fj5Qnuw",
        "outputId": "5cafd4d7-48d3-4030-b107-df0db0b731f2"
      },
      "source": [
        "df.info()"
      ],
      "execution_count": 12,
      "outputs": [
        {
          "output_type": "stream",
          "name": "stdout",
          "text": [
            "<class 'pandas.core.frame.DataFrame'>\n",
            "RangeIndex: 15746 entries, 0 to 15745\n",
            "Data columns (total 11 columns):\n",
            " #   Column                Non-Null Count  Dtype \n",
            "---  ------                --------------  ----- \n",
            " 0   userName              15746 non-null  object\n",
            " 1   userImage             15746 non-null  object\n",
            " 2   content               15746 non-null  object\n",
            " 3   score                 15746 non-null  int64 \n",
            " 4   thumbsUpCount         15746 non-null  int64 \n",
            " 5   reviewCreatedVersion  13533 non-null  object\n",
            " 6   at                    15746 non-null  object\n",
            " 7   replyContent          7367 non-null   object\n",
            " 8   repliedAt             7367 non-null   object\n",
            " 9   sortOrder             15746 non-null  object\n",
            " 10  appId                 15746 non-null  object\n",
            "dtypes: int64(2), object(9)\n",
            "memory usage: 1.3+ MB\n"
          ]
        }
      ]
    },
    {
      "cell_type": "code",
      "metadata": {
        "id": "GmoBAUUcQnxc"
      },
      "source": [
        "def to_sentiment(rating):\n",
        "  rating = int(rating)\n",
        "  if rating <= 2:\n",
        "    return 0\n",
        "  elif rating == 3:\n",
        "    return 1\n",
        "  else: \n",
        "    return 2\n",
        "\n",
        "df['sentiment'] = df.score.apply(to_sentiment)"
      ],
      "execution_count": 13,
      "outputs": []
    },
    {
      "cell_type": "markdown",
      "metadata": {
        "id": "6s1jDrLEQ3di"
      },
      "source": [
        "## Data Preprocessing\n",
        "\n",
        "You might already know that Machine Learning models don't work with raw text. You need to convert text to numbers (of some sort). BERT requires even more attention (good one, right?). Here are the requirements: \n",
        "\n",
        "- Add special tokens to separate sentences and do classification\n",
        "- Pass sequences of constant length (introduce padding)\n",
        "- Create array of 0s (pad token) and 1s (real token) called *attention mask*\n",
        "\n",
        "The Transformers library provides (you've guessed it) a wide variety of Transformer models (including BERT). It works with TensorFlow and PyTorch! It also includes prebuild tokenizers that do the heavy lifting for us!\n"
      ]
    },
    {
      "cell_type": "code",
      "metadata": {
        "id": "4hUq6JOoQn0V"
      },
      "source": [
        "PRE_TRAINED_MODEL_NAME = 'bert-base-cased'"
      ],
      "execution_count": 14,
      "outputs": []
    },
    {
      "cell_type": "code",
      "metadata": {
        "colab": {
          "base_uri": "https://localhost:8080/",
          "height": 49,
          "referenced_widgets": [
            "7e620d9f26b04d5a93f608996679c001",
            "9a788592917941b7b2d593f5dc76a8ad",
            "32ecef1ab9b94cf08e858caf81e34283",
            "828b9eb67a5b4ee0b79759b21da57b53",
            "7099b33d43f447b49af1af38e8b93e44",
            "ee90f5229fa54173abac19d148d7a3dd",
            "ffa579eda0a5434ea62155352e276da9",
            "748307b6aebf46d094aa97dc8e06a638",
            "c2df697c49684269a2348dcf8a6f81b0",
            "a3c3acf8cc304087b6537726d2477e44",
            "7b7b31ff958d463f93a91be661b3c5b3"
          ]
        },
        "id": "cPwiailZQ8hC",
        "outputId": "1ef9a0d0-758d-4fc6-cb8d-88138cfbb719"
      },
      "source": [
        "tokenizer = BertTokenizer.from_pretrained(PRE_TRAINED_MODEL_NAME)"
      ],
      "execution_count": 15,
      "outputs": [
        {
          "output_type": "display_data",
          "data": {
            "application/vnd.jupyter.widget-view+json": {
              "model_id": "7e620d9f26b04d5a93f608996679c001",
              "version_minor": 0,
              "version_major": 2
            },
            "text/plain": [
              "Downloading:   0%|          | 0.00/213k [00:00<?, ?B/s]"
            ]
          },
          "metadata": {}
        }
      ]
    },
    {
      "cell_type": "code",
      "metadata": {
        "id": "J9rQ2h2RQ8jz"
      },
      "source": [
        "sample_txt = 'When was I last outside? I am stuck at home for 2 weeks.'"
      ],
      "execution_count": 16,
      "outputs": []
    },
    {
      "cell_type": "code",
      "metadata": {
        "colab": {
          "base_uri": "https://localhost:8080/"
        },
        "id": "ROo8k0LBQ8oz",
        "outputId": "fa369703-9590-4451-d8c8-3dc849dbd8dd"
      },
      "source": [
        "tokens = tokenizer.tokenize(sample_txt)\n",
        "token_ids = tokenizer.convert_tokens_to_ids(tokens)\n",
        "\n",
        "print(f' Sentence: {sample_txt}')\n",
        "print(f'   Tokens: {tokens}')\n",
        "print(f'Token IDs: {token_ids}')"
      ],
      "execution_count": 17,
      "outputs": [
        {
          "output_type": "stream",
          "name": "stdout",
          "text": [
            " Sentence: When was I last outside? I am stuck at home for 2 weeks.\n",
            "   Tokens: ['When', 'was', 'I', 'last', 'outside', '?', 'I', 'am', 'stuck', 'at', 'home', 'for', '2', 'weeks', '.']\n",
            "Token IDs: [1332, 1108, 146, 1314, 1796, 136, 146, 1821, 5342, 1120, 1313, 1111, 123, 2277, 119]\n"
          ]
        }
      ]
    },
    {
      "cell_type": "code",
      "metadata": {
        "colab": {
          "base_uri": "https://localhost:8080/"
        },
        "id": "zHgIaXtSQ8rk",
        "outputId": "6191c3c6-ae2e-44f8-fd1b-a5051e56e3ee"
      },
      "source": [
        "tokenizer.sep_token, tokenizer.sep_token_id"
      ],
      "execution_count": 18,
      "outputs": [
        {
          "output_type": "execute_result",
          "data": {
            "text/plain": [
              "('[SEP]', 102)"
            ]
          },
          "metadata": {},
          "execution_count": 18
        }
      ]
    },
    {
      "cell_type": "code",
      "metadata": {
        "colab": {
          "base_uri": "https://localhost:8080/"
        },
        "id": "fgZPa11rQ8uG",
        "outputId": "d69e5b40-9b7a-42c7-f43f-6cd74ac4bede"
      },
      "source": [
        "tokenizer.cls_token, tokenizer.cls_token_id"
      ],
      "execution_count": 19,
      "outputs": [
        {
          "output_type": "execute_result",
          "data": {
            "text/plain": [
              "('[CLS]', 101)"
            ]
          },
          "metadata": {},
          "execution_count": 19
        }
      ]
    },
    {
      "cell_type": "code",
      "metadata": {
        "colab": {
          "base_uri": "https://localhost:8080/"
        },
        "id": "ep3_oeFFQ8w5",
        "outputId": "69cc0d67-e8e8-41a4-aa4b-fc205496348c"
      },
      "source": [
        "tokenizer.pad_token, tokenizer.pad_token_id"
      ],
      "execution_count": 20,
      "outputs": [
        {
          "output_type": "execute_result",
          "data": {
            "text/plain": [
              "('[PAD]', 0)"
            ]
          },
          "metadata": {},
          "execution_count": 20
        }
      ]
    },
    {
      "cell_type": "code",
      "metadata": {
        "id": "8oDdp-_GNbnX",
        "colab": {
          "base_uri": "https://localhost:8080/"
        },
        "outputId": "3bd08cea-a853-4bd6-e30a-867df2a83e28"
      },
      "source": [
        "tokenizer.unk_token, tokenizer.unk_token_id"
      ],
      "execution_count": 21,
      "outputs": [
        {
          "output_type": "execute_result",
          "data": {
            "text/plain": [
              "('[UNK]', 100)"
            ]
          },
          "metadata": {},
          "execution_count": 21
        }
      ]
    },
    {
      "cell_type": "code",
      "metadata": {
        "id": "eZhaUh5ANVI0",
        "colab": {
          "base_uri": "https://localhost:8080/"
        },
        "outputId": "3e5d21f0-0b7b-4446-f29e-fab50214d4b9"
      },
      "source": [
        "#Ignore warnings\n",
        "import warnings\n",
        "warnings.filterwarnings('ignore')\n",
        "encoding = tokenizer.encode_plus(\n",
        "  sample_txt,\n",
        "  max_length=32,\n",
        "  add_special_tokens=True, # Add '[CLS]' and '[SEP]'\n",
        "  return_token_type_ids=False,\n",
        "  pad_to_max_length=True,\n",
        "  return_attention_mask=True,\n",
        "  return_tensors='pt',  # Return PyTorch tensors\n",
        ")\n",
        "\n",
        "encoding.keys()"
      ],
      "execution_count": 22,
      "outputs": [
        {
          "output_type": "execute_result",
          "data": {
            "text/plain": [
              "dict_keys(['input_ids', 'attention_mask'])"
            ]
          },
          "metadata": {},
          "execution_count": 22
        }
      ]
    },
    {
      "cell_type": "code",
      "metadata": {
        "colab": {
          "base_uri": "https://localhost:8080/"
        },
        "id": "YacJAprGRjch",
        "outputId": "cac66367-8501-4b47-d339-165e5420a6a8"
      },
      "source": [
        "print(len(encoding['input_ids'][0]))\n",
        "encoding['input_ids'][0]"
      ],
      "execution_count": 23,
      "outputs": [
        {
          "output_type": "stream",
          "name": "stdout",
          "text": [
            "32\n"
          ]
        },
        {
          "output_type": "execute_result",
          "data": {
            "text/plain": [
              "tensor([ 101, 1332, 1108,  146, 1314, 1796,  136,  146, 1821, 5342, 1120, 1313,\n",
              "        1111,  123, 2277,  119,  102,    0,    0,    0,    0,    0,    0,    0,\n",
              "           0,    0,    0,    0,    0,    0,    0,    0])"
            ]
          },
          "metadata": {},
          "execution_count": 23
        }
      ]
    },
    {
      "cell_type": "code",
      "metadata": {
        "colab": {
          "base_uri": "https://localhost:8080/"
        },
        "id": "u2ipdxkpR4Qi",
        "outputId": "2fc9c4c8-238a-43b5-c828-b06e80e2f649"
      },
      "source": [
        "print(len(encoding['attention_mask'][0]))\n",
        "encoding['attention_mask']"
      ],
      "execution_count": 24,
      "outputs": [
        {
          "output_type": "stream",
          "name": "stdout",
          "text": [
            "32\n"
          ]
        },
        {
          "output_type": "execute_result",
          "data": {
            "text/plain": [
              "tensor([[1, 1, 1, 1, 1, 1, 1, 1, 1, 1, 1, 1, 1, 1, 1, 1, 1, 0, 0, 0, 0, 0, 0, 0,\n",
              "         0, 0, 0, 0, 0, 0, 0, 0]])"
            ]
          },
          "metadata": {},
          "execution_count": 24
        }
      ]
    },
    {
      "cell_type": "code",
      "metadata": {
        "colab": {
          "base_uri": "https://localhost:8080/"
        },
        "id": "iiIFz8HyR4Td",
        "outputId": "c9b64cdf-50e0-40fb-d833-9f756d51af41"
      },
      "source": [
        "tokenizer.convert_ids_to_tokens(encoding['input_ids'][0])"
      ],
      "execution_count": 25,
      "outputs": [
        {
          "output_type": "execute_result",
          "data": {
            "text/plain": [
              "['[CLS]',\n",
              " 'When',\n",
              " 'was',\n",
              " 'I',\n",
              " 'last',\n",
              " 'outside',\n",
              " '?',\n",
              " 'I',\n",
              " 'am',\n",
              " 'stuck',\n",
              " 'at',\n",
              " 'home',\n",
              " 'for',\n",
              " '2',\n",
              " 'weeks',\n",
              " '.',\n",
              " '[SEP]',\n",
              " '[PAD]',\n",
              " '[PAD]',\n",
              " '[PAD]',\n",
              " '[PAD]',\n",
              " '[PAD]',\n",
              " '[PAD]',\n",
              " '[PAD]',\n",
              " '[PAD]',\n",
              " '[PAD]',\n",
              " '[PAD]',\n",
              " '[PAD]',\n",
              " '[PAD]',\n",
              " '[PAD]',\n",
              " '[PAD]',\n",
              " '[PAD]']"
            ]
          },
          "metadata": {},
          "execution_count": 25
        }
      ]
    },
    {
      "cell_type": "code",
      "metadata": {
        "id": "ipqh1XZUR4Wz"
      },
      "source": [
        "token_lens = []\n",
        "for txt in df.content:\n",
        "  tokens = tokenizer.encode(txt, max_length=512)\n",
        "  token_lens.append(len(tokens))"
      ],
      "execution_count": 26,
      "outputs": []
    },
    {
      "cell_type": "code",
      "metadata": {
        "id": "DiDbHTnJSHtd"
      },
      "source": [
        "MAX_LEN = 160"
      ],
      "execution_count": 27,
      "outputs": []
    },
    {
      "cell_type": "code",
      "metadata": {
        "id": "5tF5lEdKSHwE"
      },
      "source": [
        "class ReviewDataset(Dataset):\n",
        "  def __init__(self, reviews, targets, tokenizer, max_len):\n",
        "    self.reviews = reviews\n",
        "    self.targets = targets\n",
        "    self.tokenizer = tokenizer\n",
        "    self.max_len = max_len\n",
        "  def __len__(self):\n",
        "    return len(self.reviews)\n",
        "  def __getitem__(self, item):\n",
        "    review = str(self.reviews[item])\n",
        "    target = self.targets[item]\n",
        "    encoding = self.tokenizer.encode_plus(\n",
        "      review,\n",
        "      add_special_tokens=True,\n",
        "      max_length=self.max_len,\n",
        "      return_token_type_ids=False,\n",
        "      pad_to_max_length=True,\n",
        "      return_attention_mask=True,\n",
        "      return_tensors='pt',\n",
        "    )\n",
        "    return {\n",
        "      'review_text': review,\n",
        "      'input_ids': encoding['input_ids'].flatten(),\n",
        "      'attention_mask': encoding['attention_mask'].flatten(),\n",
        "      'targets': torch.tensor(target, dtype=torch.long)\n",
        "    }"
      ],
      "execution_count": 28,
      "outputs": []
    },
    {
      "cell_type": "code",
      "metadata": {
        "id": "il6tQs80SH0j"
      },
      "source": [
        "df_train, df_test = train_test_split(df, test_size=0.1, random_state=RANDOM_SEED)\n",
        "df_val, df_test = train_test_split(df_test, test_size=0.5, random_state=RANDOM_SEED)"
      ],
      "execution_count": 29,
      "outputs": []
    },
    {
      "cell_type": "code",
      "metadata": {
        "colab": {
          "base_uri": "https://localhost:8080/"
        },
        "id": "86D4yu0BR4Za",
        "outputId": "434be559-8077-49f0-b398-4553a4844172"
      },
      "source": [
        "df_train.shape, df_val.shape, df_test.shape"
      ],
      "execution_count": 30,
      "outputs": [
        {
          "output_type": "execute_result",
          "data": {
            "text/plain": [
              "((14171, 12), (787, 12), (788, 12))"
            ]
          },
          "metadata": {},
          "execution_count": 30
        }
      ]
    },
    {
      "cell_type": "code",
      "metadata": {
        "id": "yjdnWM78Rjfg"
      },
      "source": [
        "def create_data_loader(df, tokenizer, max_len, batch_size):\n",
        "  ds = ReviewDataset(\n",
        "    reviews=df.content.to_numpy(),\n",
        "    targets=df.sentiment.to_numpy(),\n",
        "    tokenizer=tokenizer,\n",
        "    max_len=max_len\n",
        "  )\n",
        "\n",
        "  return DataLoader(\n",
        "    ds,\n",
        "    batch_size=batch_size,\n",
        "    num_workers=4\n",
        "  )"
      ],
      "execution_count": 31,
      "outputs": []
    },
    {
      "cell_type": "code",
      "metadata": {
        "id": "5aYV0-KeRjmY"
      },
      "source": [
        "BATCH_SIZE = 16\n",
        "\n",
        "train_data_loader = create_data_loader(df_train, tokenizer, MAX_LEN, BATCH_SIZE)\n",
        "val_data_loader = create_data_loader(df_val, tokenizer, MAX_LEN, BATCH_SIZE)\n",
        "test_data_loader = create_data_loader(df_test, tokenizer, MAX_LEN, BATCH_SIZE)"
      ],
      "execution_count": 32,
      "outputs": []
    },
    {
      "cell_type": "code",
      "metadata": {
        "colab": {
          "base_uri": "https://localhost:8080/"
        },
        "id": "yrUEChuSRjpA",
        "outputId": "55d91199-6edd-4140-e408-39bdb3e8a9c0"
      },
      "source": [
        "data = next(iter(train_data_loader))\n",
        "data.keys()"
      ],
      "execution_count": 33,
      "outputs": [
        {
          "output_type": "execute_result",
          "data": {
            "text/plain": [
              "dict_keys(['review_text', 'input_ids', 'attention_mask', 'targets'])"
            ]
          },
          "metadata": {},
          "execution_count": 33
        }
      ]
    },
    {
      "cell_type": "code",
      "metadata": {
        "colab": {
          "base_uri": "https://localhost:8080/"
        },
        "id": "I-Q8pzXDT13j",
        "outputId": "456cebbb-782b-480d-eb45-2eaa416f87f0"
      },
      "source": [
        "data['review_text']"
      ],
      "execution_count": 34,
      "outputs": [
        {
          "output_type": "execute_result",
          "data": {
            "text/plain": [
              "[\"You can't have your to do list as notifications\",\n",
              " \"I haven't been using this very long and it's not as user friendly as the Calender that came on my last phone.  I wish instead of dots you can just see what you have entered for that day immediately without tapping on that day.  Otherwise it is easy to use and functional.\",\n",
              " '1. Кривой и неработающий экспорт и импорт. 2. Нельзя удалить базовые навыки, заданий и характеристики. 3. Нельзя удалять сразу несколько навыков, заданий и характеристик. 4. Кнопка отчислить данные не удаляет всё, а только откатывает к базовым. Спустя пару месяцев снова установил приложение. Загрузил с автосохронерия данных - загрузилось всё базовое и с диска тоже самое (настройки тоже). Проверял после установки изменяя данные и сохраняя их потом. Итог: после загрузки зброс к базовым.',\n",
              " 'Love it so far. Wish it had a widget for Android though.',\n",
              " \"Liked the prioritization by dragging and the highlighting, but there does not seem to be a way to create recurring tasks. That's a deal -breaker for me. I'm uninstalling\",\n",
              " \"It's honestly very useful when studying or working by myself. It keeps me accountable for how much work I get done. Whenever I'm working and I don't like what I'm doing or it's hard or I cant focus or whatever I always try to distract myself from my phone so this is helpful. 10/10. Also the little trees are cute. I like to do a lot of short times so I can build up a forest instead of just one big tree\",\n",
              " 'I love it. But too expensive.',\n",
              " 'Good',\n",
              " 'A good tool to manage and remind me of my tasks',\n",
              " \"Honestly it's not a bad app at all.\",\n",
              " 'This sucks. I want wunderlist back.',\n",
              " \"Can't choose when to start. I like setting goals/habits for advance dates once I'm done with one+. Also, you can't edit a habit/goal to start over, you have to delete and start new. Doesn't save your previous habits/goals to do again.\",\n",
              " 'How does it work ?',\n",
              " \"Another simple app with a subscription plan... This is not the right strategy to attract more people... This kind of app should be a one time payment no more. Whatever the number of apps with this strategy, it doesn't make it a good one.\",\n",
              " \"Two things could be improved. 1. There should be a option if I want to view the tasks organized into sub-projects in a project view. (Concerning the last update) 2. The sub-tasks could be better organized. Maybe nested inside the options, just like in Microsoft's task app.\",\n",
              " 'App works good. But with the latest update, 25 seconds of ad.. for adding an appointment. Not recommended after the update.']"
            ]
          },
          "metadata": {},
          "execution_count": 34
        }
      ]
    },
    {
      "cell_type": "code",
      "metadata": {
        "colab": {
          "base_uri": "https://localhost:8080/"
        },
        "id": "V433u-oPT6sy",
        "outputId": "16d37c63-3818-41ce-d600-1d97451c8ed5"
      },
      "source": [
        "data['input_ids']"
      ],
      "execution_count": 35,
      "outputs": [
        {
          "output_type": "execute_result",
          "data": {
            "text/plain": [
              "tensor([[  101,  1192,  1169,  ...,     0,     0,     0],\n",
              "        [  101,   146,  3983,  ...,     0,     0,     0],\n",
              "        [  101,   122,   119,  ..., 17424, 28404,   102],\n",
              "        ...,\n",
              "        [  101,  2543,  3014,  ...,     0,     0,     0],\n",
              "        [  101,  1960,  1614,  ...,     0,     0,     0],\n",
              "        [  101,   138,  8661,  ...,     0,     0,     0]])"
            ]
          },
          "metadata": {},
          "execution_count": 35
        }
      ]
    },
    {
      "cell_type": "code",
      "metadata": {
        "colab": {
          "base_uri": "https://localhost:8080/"
        },
        "id": "2BGUsjYzT61U",
        "outputId": "daba44cd-a856-40a2-a6a9-a9a511335c32"
      },
      "source": [
        "data['attention_mask']"
      ],
      "execution_count": 36,
      "outputs": [
        {
          "output_type": "execute_result",
          "data": {
            "text/plain": [
              "tensor([[1, 1, 1,  ..., 0, 0, 0],\n",
              "        [1, 1, 1,  ..., 0, 0, 0],\n",
              "        [1, 1, 1,  ..., 1, 1, 1],\n",
              "        ...,\n",
              "        [1, 1, 1,  ..., 0, 0, 0],\n",
              "        [1, 1, 1,  ..., 0, 0, 0],\n",
              "        [1, 1, 1,  ..., 0, 0, 0]])"
            ]
          },
          "metadata": {},
          "execution_count": 36
        }
      ]
    },
    {
      "cell_type": "code",
      "metadata": {
        "colab": {
          "base_uri": "https://localhost:8080/"
        },
        "id": "7ur59DumT64j",
        "outputId": "3fe14eed-97ea-48e8-b66a-431978c19191"
      },
      "source": [
        "data['targets']"
      ],
      "execution_count": 37,
      "outputs": [
        {
          "output_type": "execute_result",
          "data": {
            "text/plain": [
              "tensor([0, 1, 1, 1, 0, 2, 1, 1, 2, 2, 0, 0, 0, 0, 2, 0])"
            ]
          },
          "metadata": {},
          "execution_count": 37
        }
      ]
    },
    {
      "cell_type": "code",
      "metadata": {
        "colab": {
          "base_uri": "https://localhost:8080/"
        },
        "id": "Lt7cC-5KT67e",
        "outputId": "68851618-885b-4afe-9a22-c2ce04916840"
      },
      "source": [
        "print(data['input_ids'].shape)\n",
        "print(data['attention_mask'].shape)\n",
        "print(data['targets'].shape)"
      ],
      "execution_count": 38,
      "outputs": [
        {
          "output_type": "stream",
          "name": "stdout",
          "text": [
            "torch.Size([16, 160])\n",
            "torch.Size([16, 160])\n",
            "torch.Size([16])\n"
          ]
        }
      ]
    },
    {
      "cell_type": "code",
      "metadata": {
        "id": "XHBIITrrUM-G"
      },
      "source": [
        "bert_model =BertModel.from_pretrained(\"bert-base-cased\")"
      ],
      "execution_count": 41,
      "outputs": []
    },
    {
      "cell_type": "code",
      "metadata": {
        "id": "4ryXRaGcUNB-"
      },
      "source": [
        "last_hidden_state, pooled_output = bert_model(input_ids=encoding['input_ids'], attention_mask=encoding['attention_mask'])"
      ],
      "execution_count": 43,
      "outputs": []
    },
    {
      "cell_type": "code",
      "metadata": {
        "colab": {
          "base_uri": "https://localhost:8080/"
        },
        "id": "pKPfXPFxUNMN",
        "outputId": "42148afe-c056-468b-c2f2-5792fedd51fc"
      },
      "source": [
        "last_hidden_state.shape"
      ],
      "execution_count": 44,
      "outputs": [
        {
          "output_type": "execute_result",
          "data": {
            "text/plain": [
              "torch.Size([1, 32, 768])"
            ]
          },
          "metadata": {},
          "execution_count": 44
        }
      ]
    },
    {
      "cell_type": "code",
      "metadata": {
        "colab": {
          "base_uri": "https://localhost:8080/"
        },
        "id": "T5pUTEa7Ud_-",
        "outputId": "af3100e8-f5fe-438f-cd07-ffbfa732d980"
      },
      "source": [
        "bert_model.config.hidden_size"
      ],
      "execution_count": 45,
      "outputs": [
        {
          "output_type": "execute_result",
          "data": {
            "text/plain": [
              "768"
            ]
          },
          "metadata": {},
          "execution_count": 45
        }
      ]
    },
    {
      "cell_type": "code",
      "metadata": {
        "colab": {
          "base_uri": "https://localhost:8080/"
        },
        "id": "Un-J3wiIUeC4",
        "outputId": "033f05b0-3964-44b7-faf5-63fbe4f36c3f"
      },
      "source": [
        "pooled_output.shape"
      ],
      "execution_count": 46,
      "outputs": [
        {
          "output_type": "execute_result",
          "data": {
            "text/plain": [
              "torch.Size([1, 768])"
            ]
          },
          "metadata": {},
          "execution_count": 46
        }
      ]
    },
    {
      "cell_type": "code",
      "metadata": {
        "id": "BsqZYeYjUeIu"
      },
      "source": [
        "class SentimentClassifier(nn.Module):\n",
        "\n",
        "  def __init__(self, n_classes):\n",
        "    super(SentimentClassifier, self).__init__()\n",
        "    self.bert = BertModel.from_pretrained(PRE_TRAINED_MODEL_NAME)\n",
        "    self.drop = nn.Dropout(p=0.3)\n",
        "    self.out = nn.Linear(self.bert.config.hidden_size, n_classes)\n",
        "  \n",
        "  def forward(self, input_ids, attention_mask):\n",
        "    _, pooled_output = self.bert(\n",
        "      input_ids=input_ids,\n",
        "      attention_mask=attention_mask\n",
        "    )\n",
        "    output = self.drop(pooled_output)\n",
        "    return self.out(output)"
      ],
      "execution_count": 47,
      "outputs": []
    },
    {
      "cell_type": "code",
      "metadata": {
        "id": "0Q10L_8ZUeMK"
      },
      "source": [
        "#Ignore warnings\n",
        "import warnings\n",
        "warnings.filterwarnings('ignore')\n",
        "class_names = ['negative', 'neutral', 'positive']\n",
        "model = SentimentClassifier(len(class_names))\n",
        "model = model.to(device)"
      ],
      "execution_count": 48,
      "outputs": []
    },
    {
      "cell_type": "code",
      "metadata": {
        "colab": {
          "base_uri": "https://localhost:8080/"
        },
        "id": "HgrTgcJFUNRi",
        "outputId": "06f1e892-572f-4ca3-d45e-6ea001d08722"
      },
      "source": [
        "input_ids = data['input_ids'].to(device)\n",
        "attention_mask = data['attention_mask'].to(device)\n",
        "\n",
        "print(input_ids.shape) # batch size x seq length\n",
        "print(attention_mask.shape) # batch size x seq length"
      ],
      "execution_count": 49,
      "outputs": [
        {
          "output_type": "stream",
          "name": "stdout",
          "text": [
            "torch.Size([16, 160])\n",
            "torch.Size([16, 160])\n"
          ]
        }
      ]
    },
    {
      "cell_type": "code",
      "metadata": {
        "colab": {
          "base_uri": "https://localhost:8080/"
        },
        "id": "bpv5zGfobBPT",
        "outputId": "251e029f-f750-480a-da44-0dbd659aec0b"
      },
      "source": [
        "input_ids\n"
      ],
      "execution_count": 50,
      "outputs": [
        {
          "output_type": "execute_result",
          "data": {
            "text/plain": [
              "tensor([[  101,  1192,  1169,  ...,     0,     0,     0],\n",
              "        [  101,   146,  3983,  ...,     0,     0,     0],\n",
              "        [  101,   122,   119,  ..., 17424, 28404,   102],\n",
              "        ...,\n",
              "        [  101,  2543,  3014,  ...,     0,     0,     0],\n",
              "        [  101,  1960,  1614,  ...,     0,     0,     0],\n",
              "        [  101,   138,  8661,  ...,     0,     0,     0]], device='cuda:0')"
            ]
          },
          "metadata": {},
          "execution_count": 50
        }
      ]
    },
    {
      "cell_type": "code",
      "metadata": {
        "colab": {
          "base_uri": "https://localhost:8080/"
        },
        "id": "-zcEMMsZT16X",
        "outputId": "101cb317-3d3f-43ba-9956-7ae5d35f506b"
      },
      "source": [
        "import torch.nn.functional as F\n",
        "F.softmax(model(input_ids, attention_mask), dim=1)"
      ],
      "execution_count": 52,
      "outputs": [
        {
          "output_type": "execute_result",
          "data": {
            "text/plain": [
              "tensor([[0.3009, 0.3976, 0.3015],\n",
              "        [0.1419, 0.5635, 0.2946],\n",
              "        [0.0952, 0.6887, 0.2162],\n",
              "        [0.1942, 0.5287, 0.2772],\n",
              "        [0.3200, 0.4220, 0.2579],\n",
              "        [0.1822, 0.5380, 0.2799],\n",
              "        [0.1258, 0.6787, 0.1955],\n",
              "        [0.1466, 0.6336, 0.2198],\n",
              "        [0.2893, 0.4409, 0.2698],\n",
              "        [0.1859, 0.5751, 0.2390],\n",
              "        [0.1739, 0.5150, 0.3111],\n",
              "        [0.2419, 0.4852, 0.2728],\n",
              "        [0.2253, 0.6274, 0.1473],\n",
              "        [0.1541, 0.6173, 0.2286],\n",
              "        [0.1841, 0.5939, 0.2220],\n",
              "        [0.2074, 0.4421, 0.3505]], device='cuda:0', grad_fn=<SoftmaxBackward>)"
            ]
          },
          "metadata": {},
          "execution_count": 52
        }
      ]
    },
    {
      "cell_type": "code",
      "metadata": {
        "id": "ThJ5oEjLT1_T"
      },
      "source": [
        "EPOCHS = 10\n",
        "optimizer = AdamW(model.parameters(), lr=2e-5, correct_bias=False)\n",
        "total_steps = len(train_data_loader) * EPOCHS\n",
        "scheduler = get_linear_schedule_with_warmup(\n",
        "  optimizer,\n",
        "  num_warmup_steps=0,\n",
        "  num_training_steps=total_steps\n",
        ")\n",
        "loss_fn = nn.CrossEntropyLoss().to(device)"
      ],
      "execution_count": 53,
      "outputs": []
    },
    {
      "cell_type": "code",
      "metadata": {
        "id": "eSfgkUL-gues"
      },
      "source": [
        "def train_epoch(\n",
        "  model,\n",
        "  data_loader,\n",
        "  loss_fn,\n",
        "  optimizer,\n",
        "  device,\n",
        "  scheduler,\n",
        "  n_examples\n",
        "):\n",
        "  model = model.train()\n",
        "  losses = []\n",
        "  correct_predictions = 0\n",
        "  for d in data_loader:\n",
        "    input_ids = d[\"input_ids\"].to(device)\n",
        "    attention_mask = d[\"attention_mask\"].to(device)\n",
        "    targets = d[\"targets\"].to(device)\n",
        "    outputs = model(\n",
        "      input_ids=input_ids,\n",
        "      attention_mask=attention_mask\n",
        "    )\n",
        "    _, preds = torch.max(outputs, dim=1)\n",
        "    loss = loss_fn(outputs, targets)\n",
        "    correct_predictions += torch.sum(preds == targets)\n",
        "    losses.append(loss.item())\n",
        "    loss.backward()\n",
        "    nn.utils.clip_grad_norm_(model.parameters(), max_norm=1.0)\n",
        "    optimizer.step()\n",
        "    scheduler.step()\n",
        "    optimizer.zero_grad()\n",
        "  return correct_predictions.double() / n_examples, np.mean(losses)"
      ],
      "execution_count": 54,
      "outputs": []
    },
    {
      "cell_type": "code",
      "metadata": {
        "id": "ifdOgxQIgugz"
      },
      "source": [
        "def eval_model(model, data_loader, loss_fn, device, n_examples):\n",
        "  model = model.eval()\n",
        "  losses = []\n",
        "  correct_predictions = 0\n",
        "  with torch.no_grad():\n",
        "    for d in data_loader:\n",
        "      input_ids = d[\"input_ids\"].to(device)\n",
        "      attention_mask = d[\"attention_mask\"].to(device)\n",
        "      targets = d[\"targets\"].to(device)\n",
        "      outputs = model(\n",
        "        input_ids=input_ids,\n",
        "        attention_mask=attention_mask\n",
        "      )\n",
        "      _, preds = torch.max(outputs, dim=1)\n",
        "      loss = loss_fn(outputs, targets)\n",
        "      correct_predictions += torch.sum(preds == targets)\n",
        "      losses.append(loss.item())\n",
        "  return correct_predictions.double() / n_examples, np.mean(losses)"
      ],
      "execution_count": 56,
      "outputs": []
    },
    {
      "cell_type": "code",
      "metadata": {
        "colab": {
          "base_uri": "https://localhost:8080/"
        },
        "id": "NGcOqi0zgukB",
        "outputId": "173ac6a4-c0cf-4509-e883-13ee16562399"
      },
      "source": [
        "history = defaultdict(list)\n",
        "best_accuracy = 0\n",
        "for epoch in range(EPOCHS):\n",
        "  print(f'Epoch {epoch + 1}/{EPOCHS}')\n",
        "  print('-' * 10)\n",
        "  train_acc, train_loss = train_epoch(\n",
        "    model,\n",
        "    train_data_loader,\n",
        "    loss_fn,\n",
        "    optimizer,\n",
        "    device,\n",
        "    scheduler,\n",
        "    len(df_train)\n",
        "  )\n",
        "  print(f'Train loss {train_loss} accuracy {train_acc}')\n",
        "  val_acc, val_loss = eval_model(\n",
        "    model,\n",
        "    val_data_loader,\n",
        "    loss_fn,\n",
        "    device,\n",
        "    len(df_val)\n",
        "  )\n",
        "  print(f'Val   loss {val_loss} accuracy {val_acc}')\n",
        "  print()\n",
        "  history['train_acc'].append(train_acc)\n",
        "  history['train_loss'].append(train_loss)\n",
        "  history['val_acc'].append(val_acc)\n",
        "  history['val_loss'].append(val_loss)\n",
        "  if val_acc > best_accuracy:\n",
        "    torch.save(model.state_dict(), 'best_model_state.bin')\n",
        "    best_accuracy = val_acc"
      ],
      "execution_count": 57,
      "outputs": [
        {
          "output_type": "stream",
          "name": "stdout",
          "text": [
            "Epoch 1/10\n",
            "----------\n",
            "Train loss 0.722731132875985 accuracy 0.6724296097664244\n",
            "Val   loss 0.5706080323457718 accuracy 0.770012706480305\n",
            "\n",
            "Epoch 2/10\n",
            "----------\n",
            "Train loss 0.3984482690700357 accuracy 0.8473643356149884\n",
            "Val   loss 0.5139238685369492 accuracy 0.8487928843710293\n",
            "\n",
            "Epoch 3/10\n",
            "----------\n",
            "Train loss 0.21709875583687574 accuracy 0.9290099498976784\n",
            "Val   loss 0.6756102313753217 accuracy 0.8564167725540026\n",
            "\n",
            "Epoch 4/10\n",
            "----------\n",
            "Train loss 0.1476871773139253 accuracy 0.9561781102251077\n",
            "Val   loss 0.669687732605962 accuracy 0.8716645489199493\n",
            "\n",
            "Epoch 5/10\n",
            "----------\n",
            "Train loss 0.10546839814204785 accuracy 0.9704325735657329\n",
            "Val   loss 0.7881995533849113 accuracy 0.8653113087674714\n",
            "\n",
            "Epoch 6/10\n",
            "----------\n",
            "Train loss 0.0829648284347855 accuracy 0.9773481052854421\n",
            "Val   loss 0.7649704495767946 accuracy 0.8805590851334181\n",
            "\n",
            "Epoch 7/10\n",
            "----------\n",
            "Train loss 0.060116252481596306 accuracy 0.9818643708983135\n",
            "Val   loss 0.8171172561001732 accuracy 0.8767471410419314\n",
            "\n",
            "Epoch 8/10\n",
            "----------\n",
            "Train loss 0.051917576588323425 accuracy 0.9846870369063581\n",
            "Val   loss 0.8011351794487563 accuracy 0.8818297331639137\n",
            "\n",
            "Epoch 9/10\n",
            "----------\n",
            "Train loss 0.042429070983716496 accuracy 0.9859572366099781\n",
            "Val   loss 0.8690778948977822 accuracy 0.8767471410419314\n",
            "\n",
            "Epoch 10/10\n",
            "----------\n",
            "Train loss 0.03479923064165862 accuracy 0.9870157363629949\n",
            "Val   loss 0.8665930174148525 accuracy 0.8818297331639137\n",
            "\n"
          ]
        }
      ]
    },
    {
      "cell_type": "code",
      "metadata": {
        "colab": {
          "base_uri": "https://localhost:8080/"
        },
        "id": "zTPgCX0bgun3",
        "outputId": "faf00c7e-8be5-4898-8e18-39468418abe0"
      },
      "source": [
        "test_acc, _ = eval_model(\n",
        "  model,\n",
        "  test_data_loader,\n",
        "  loss_fn,\n",
        "  device,\n",
        "  len(df_test)\n",
        ")\n",
        "test_acc.item()\n",
        "0.883248730964467"
      ],
      "execution_count": 58,
      "outputs": [
        {
          "output_type": "execute_result",
          "data": {
            "text/plain": [
              "0.883248730964467"
            ]
          },
          "metadata": {},
          "execution_count": 58
        }
      ]
    },
    {
      "cell_type": "code",
      "metadata": {
        "id": "zW0IiwMGgurV"
      },
      "source": [
        "def get_predictions(model, data_loader):\n",
        "  model = model.eval()\n",
        "  review_texts = []\n",
        "  predictions = []\n",
        "  prediction_probs = []\n",
        "  real_values = []\n",
        "  with torch.no_grad():\n",
        "    for d in data_loader:\n",
        "      texts = d[\"review_text\"]\n",
        "      input_ids = d[\"input_ids\"].to(device)\n",
        "      attention_mask = d[\"attention_mask\"].to(device)\n",
        "      targets = d[\"targets\"].to(device)\n",
        "      outputs = model(\n",
        "        input_ids=input_ids,\n",
        "        attention_mask=attention_mask\n",
        "      )\n",
        "      _, preds = torch.max(outputs, dim=1)\n",
        "      review_texts.extend(texts)\n",
        "      predictions.extend(preds)\n",
        "      prediction_probs.extend(outputs)\n",
        "      real_values.extend(targets)\n",
        "  predictions = torch.stack(predictions).cpu()\n",
        "  prediction_probs = torch.stack(prediction_probs).cpu()\n",
        "  real_values = torch.stack(real_values).cpu()\n",
        "  return review_texts, predictions, prediction_probs, real_values"
      ],
      "execution_count": 59,
      "outputs": []
    },
    {
      "cell_type": "code",
      "metadata": {
        "id": "hc3XzuYfguu-"
      },
      "source": [
        "y_review_texts, y_pred, y_pred_probs, y_test = get_predictions(\n",
        "  model,\n",
        "  test_data_loader\n",
        ")"
      ],
      "execution_count": 60,
      "outputs": []
    },
    {
      "cell_type": "code",
      "metadata": {
        "colab": {
          "base_uri": "https://localhost:8080/"
        },
        "id": "WYoi_cKX-h7T",
        "outputId": "db1346b6-b2c6-4fd1-c800-6524c9c37278"
      },
      "source": [
        "print(classification_report(y_test, y_pred, target_names=class_names))"
      ],
      "execution_count": 61,
      "outputs": [
        {
          "output_type": "stream",
          "name": "stdout",
          "text": [
            "              precision    recall  f1-score   support\n",
            "\n",
            "    negative       0.90      0.85      0.87       245\n",
            "     neutral       0.82      0.87      0.84       254\n",
            "    positive       0.92      0.92      0.92       289\n",
            "\n",
            "    accuracy                           0.88       788\n",
            "   macro avg       0.88      0.88      0.88       788\n",
            "weighted avg       0.88      0.88      0.88       788\n",
            "\n"
          ]
        }
      ]
    },
    {
      "cell_type": "code",
      "metadata": {
        "id": "MovaJ8Dv-qwa"
      },
      "source": [
        "idx = 2\n",
        "review_text = y_review_texts[idx]\n",
        "true_sentiment = y_test[idx]\n",
        "pred_df = pd.DataFrame({\n",
        "  'class_names': class_names,\n",
        "  'values': y_pred_probs[idx]\n",
        "})"
      ],
      "execution_count": 62,
      "outputs": []
    },
    {
      "cell_type": "code",
      "metadata": {
        "id": "F_n0WpB_-qzi"
      },
      "source": [
        "review_text = \"I love completing my todos! Best app ever!!!\""
      ],
      "execution_count": 63,
      "outputs": []
    },
    {
      "cell_type": "code",
      "metadata": {
        "id": "0xw1EsWB-q4O"
      },
      "source": [
        "encoded_review = tokenizer.encode_plus(\n",
        "  review_text,\n",
        "  max_length=MAX_LEN,\n",
        "  add_special_tokens=True,\n",
        "  return_token_type_ids=False,\n",
        "  pad_to_max_length=True,\n",
        "  return_attention_mask=True,\n",
        "  return_tensors='pt',\n",
        ")"
      ],
      "execution_count": 64,
      "outputs": []
    },
    {
      "cell_type": "code",
      "metadata": {
        "colab": {
          "base_uri": "https://localhost:8080/"
        },
        "id": "Qhxz397H-q7m",
        "outputId": "7cdf758f-4e7a-4daa-f637-dad467d638bf"
      },
      "source": [
        "input_ids = encoded_review['input_ids'].to(device)\n",
        "attention_mask = encoded_review['attention_mask'].to(device)\n",
        "output = model(input_ids, attention_mask)\n",
        "_, prediction = torch.max(output, dim=1)\n",
        "print(f'Review text: {review_text}')\n",
        "print(f'Sentiment  : {class_names[prediction]}')"
      ],
      "execution_count": 65,
      "outputs": [
        {
          "output_type": "stream",
          "name": "stdout",
          "text": [
            "Review text: I love completing my todos! Best app ever!!!\n",
            "Sentiment  : positive\n"
          ]
        }
      ]
    },
    {
      "cell_type": "code",
      "metadata": {
        "id": "yM5D4rF0BePJ"
      },
      "source": [
        "data2='Absolute must see documentary for anyone interested in getting to the bottom of this story. Told with unflinching eye and with gripping style. If you think conspiracy theories are for paranoid disturbed people, this could change your mind. Something for you feds too: A good model for government coverups! If you like your news all tidy and easy to consume this is not for you.'"
      ],
      "execution_count": 75,
      "outputs": []
    },
    {
      "cell_type": "code",
      "metadata": {
        "id": "hLBLDwAnBeRy"
      },
      "source": [
        "data3=\"I have decided to not believe what famous movie critics say. Even though this movie did not get the best comments, this movie made my day. It got me thinking. What a false world this is.<br /><br />What do you do when your most loved ones deceive you. It's said that no matter how often you feed milk to a snake, it can never be loyal and will bite when given a chance. Same way some people are such that they are never grateful. This movie is about how selfish people can be and how everyone is ultimately just thinking about oneself and working for oneself. <br /><br />A brother dies inadvertently at the hands of a gangster. The surviving brother decides to take revenge. Through this process, we learn about the futility of this world. Nothing is real and no one is loyal to anyone.<br /><br />Amitabh gave the performance of his life. The new actor Aryan gave a good performance. The actress who played the wife of Amitabh stole the show. Her role was small but she portrayed her role so diligently that one is moved by her performance. Chawla had really great face expressions but her role was very limited and was not given a chance to fully express herself.<br /><br />A great movie by Raj Kumar Santoshi. His movies always give some message to the audience. His movies are like novels of Nanak Singh (a Punjabi novelist who's novels always had a purpose and targeted a social evil) because they have a real message for the audience. They are entertaining as well as lesson-giving.\""
      ],
      "execution_count": 78,
      "outputs": []
    },
    {
      "cell_type": "code",
      "metadata": {
        "id": "LJzd-artBeUb"
      },
      "source": [
        "data4='After a very scary, crude opening which gives you that creepy \"Chainsaw massacre\"-feeling, everything falls apart.<br /><br />SPOILER ALERT: As soon as the two FBI-officers start jabbing, you know they are the real killers. Anyone who have seen enough of these \"fooled-ya\"-movies can figure this out.<br /><br />This movie is mader with one thing in mind: To depict brutal murders. Why, then, is not the little girl tortured and murdered as well? Will this be next for us movie-goers? The torture and abuse of children? Whats wrong with you people? Lynch is truly has a disgusting, ugly mind.'\n"
      ],
      "execution_count": 77,
      "outputs": []
    },
    {
      "cell_type": "code",
      "metadata": {
        "id": "aFW3gH_FBeWn"
      },
      "source": [
        "data5=\"I can't say much about this film. I think it speaks for itself (as do the current ratings on here). I rented this about two years ago and I totally regretted it. I even /tried/ to like it by watching it twice, but I just couldn't. I can safely say that I have absolutely no desire to see this waste of time ever, ever again. And I'm not one to trash a movie, but I truly believe this was awful. It wasn't even funny in the slightest. The only bits I enjoyed were the few scenes with Christopher Walken in them. I think this film ruined both Jack Black and Ben Stiller for me. All I can think of when I see one of their films now-a-days is this terrible movie, and it reminds me not to waste my money. Amy Poehler is so very annoying, too.<br /><br />Overall, well, I think you get my point. The stars are for Walken, by the way.\""
      ],
      "execution_count": 80,
      "outputs": []
    },
    {
      "cell_type": "code",
      "metadata": {
        "id": "CQaMtx8mBeaq"
      },
      "source": [
        "data6=\"I am not so old that I can't remember laughing at Bobcat Goldthwait a couple times. But some where in all his years of drug abuse he lost his sense of humor as well as his brain cells.<br /><br />From the moment this film opens you can have no sympathy nor empathy for the female lead. Neither will you find anything remotely funny after hearing the opening line. Goldthwait obviously hates himself so much that he needs to degrade in order to feel better- even if it is his own imaginary characters he degrades. <br /><br />If you ever saw Shakes the Clown you know how unfunny Bobcat was 15 years ago...this movie is worse. It was not even funny by accident It is sad, pathetic and a total waste of time. May Goldthwaits' hands be rendered paralyzed so he can not write another script. Strike his tongue so he can not dictate another unfunny scene. He is sad and pathetic and needs to make room for a new talent dying to get into Hollywood\"\n"
      ],
      "execution_count": 82,
      "outputs": []
    },
    {
      "cell_type": "code",
      "metadata": {
        "id": "0Il6VZDCBegr"
      },
      "source": [
        "data7='In New Orleans, an illegal immigrant feels sick and leaves a poker game while winning the smalltime criminal Blackie (Walter Jack Palance). He is chased by Blackie and his men Raymond Fitch (Zero Mostel) and Poldi (Guy Thomajan), killed by Blackie and his body is dumped in the sea. During the autopsy, the family man Lieutenant Commander Dr. Clinton Reed (Richard Widmark) of the U.S. Public Health Service finds that the dead man had pneumonic plague caused by rats and he needs to find who had any type of contact with the man within forty-eight hours to avoid an epidemic. The City Mayor assigns the skeptical Captain Tom Warren (Paul Douglas) to help Dr. Clint to find the killers that are infected with the plague and inoculate them.<br /><br />\"Panic in the Streets\" discloses a simple story, but it is still effective and with a great villain. The engaging plot has not become dated after fifty-seven years. Jack Palance performs a despicable scum in his debut, and the camera work while he tries to escape with Zero Mostel is still very impressive.'"
      ],
      "execution_count": 85,
      "outputs": []
    },
    {
      "cell_type": "code",
      "metadata": {
        "id": "FKD_fPdQBeja"
      },
      "source": [
        "data8=\"The box is why I originally picked up this movie and the back is why I rented it. But I soon learned that I had been duped. I had thought this movie would be something like a Road Trip/Eurotrip/American Pie deal. But I was wrong. This movie is one of the dumbest I've seen in a long time. The unrated version teases you in to watching but will completely disappoint you. The acting was terrible and sound effects just gaudy. It appeared very low budget with the entire setting taking place in the same building. Go out and get Eurotrip or Road Trip instead. I can't believe National Lampoon put its name on this. DON'T BUY IT, DON'T RENT IT. Don't waste 2 hours of your life on this.\"\n"
      ],
      "execution_count": 87,
      "outputs": []
    },
    {
      "cell_type": "code",
      "metadata": {
        "id": "yNIeiBQyDny9"
      },
      "source": [
        "data9=\"There have been many documentaries that I have seen in which it appeared that the law was on the wrong side of the fence - The Thin Blue Line and Paradise Lost come to mind first and foremost. But this is the first film that had me seething with anger after I saw it. It seems blatantly clear to me from the evidence presented in this film that what happened at Waco was at the very least an unprofessional and sloppy mess on the part of the FBI and AFI, and at the very worst an act of murder. Like most people, when the siege at Waco was occurring I assumed that David Koresh was a completely evil madman who was leading a violent cult. After seeing this, I think that Koresh was more likely a slightly unbalanced and confused guy who inadvertently caught the attention of the U.S. government through his eccentric actions. Sure, there were lots of weapons at the Branch Davidian compound. But none of it was illegal. It was absolutely heartbreaking to see the video footage of the people inside the compound, all of them seeming to be very nice and harmless. And it was angering to see the callous testimony of the men in charge of the government forces on the Waco site, the clueless testimony of Janet Reno, and the partisan defense of the attack on Waco, a defense led by a few of the committee Democrats. Standing out most in my mind was NY representative and current U.S. senator from NY Charles Schumer. I voted for the man when I lived in NY state - I'm a Democrat, pretty left-leaning too. After seeing his actions on this committee, I wish I could go back in time and vote for D'Amato instead! For anyone remotely interested in the government, this is a very crucial film, a must see. I even think this should be shown in classes - it's that important.\""
      ],
      "execution_count": 89,
      "outputs": []
    },
    {
      "cell_type": "code",
      "metadata": {
        "id": "hMR8wWsoDn1K"
      },
      "source": [
        "data10=\"I saw this movie last night and thought it was decent. It has it's moments I guess you would say. Some of the scenes with the special ops forces were cool, and some of the location shots were very authentic. I won't be putting this movie in my DVD collection but it is fair enough to recommend for renting. I guess nothing set the movie at another level compared to others of the same genre. The action is good, the acting is decent, the women are extremely seductive and exotic in my opinion, and the story is pretty interesting. 7 out of ten\""
      ],
      "execution_count": 90,
      "outputs": []
    },
    {
      "cell_type": "code",
      "metadata": {
        "id": "TGt3mudXDn5t"
      },
      "source": [
        "data11=\"Yes, I call this a perfect movie. Not one boring second, a fantastic cast of mostly little known actresses and actors, a great array of characters who are all well defined and who all have understandable motives I could sympathize with, perfect lighting, crisp black and white photography, a fitting soundtrack, an intelligent and harmonious set design and a story that is engaging and works. It's one of those prime quality pictures on which all the pride of Hollywood should rest, the mark everyone should endeavor to reach.<br /><br />Barbara Stanwyck is simply stunning. There was nothing this actress couldn't do, and she always went easy on the melodramatic side. No hysterical outbursts with this lady - I always thought she was a better actress than screen goddesses like Bette Davis or Joan Crawford, and this movie confirmed my opinion. Always as tough as nails and at the same time conveying true sentiments. It is fair to add that she also got many good parts during her long career, and this one is by far the least interesting.<br /><br />The title fits this movie very well. It is about desires, human desires I think everyone can understand. Actually, no one seems to be scheming in this movie, all characters act on impulse, everybody wants to be happy without hurting anybody else. The sad fact that this more often than not leads to complications makes for the dramatic content into which I will not go here.<br /><br />I liked what this movie has to say about youth, about maturing and about the necessity to compromise. The movie I associate most with this one is Alfred Hitchcock's Shadow of a Doubt, it creates a similar atmosphere of idealized and at the same time caricatured Small Town America. The story has a certain similarity with Fritz Lang's considerably harsher movie Clash by Night, made one year earlier, where Stanywck stars in a similar part. I can also recommend it.\"\n"
      ],
      "execution_count": 92,
      "outputs": []
    },
    {
      "cell_type": "code",
      "metadata": {
        "id": "bMFhd9rODn7-"
      },
      "source": [
        "data12=\"I would like to know if anyone know how I can get a copy of the movie,  It's been about 30 years since I've seen this movie, and I would like to see it again. Earth Wind & Fire transcend the nation globally with their inspirational music and themes. It was unfortunate that this group didn't take off like their counterparts in the early 70's, but as previously stated, racial tension existed in the United States which prohibited equalized exposure for the African American musical groups. It is good to see that Earth Wind & Fire continuing their success. I would like to add this movie to my collection. Someone please help me if possible. Thank you for your attention.\"\n"
      ],
      "execution_count": 97,
      "outputs": []
    },
    {
      "cell_type": "code",
      "metadata": {
        "id": "hGPZacABDtc7"
      },
      "source": [
        "data13=\"I saw the movie Hoot and then I immediately decided to comment it. The truth is that NATURE needs protection from us because we are the dominant specie of this planet. Some people think that if they have money, they can do whatever they want to, which probably is like, but if they think about the future more then they think about themselves they would do something useful! This movie is not just about kids, this movie is showing us that the kids are usually the ones that care more about it then the adults do. When I was twelve, I saw some waterlilies and I knew they are protected by law and didn't even dare to touch them not fearing of the law, but fearing that I might harm them actually. (I am currently 15) What so ever, the acting was great, the 3 main characters are well interpreted and we all have to learn from them. I hope you all think about what you saw in that movie!!! and Enjoy!\"\n"
      ],
      "execution_count": 100,
      "outputs": []
    },
    {
      "cell_type": "code",
      "metadata": {
        "id": "4MI9zc4LDtfM"
      },
      "source": [
        "data14='I had some reservations about this movie, I figured it would be the usual bill of fare --- a formula movie about Christmas. Being in the middle of a heat wave in late June, we decided to give it a shot anyway, maybe we would see some snow.<br /><br />This movie turned out to be one laugh after another. Ben Affleck was believable in his character, but the real star of this one is James Gandofini. He delivered his lines with a real wit about him and made a great \"dad\".<br /><br />If you want to have an enjoyable couple of hours, definitely check this one out.'\n"
      ],
      "execution_count": 101,
      "outputs": []
    },
    {
      "cell_type": "code",
      "metadata": {
        "id": "mj2MybA-DthH"
      },
      "source": [
        "data15=\"When I first saw this film around 6 months ago, I considered it interesting, but little more. But it stuck with me. That interest grew and grew, and I wondered whether my initial boredom and response had more to do with the actual VHS quality rather than the film itself. I purchased the Criterion DVD box set, and it turns out that I was right the second time. Alexander Nevsky is a great film. It is rousing, and I'm sure it succeeded in its main aim: propaganda against the Germans.<br /><br />That is the most common criticism against this film, and against Eisenstein, that it is merely propagandist and nothing else. It's untrue. He is an amazing film artist, one of the most important whoever lived. By now, the world is far enough beyond Joseph Stalin to be able to watch Eisenstein's films as art.\"\n"
      ],
      "execution_count": 103,
      "outputs": []
    },
    {
      "cell_type": "code",
      "metadata": {
        "id": "YvVl-4FJD0Ih"
      },
      "source": [
        "encoded_review1 = tokenizer.encode_plus(\n",
        "  data2,\n",
        "  max_length=MAX_LEN,\n",
        "  add_special_tokens=True,\n",
        "  return_token_type_ids=False,\n",
        "  pad_to_max_length=True,\n",
        "  return_attention_mask=True,\n",
        "  return_tensors='pt',\n",
        ")"
      ],
      "execution_count": 130,
      "outputs": []
    },
    {
      "cell_type": "code",
      "metadata": {
        "id": "jMSNO-r_F7-M"
      },
      "source": [
        "encoded_review2 = tokenizer.encode_plus(\n",
        "  data3,\n",
        "  max_length=MAX_LEN,\n",
        "  add_special_tokens=True,\n",
        "  return_token_type_ids=False,\n",
        "  pad_to_max_length=True,\n",
        "  return_attention_mask=True,\n",
        "  return_tensors='pt',\n",
        ")"
      ],
      "execution_count": 131,
      "outputs": []
    },
    {
      "cell_type": "code",
      "metadata": {
        "id": "xxFszI5YF8A-"
      },
      "source": [
        "encoded_review3 = tokenizer.encode_plus(\n",
        "  data4,\n",
        "  max_length=MAX_LEN,\n",
        "  add_special_tokens=True,\n",
        "  return_token_type_ids=False,\n",
        "  pad_to_max_length=True,\n",
        "  return_attention_mask=True,\n",
        "  return_tensors='pt',\n",
        ")"
      ],
      "execution_count": 132,
      "outputs": []
    },
    {
      "cell_type": "code",
      "metadata": {
        "id": "1EWys7_uF8D7"
      },
      "source": [
        "encoded_review4 = tokenizer.encode_plus(\n",
        "  data5,\n",
        "  max_length=MAX_LEN,\n",
        "  add_special_tokens=True,\n",
        "  return_token_type_ids=False,\n",
        "  pad_to_max_length=True,\n",
        "  return_attention_mask=True,\n",
        "  return_tensors='pt',\n",
        ")"
      ],
      "execution_count": 133,
      "outputs": []
    },
    {
      "cell_type": "code",
      "metadata": {
        "id": "rQATkvhBF8GW"
      },
      "source": [
        "encoded_review5 = tokenizer.encode_plus(\n",
        "  data6,\n",
        "  max_length=MAX_LEN,\n",
        "  add_special_tokens=True,\n",
        "  return_token_type_ids=False,\n",
        "  pad_to_max_length=True,\n",
        "  return_attention_mask=True,\n",
        "  return_tensors='pt',\n",
        ")"
      ],
      "execution_count": 134,
      "outputs": []
    },
    {
      "cell_type": "code",
      "metadata": {
        "id": "QAYoYhXPF8Pk"
      },
      "source": [
        "encoded_review6 = tokenizer.encode_plus(\n",
        "  data7,\n",
        "  max_length=MAX_LEN,\n",
        "  add_special_tokens=True,\n",
        "  return_token_type_ids=False,\n",
        "  pad_to_max_length=True,\n",
        "  return_attention_mask=True,\n",
        "  return_tensors='pt',\n",
        ")"
      ],
      "execution_count": 135,
      "outputs": []
    },
    {
      "cell_type": "code",
      "metadata": {
        "id": "0M8R-ZXWF-Z3"
      },
      "source": [
        "encoded_review7 = tokenizer.encode_plus(\n",
        "  data8,\n",
        "  max_length=MAX_LEN,\n",
        "  add_special_tokens=True,\n",
        "  return_token_type_ids=False,\n",
        "  pad_to_max_length=True,\n",
        "  return_attention_mask=True,\n",
        "  return_tensors='pt',\n",
        ")"
      ],
      "execution_count": 136,
      "outputs": []
    },
    {
      "cell_type": "code",
      "metadata": {
        "id": "7kK1BhpJF-eO"
      },
      "source": [
        "encoded_review8 = tokenizer.encode_plus(\n",
        "  data9,\n",
        "  max_length=MAX_LEN,\n",
        "  add_special_tokens=True,\n",
        "  return_token_type_ids=False,\n",
        "  pad_to_max_length=True,\n",
        "  return_attention_mask=True,\n",
        "  return_tensors='pt',\n",
        ")"
      ],
      "execution_count": 137,
      "outputs": []
    },
    {
      "cell_type": "code",
      "metadata": {
        "id": "c7lVQ12XF-g2"
      },
      "source": [
        "encoded_review9 = tokenizer.encode_plus(\n",
        "  data10,\n",
        "  max_length=MAX_LEN,\n",
        "  add_special_tokens=True,\n",
        "  return_token_type_ids=False,\n",
        "  pad_to_max_length=True,\n",
        "  return_attention_mask=True,\n",
        "  return_tensors='pt',\n",
        ")"
      ],
      "execution_count": 138,
      "outputs": []
    },
    {
      "cell_type": "code",
      "metadata": {
        "id": "QHfpQq6XF-jt"
      },
      "source": [
        "encoded_review10 = tokenizer.encode_plus(\n",
        "  data11,\n",
        "  max_length=MAX_LEN,\n",
        "  add_special_tokens=True,\n",
        "  return_token_type_ids=False,\n",
        "  pad_to_max_length=True,\n",
        "  return_attention_mask=True,\n",
        "  return_tensors='pt',\n",
        ")"
      ],
      "execution_count": 139,
      "outputs": []
    },
    {
      "cell_type": "code",
      "metadata": {
        "colab": {
          "base_uri": "https://localhost:8080/"
        },
        "id": "eThWI5EuI0ev",
        "outputId": "1aa5d3b7-36f8-4106-a754-6d8d40ba3881"
      },
      "source": [
        "input_ids = encoded_review1['input_ids'].to(device)\n",
        "attention_mask = encoded_review1['attention_mask'].to(device)\n",
        "output = model(input_ids, attention_mask)\n",
        "_, prediction = torch.max(output, dim=1)\n",
        "print(f'Review text: {data2}')\n",
        "print(f'Sentiment  : {class_names[prediction]}')"
      ],
      "execution_count": 140,
      "outputs": [
        {
          "output_type": "stream",
          "name": "stdout",
          "text": [
            "Review text: Absolute must see documentary for anyone interested in getting to the bottom of this story. Told with unflinching eye and with gripping style. If you think conspiracy theories are for paranoid disturbed people, this could change your mind. Something for you feds too: A good model for government coverups! If you like your news all tidy and easy to consume this is not for you.\n",
            "Sentiment  : neutral\n"
          ]
        }
      ]
    },
    {
      "cell_type": "code",
      "metadata": {
        "colab": {
          "base_uri": "https://localhost:8080/"
        },
        "id": "9iaB7Cr6I0hl",
        "outputId": "85a24b66-7392-4c10-c5e2-7d71fee09021"
      },
      "source": [
        "input_ids = encoded_review2['input_ids'].to(device)\n",
        "attention_mask = encoded_review2['attention_mask'].to(device)\n",
        "output = model(input_ids, attention_mask)\n",
        "_, prediction = torch.max(output, dim=1)\n",
        "print(f'Review text: {data3}')\n",
        "print(f'Sentiment  : {class_names[prediction]}')"
      ],
      "execution_count": 141,
      "outputs": [
        {
          "output_type": "stream",
          "name": "stdout",
          "text": [
            "Review text: I have decided to not believe what famous movie critics say. Even though this movie did not get the best comments, this movie made my day. It got me thinking. What a false world this is.<br /><br />What do you do when your most loved ones deceive you. It's said that no matter how often you feed milk to a snake, it can never be loyal and will bite when given a chance. Same way some people are such that they are never grateful. This movie is about how selfish people can be and how everyone is ultimately just thinking about oneself and working for oneself. <br /><br />A brother dies inadvertently at the hands of a gangster. The surviving brother decides to take revenge. Through this process, we learn about the futility of this world. Nothing is real and no one is loyal to anyone.<br /><br />Amitabh gave the performance of his life. The new actor Aryan gave a good performance. The actress who played the wife of Amitabh stole the show. Her role was small but she portrayed her role so diligently that one is moved by her performance. Chawla had really great face expressions but her role was very limited and was not given a chance to fully express herself.<br /><br />A great movie by Raj Kumar Santoshi. His movies always give some message to the audience. His movies are like novels of Nanak Singh (a Punjabi novelist who's novels always had a purpose and targeted a social evil) because they have a real message for the audience. They are entertaining as well as lesson-giving.\n",
            "Sentiment  : negative\n"
          ]
        }
      ]
    },
    {
      "cell_type": "code",
      "metadata": {
        "colab": {
          "base_uri": "https://localhost:8080/"
        },
        "id": "DK3l3lF7I0kk",
        "outputId": "96de25a9-dc14-4645-b025-7462d1c7d97a"
      },
      "source": [
        "input_ids = encoded_review3['input_ids'].to(device)\n",
        "attention_mask = encoded_review3['attention_mask'].to(device)\n",
        "output = model(input_ids, attention_mask)\n",
        "_, prediction = torch.max(output, dim=1)\n",
        "print(f'Review text: {data4}')\n",
        "print(f'Sentiment  : {class_names[prediction]}')"
      ],
      "execution_count": 142,
      "outputs": [
        {
          "output_type": "stream",
          "name": "stdout",
          "text": [
            "Review text: After a very scary, crude opening which gives you that creepy \"Chainsaw massacre\"-feeling, everything falls apart.<br /><br />SPOILER ALERT: As soon as the two FBI-officers start jabbing, you know they are the real killers. Anyone who have seen enough of these \"fooled-ya\"-movies can figure this out.<br /><br />This movie is mader with one thing in mind: To depict brutal murders. Why, then, is not the little girl tortured and murdered as well? Will this be next for us movie-goers? The torture and abuse of children? Whats wrong with you people? Lynch is truly has a disgusting, ugly mind.\n",
            "Sentiment  : negative\n"
          ]
        }
      ]
    },
    {
      "cell_type": "code",
      "metadata": {
        "colab": {
          "base_uri": "https://localhost:8080/"
        },
        "id": "9i9T4zo7I442",
        "outputId": "d9e044b9-c65b-4401-a2d5-1f3e770ddf76"
      },
      "source": [
        "input_ids = encoded_review4['input_ids'].to(device)\n",
        "attention_mask = encoded_review4['attention_mask'].to(device)\n",
        "output = model(input_ids, attention_mask)\n",
        "_, prediction = torch.max(output, dim=1)\n",
        "print(f'Review text: {data5}')\n",
        "print(f'Sentiment  : {class_names[prediction]}')"
      ],
      "execution_count": 143,
      "outputs": [
        {
          "output_type": "stream",
          "name": "stdout",
          "text": [
            "Review text: I can't say much about this film. I think it speaks for itself (as do the current ratings on here). I rented this about two years ago and I totally regretted it. I even /tried/ to like it by watching it twice, but I just couldn't. I can safely say that I have absolutely no desire to see this waste of time ever, ever again. And I'm not one to trash a movie, but I truly believe this was awful. It wasn't even funny in the slightest. The only bits I enjoyed were the few scenes with Christopher Walken in them. I think this film ruined both Jack Black and Ben Stiller for me. All I can think of when I see one of their films now-a-days is this terrible movie, and it reminds me not to waste my money. Amy Poehler is so very annoying, too.<br /><br />Overall, well, I think you get my point. The stars are for Walken, by the way.\n",
            "Sentiment  : negative\n"
          ]
        }
      ]
    },
    {
      "cell_type": "code",
      "metadata": {
        "colab": {
          "base_uri": "https://localhost:8080/"
        },
        "id": "kpnNfLZ7I472",
        "outputId": "881dddfd-8a15-4f4d-deca-7ed32a2edc26"
      },
      "source": [
        "input_ids = encoded_review5['input_ids'].to(device)\n",
        "attention_mask = encoded_review5['attention_mask'].to(device)\n",
        "output = model(input_ids, attention_mask)\n",
        "_, prediction = torch.max(output, dim=1)\n",
        "print(f'Review text: {data6}')\n",
        "print(f'Sentiment  : {class_names[prediction]}')"
      ],
      "execution_count": 144,
      "outputs": [
        {
          "output_type": "stream",
          "name": "stdout",
          "text": [
            "Review text: I am not so old that I can't remember laughing at Bobcat Goldthwait a couple times. But some where in all his years of drug abuse he lost his sense of humor as well as his brain cells.<br /><br />From the moment this film opens you can have no sympathy nor empathy for the female lead. Neither will you find anything remotely funny after hearing the opening line. Goldthwait obviously hates himself so much that he needs to degrade in order to feel better- even if it is his own imaginary characters he degrades. <br /><br />If you ever saw Shakes the Clown you know how unfunny Bobcat was 15 years ago...this movie is worse. It was not even funny by accident It is sad, pathetic and a total waste of time. May Goldthwaits' hands be rendered paralyzed so he can not write another script. Strike his tongue so he can not dictate another unfunny scene. He is sad and pathetic and needs to make room for a new talent dying to get into Hollywood\n",
            "Sentiment  : negative\n"
          ]
        }
      ]
    },
    {
      "cell_type": "code",
      "metadata": {
        "colab": {
          "base_uri": "https://localhost:8080/"
        },
        "id": "z6APk9eHI4-i",
        "outputId": "ef4b8a3d-8fb5-4d90-ee94-f678df9bbe92"
      },
      "source": [
        "input_ids = encoded_review6['input_ids'].to(device)\n",
        "attention_mask = encoded_review6['attention_mask'].to(device)\n",
        "output = model(input_ids, attention_mask)\n",
        "_, prediction = torch.max(output, dim=1)\n",
        "print(f'Review text: {data7}')\n",
        "print(f'Sentiment  : {class_names[prediction]}')"
      ],
      "execution_count": 145,
      "outputs": [
        {
          "output_type": "stream",
          "name": "stdout",
          "text": [
            "Review text: In New Orleans, an illegal immigrant feels sick and leaves a poker game while winning the smalltime criminal Blackie (Walter Jack Palance). He is chased by Blackie and his men Raymond Fitch (Zero Mostel) and Poldi (Guy Thomajan), killed by Blackie and his body is dumped in the sea. During the autopsy, the family man Lieutenant Commander Dr. Clinton Reed (Richard Widmark) of the U.S. Public Health Service finds that the dead man had pneumonic plague caused by rats and he needs to find who had any type of contact with the man within forty-eight hours to avoid an epidemic. The City Mayor assigns the skeptical Captain Tom Warren (Paul Douglas) to help Dr. Clint to find the killers that are infected with the plague and inoculate them.<br /><br />\"Panic in the Streets\" discloses a simple story, but it is still effective and with a great villain. The engaging plot has not become dated after fifty-seven years. Jack Palance performs a despicable scum in his debut, and the camera work while he tries to escape with Zero Mostel is still very impressive.\n",
            "Sentiment  : negative\n"
          ]
        }
      ]
    },
    {
      "cell_type": "code",
      "metadata": {
        "colab": {
          "base_uri": "https://localhost:8080/"
        },
        "id": "TSKVss_UI5QH",
        "outputId": "fd7e2d59-ae14-4090-ef40-084d84edd490"
      },
      "source": [
        "input_ids = encoded_review7['input_ids'].to(device)\n",
        "attention_mask = encoded_review7['attention_mask'].to(device)\n",
        "output = model(input_ids, attention_mask)\n",
        "_, prediction = torch.max(output, dim=1)\n",
        "print(f'Review text: {data8}')\n",
        "print(f'Sentiment  : {class_names[prediction]}')"
      ],
      "execution_count": 146,
      "outputs": [
        {
          "output_type": "stream",
          "name": "stdout",
          "text": [
            "Review text: The box is why I originally picked up this movie and the back is why I rented it. But I soon learned that I had been duped. I had thought this movie would be something like a Road Trip/Eurotrip/American Pie deal. But I was wrong. This movie is one of the dumbest I've seen in a long time. The unrated version teases you in to watching but will completely disappoint you. The acting was terrible and sound effects just gaudy. It appeared very low budget with the entire setting taking place in the same building. Go out and get Eurotrip or Road Trip instead. I can't believe National Lampoon put its name on this. DON'T BUY IT, DON'T RENT IT. Don't waste 2 hours of your life on this.\n",
            "Sentiment  : negative\n"
          ]
        }
      ]
    },
    {
      "cell_type": "code",
      "metadata": {
        "colab": {
          "base_uri": "https://localhost:8080/"
        },
        "id": "UTUz7C8fI5X9",
        "outputId": "c861b889-006f-494c-e93c-4346eb204bb5"
      },
      "source": [
        "input_ids = encoded_review8['input_ids'].to(device)\n",
        "attention_mask = encoded_review8['attention_mask'].to(device)\n",
        "output = model(input_ids, attention_mask)\n",
        "_, prediction = torch.max(output, dim=1)\n",
        "print(f'Review text: {data9}')\n",
        "print(f'Sentiment  : {class_names[prediction]}')"
      ],
      "execution_count": 147,
      "outputs": [
        {
          "output_type": "stream",
          "name": "stdout",
          "text": [
            "Review text: There have been many documentaries that I have seen in which it appeared that the law was on the wrong side of the fence - The Thin Blue Line and Paradise Lost come to mind first and foremost. But this is the first film that had me seething with anger after I saw it. It seems blatantly clear to me from the evidence presented in this film that what happened at Waco was at the very least an unprofessional and sloppy mess on the part of the FBI and AFI, and at the very worst an act of murder. Like most people, when the siege at Waco was occurring I assumed that David Koresh was a completely evil madman who was leading a violent cult. After seeing this, I think that Koresh was more likely a slightly unbalanced and confused guy who inadvertently caught the attention of the U.S. government through his eccentric actions. Sure, there were lots of weapons at the Branch Davidian compound. But none of it was illegal. It was absolutely heartbreaking to see the video footage of the people inside the compound, all of them seeming to be very nice and harmless. And it was angering to see the callous testimony of the men in charge of the government forces on the Waco site, the clueless testimony of Janet Reno, and the partisan defense of the attack on Waco, a defense led by a few of the committee Democrats. Standing out most in my mind was NY representative and current U.S. senator from NY Charles Schumer. I voted for the man when I lived in NY state - I'm a Democrat, pretty left-leaning too. After seeing his actions on this committee, I wish I could go back in time and vote for D'Amato instead! For anyone remotely interested in the government, this is a very crucial film, a must see. I even think this should be shown in classes - it's that important.\n",
            "Sentiment  : negative\n"
          ]
        }
      ]
    },
    {
      "cell_type": "code",
      "metadata": {
        "colab": {
          "base_uri": "https://localhost:8080/"
        },
        "id": "UerXTNcdI5fD",
        "outputId": "b2fca67e-8204-4f12-cb55-28448da42888"
      },
      "source": [
        "input_ids = encoded_review9['input_ids'].to(device)\n",
        "attention_mask = encoded_review9['attention_mask'].to(device)\n",
        "output = model(input_ids, attention_mask)\n",
        "_, prediction = torch.max(output, dim=1)\n",
        "print(f'Review text: {data10}')\n",
        "print(f'Sentiment  : {class_names[prediction]}')"
      ],
      "execution_count": 148,
      "outputs": [
        {
          "output_type": "stream",
          "name": "stdout",
          "text": [
            "Review text: I saw this movie last night and thought it was decent. It has it's moments I guess you would say. Some of the scenes with the special ops forces were cool, and some of the location shots were very authentic. I won't be putting this movie in my DVD collection but it is fair enough to recommend for renting. I guess nothing set the movie at another level compared to others of the same genre. The action is good, the acting is decent, the women are extremely seductive and exotic in my opinion, and the story is pretty interesting. 7 out of ten\n",
            "Sentiment  : positive\n"
          ]
        }
      ]
    },
    {
      "cell_type": "code",
      "metadata": {
        "colab": {
          "base_uri": "https://localhost:8080/"
        },
        "id": "X5AWfYneI5nw",
        "outputId": "7c790c2e-e72d-4f5b-97e6-9d2e1368fb2b"
      },
      "source": [
        "input_ids = encoded_review10['input_ids'].to(device)\n",
        "attention_mask = encoded_review10['attention_mask'].to(device)\n",
        "output = model(input_ids, attention_mask)\n",
        "_, prediction = torch.max(output, dim=1)\n",
        "print(f'Review text: {data11}')\n",
        "print(f'Sentiment  : {class_names[prediction]}')"
      ],
      "execution_count": 149,
      "outputs": [
        {
          "output_type": "stream",
          "name": "stdout",
          "text": [
            "Review text: Yes, I call this a perfect movie. Not one boring second, a fantastic cast of mostly little known actresses and actors, a great array of characters who are all well defined and who all have understandable motives I could sympathize with, perfect lighting, crisp black and white photography, a fitting soundtrack, an intelligent and harmonious set design and a story that is engaging and works. It's one of those prime quality pictures on which all the pride of Hollywood should rest, the mark everyone should endeavor to reach.<br /><br />Barbara Stanwyck is simply stunning. There was nothing this actress couldn't do, and she always went easy on the melodramatic side. No hysterical outbursts with this lady - I always thought she was a better actress than screen goddesses like Bette Davis or Joan Crawford, and this movie confirmed my opinion. Always as tough as nails and at the same time conveying true sentiments. It is fair to add that she also got many good parts during her long career, and this one is by far the least interesting.<br /><br />The title fits this movie very well. It is about desires, human desires I think everyone can understand. Actually, no one seems to be scheming in this movie, all characters act on impulse, everybody wants to be happy without hurting anybody else. The sad fact that this more often than not leads to complications makes for the dramatic content into which I will not go here.<br /><br />I liked what this movie has to say about youth, about maturing and about the necessity to compromise. The movie I associate most with this one is Alfred Hitchcock's Shadow of a Doubt, it creates a similar atmosphere of idealized and at the same time caricatured Small Town America. The story has a certain similarity with Fritz Lang's considerably harsher movie Clash by Night, made one year earlier, where Stanywck stars in a similar part. I can also recommend it.\n",
            "Sentiment  : positive\n"
          ]
        }
      ]
    },
    {
      "cell_type": "code",
      "metadata": {
        "id": "9MM1cSKOI8Np"
      },
      "source": [
        ""
      ],
      "execution_count": 149,
      "outputs": []
    },
    {
      "cell_type": "code",
      "metadata": {
        "id": "iATyseuiI8Qu"
      },
      "source": [
        ""
      ],
      "execution_count": 149,
      "outputs": []
    }
  ]
}