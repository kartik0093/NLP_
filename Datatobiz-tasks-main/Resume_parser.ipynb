{
  "nbformat": 4,
  "nbformat_minor": 0,
  "metadata": {
    "colab": {
      "name": "Resume parser.ipynb",
      "provenance": []
    },
    "kernelspec": {
      "name": "python3",
      "display_name": "Python 3"
    },
    "language_info": {
      "name": "python"
    },
    "accelerator": "GPU"
  },
  "cells": [
    {
      "cell_type": "code",
      "metadata": {
        "colab": {
          "base_uri": "https://localhost:8080/"
        },
        "id": "j4SEmBFS9ZBH",
        "outputId": "80c497b2-608e-44c1-d020-82417129e33a"
      },
      "source": [
        " pip install python-docx"
      ],
      "execution_count": 2,
      "outputs": [
        {
          "output_type": "stream",
          "name": "stdout",
          "text": [
            "Collecting python-docx\n",
            "  Downloading python-docx-0.8.11.tar.gz (5.6 MB)\n",
            "\u001b[K     |████████████████████████████████| 5.6 MB 5.2 MB/s \n",
            "\u001b[?25hRequirement already satisfied: lxml>=2.3.2 in /usr/local/lib/python3.7/dist-packages (from python-docx) (4.2.6)\n",
            "Building wheels for collected packages: python-docx\n",
            "  Building wheel for python-docx (setup.py) ... \u001b[?25l\u001b[?25hdone\n",
            "  Created wheel for python-docx: filename=python_docx-0.8.11-py3-none-any.whl size=184508 sha256=9067c26fe9818dfafdb23fb863d30e61208a080706c0acf9bdd0276e57f95830\n",
            "  Stored in directory: /root/.cache/pip/wheels/f6/6f/b9/d798122a8b55b74ad30b5f52b01482169b445fbb84a11797a6\n",
            "Successfully built python-docx\n",
            "Installing collected packages: python-docx\n",
            "Successfully installed python-docx-0.8.11\n"
          ]
        }
      ]
    },
    {
      "cell_type": "code",
      "metadata": {
        "colab": {
          "base_uri": "https://localhost:8080/"
        },
        "id": "FjSeKD8RHQ-V",
        "outputId": "fe6d5d12-c121-4425-f035-f96326f49e9a"
      },
      "source": [
        "pip install pyPDF4"
      ],
      "execution_count": 3,
      "outputs": [
        {
          "output_type": "stream",
          "name": "stdout",
          "text": [
            "Collecting pyPDF4\n",
            "  Downloading PyPDF4-1.27.0.tar.gz (63 kB)\n",
            "\u001b[?25l\r\u001b[K     |█████▏                          | 10 kB 27.8 MB/s eta 0:00:01\r\u001b[K     |██████████▎                     | 20 kB 27.6 MB/s eta 0:00:01\r\u001b[K     |███████████████▍                | 30 kB 13.0 MB/s eta 0:00:01\r\u001b[K     |████████████████████▌           | 40 kB 10.3 MB/s eta 0:00:01\r\u001b[K     |█████████████████████████▋      | 51 kB 5.6 MB/s eta 0:00:01\r\u001b[K     |██████████████████████████████▊ | 61 kB 5.7 MB/s eta 0:00:01\r\u001b[K     |████████████████████████████████| 63 kB 1.8 MB/s \n",
            "\u001b[?25hBuilding wheels for collected packages: pyPDF4\n",
            "  Building wheel for pyPDF4 (setup.py) ... \u001b[?25l\u001b[?25hdone\n",
            "  Created wheel for pyPDF4: filename=PyPDF4-1.27.0-py3-none-any.whl size=61248 sha256=a48e21773f3dfceef2a628eeb076de7a668bd45c4b6afd26acd8a2eba609648f\n",
            "  Stored in directory: /root/.cache/pip/wheels/82/db/a8/ab40e2699944d458726831fed55791a14d800e0dc5a4889869\n",
            "Successfully built pyPDF4\n",
            "Installing collected packages: pyPDF4\n",
            "Successfully installed pyPDF4-1.27.0\n"
          ]
        }
      ]
    },
    {
      "cell_type": "code",
      "metadata": {
        "colab": {
          "base_uri": "https://localhost:8080/"
        },
        "id": "c8dafwqcHWqj",
        "outputId": "65b433f1-aba3-4b31-a64f-98b1dc41fff5"
      },
      "source": [
        " pip install PyPDF2"
      ],
      "execution_count": 4,
      "outputs": [
        {
          "output_type": "stream",
          "name": "stdout",
          "text": [
            "Collecting PyPDF2\n",
            "  Downloading PyPDF2-1.26.0.tar.gz (77 kB)\n",
            "\u001b[?25l\r\u001b[K     |████▎                           | 10 kB 27.8 MB/s eta 0:00:01\r\u001b[K     |████████▌                       | 20 kB 25.8 MB/s eta 0:00:01\r\u001b[K     |████████████▊                   | 30 kB 17.0 MB/s eta 0:00:01\r\u001b[K     |█████████████████               | 40 kB 15.5 MB/s eta 0:00:01\r\u001b[K     |█████████████████████▏          | 51 kB 5.5 MB/s eta 0:00:01\r\u001b[K     |█████████████████████████▍      | 61 kB 6.0 MB/s eta 0:00:01\r\u001b[K     |█████████████████████████████▋  | 71 kB 5.8 MB/s eta 0:00:01\r\u001b[K     |████████████████████████████████| 77 kB 2.7 MB/s \n",
            "\u001b[?25hBuilding wheels for collected packages: PyPDF2\n",
            "  Building wheel for PyPDF2 (setup.py) ... \u001b[?25l\u001b[?25hdone\n",
            "  Created wheel for PyPDF2: filename=PyPDF2-1.26.0-py3-none-any.whl size=61101 sha256=6e4ed9c8a5551e6455e4a956ebae7cf50b81606aa6472f634462602fdc9792ce\n",
            "  Stored in directory: /root/.cache/pip/wheels/80/1a/24/648467ade3a77ed20f35cfd2badd32134e96dd25ca811e64b3\n",
            "Successfully built PyPDF2\n",
            "Installing collected packages: PyPDF2\n",
            "Successfully installed PyPDF2-1.26.0\n"
          ]
        }
      ]
    },
    {
      "cell_type": "code",
      "metadata": {
        "id": "DW0KP3VgHjwk"
      },
      "source": [
        "from PyPDF4 import PdfFileReader"
      ],
      "execution_count": 5,
      "outputs": []
    },
    {
      "cell_type": "code",
      "metadata": {
        "id": "EqYY-zGaIrjU"
      },
      "source": [
        "import PyPDF4"
      ],
      "execution_count": 6,
      "outputs": []
    },
    {
      "cell_type": "code",
      "metadata": {
        "id": "w85ca9xuH8bR"
      },
      "source": [
        "FILE_PATH='/content/drive/MyDrive/krtplacement.pdf'"
      ],
      "execution_count": 7,
      "outputs": []
    },
    {
      "cell_type": "code",
      "metadata": {
        "colab": {
          "base_uri": "https://localhost:8080/"
        },
        "id": "NPVvESMeH8eB",
        "outputId": "fb63433d-75e8-443a-9240-5bbc82498545"
      },
      "source": [
        "with open(FILE_PATH,mode='rb') as f:\n",
        "  reader = PyPDF4.PdfFileReader(f)\n",
        "  page = reader.getPage(0)\n",
        "  print(page.extractText())"
      ],
      "execution_count": 8,
      "outputs": [
        {
          "output_type": "stream",
          "name": "stdout",
          "text": [
            " \n",
            " \n",
            " \n",
            " \n",
            " \n",
            " \n",
            " \n",
            " \n",
            " \n",
            " \n",
            " \n",
            " \n",
            " \n",
            " \n",
            " \n",
            " \n",
            " \n",
            "  \n",
            " \n",
            " \n",
            " \n",
            " \n",
            " \n",
            " \n",
            " \n",
            " \n",
            " \n",
            " \n",
            " \n",
            " \n",
            " \n",
            " \n",
            " \n",
            " \n",
            " \n",
            "KARTHICK N\n",
            " \n",
            "Data Science\n",
            " \n",
            " \n",
            "CONTACT INFO\n",
            " \n",
            "    \n",
            "+91 \n",
            "8248193088\n",
            " \n",
            "      \n",
            "Karthick.981027@gmail.com\n",
            "  \n",
            "   \n",
            " \n",
            "    \n",
            "NO.1/0A Thadha Pillai street \n",
            "Vilappakam, Ranipet district, Tamil \n",
            "Nadu, India\n",
            "-\n",
            "632521\n",
            ".\n",
            " \n",
            "Nationality\n",
            ": Indian\n",
            " \n",
            "LinkedIn\n",
            ":\n",
            "  \n",
            "https://www.linkedin.com/in/karthic\n",
            "k \n",
            "-\n",
            "n\n",
            "-\n",
            "892b51150\n",
            " \n",
            " \n",
            "GitHub link: \n",
            "https://github.com/NKarthick93/Data\n",
            "scie\n",
            "nce\n",
            "-\n",
            "projects\n",
            " \n",
            " \n",
            " \n",
            " \n",
            " \n",
            " \n",
            " \n",
            " \n",
            " \n",
            " \n",
            " \n",
            " \n",
            " \n",
            "ABOUT ME\n",
            " \n",
            "Expertise in problem solving. Excellent in working with business \n",
            "users as a part of requirements, gathering and converting their \n",
            "needs into mathematical models and \n",
            "solutions. Deep \n",
            "understanding the mathematical models and algorithms\n",
            ".\n",
            " \n",
            " \n",
            "EDUCATION \n",
            " \n",
            "\n",
            " \n",
            "Master of Science/Data science \n",
            "(CGPA: 8.\n",
            "44\n",
            ")\n",
            " \n",
            "Vellore\n",
            " \n",
            "institute of technology, Vellore \n",
            " \n",
            "            \n",
            "(2019\n",
            "-\n",
            "2021) \n",
            " \n",
            "\n",
            " \n",
            "Bachelor of science/Computer science \n",
            "(CGPA: 7.15) \n",
            "Vellore \n",
            "institute of technology, Vellore \n",
            "(2016\n",
            "-\n",
            "2019) \n",
            " \n",
            "\n",
            " \n",
            "Higher secondary school/Bio\n",
            "-\n",
            "maths \n",
            "(\n",
            "Percentage: 69.83) \n",
            "G.V.C higher secondary school, Arcot \n",
            "(2014\n",
            "-\n",
            "2016) \n",
            " \n",
            "\n",
            " \n",
            "Secondary school \n",
            "(Percentage: 88.2)\n",
            " \n",
            "G.V.C higher\n",
            " \n",
            "secondary \n",
            "school, Arcot \n",
            "(2013\n",
            "-\n",
            "2014\n",
            ") \n",
            " \n",
            " \n",
            "ACADEMIC PROJECTS\n",
            " \n",
            " \n",
            "                                                                          \n",
            "              \n",
            " \n",
            "Predict Loan Eligibility for Dream Housing Finance company\n",
            " \n",
            "\n",
            "   \n",
            "Dream Housing Finance company deals in all \n",
            "kinds of home loans. \n",
            "They have presence across all urban, semi urban and rural areas. \n",
            "Customer first applies for home loan and after that company \n",
            "validates the customer eligibility for loan.\n",
            " \n",
            "(Duration\n",
            "-\n",
            "2 months)\n",
            " \n",
            " \n",
            "House \n",
            "P\n",
            "rice \n",
            "P\n",
            "rediction\n",
            " \n",
            "\n",
            " \n",
            "This project\n",
            " \n",
            "can help the developer \n",
            "determine the selling\n",
            " \n",
            "price\n",
            " \n",
            "of a\n",
            " \n",
            "house\n",
            " \n",
            "and can help the customer to \n",
            "arrange the right time to purchase a\n",
            " \n",
            "house\n",
            ".\n",
            " \n",
            "(Duration\n",
            "-\n",
            "2 months)\n",
            " \n",
            " \n",
            "Predicting the Survival of Titanic Passengers\n",
            " \n",
            "-\n",
            " \n",
            "The problem \n",
            "statement entails predicting whether a passenger would survive or \n",
            "not survive given the features such as passenger class, sex, fair, age, \n",
            "number of siblings/spouses aboard, number of parents/children \n",
            "aboard, and others. \n",
            "(Duration\n",
            "-\n",
            "2 months)\n",
            " \n",
            " \n",
            "Twi\n",
            "tter Sentimental Analysis \n",
            "\n",
            " \n",
            "In this project, we try to implement \n",
            "a\n",
            " \n",
            "Twitter sentiment analysis model\n",
            " \n",
            "that helps to overcome the \n",
            "challenges of identifying\n",
            " \n",
            "the sentiments of the tweets.\n",
            " \n",
            "(Duration\n",
            "-\n",
            "2 \n",
            "months)\n",
            " \n",
            " \n",
            " \n",
            "      \n",
            " \n",
            "SKILLS \n",
            " \n",
            "\n",
            " \n",
            "Python \n",
            " \n",
            "\n",
            " \n",
            "SQL\n",
            " \n",
            "\n",
            " \n",
            "Excel\n",
            " \n",
            "\n",
            " \n",
            "Problem Solving \n",
            " \n",
            "\n",
            " \n",
            "Data analysis \n",
            " \n",
            "\n",
            " \n",
            "Statistical Modelling \n",
            " \n",
            "\n",
            " \n",
            "Machine Learning \n",
            " \n",
            "\n",
            " \n",
            "Deep Learning  \n",
            " \n",
            "\n",
            " \n",
            "Natural Language processing\n",
            " \n",
            "\n",
            " \n",
            "Power BI \n",
            "for\n",
            " \n",
            "Visualization\n",
            " \n",
            " \n",
            " \n",
            " \n",
            " \n",
            " \n",
            "\n"
          ]
        }
      ]
    },
    {
      "cell_type": "code",
      "metadata": {
        "colab": {
          "base_uri": "https://localhost:8080/"
        },
        "id": "LONYerTnW69Y",
        "outputId": "54f73df9-c707-459b-c33c-20c60b584432"
      },
      "source": [
        "from google.colab import drive\n",
        "drive.mount('/content/drive')"
      ],
      "execution_count": 9,
      "outputs": [
        {
          "output_type": "stream",
          "name": "stdout",
          "text": [
            "Drive already mounted at /content/drive; to attempt to forcibly remount, call drive.mount(\"/content/drive\", force_remount=True).\n"
          ]
        }
      ]
    },
    {
      "cell_type": "code",
      "metadata": {
        "colab": {
          "base_uri": "https://localhost:8080/"
        },
        "id": "2SU8XvxHXHup",
        "outputId": "19d5c76a-5309-4d71-831a-7546c61fd55c"
      },
      "source": [
        "pip install PyMuPDF"
      ],
      "execution_count": 10,
      "outputs": [
        {
          "output_type": "stream",
          "name": "stdout",
          "text": [
            "Collecting PyMuPDF\n",
            "  Downloading PyMuPDF-1.18.19-cp37-cp37m-manylinux_2_12_x86_64.manylinux2010_x86_64.whl (6.4 MB)\n",
            "\u001b[K     |████████████████████████████████| 6.4 MB 5.2 MB/s \n",
            "\u001b[?25hInstalling collected packages: PyMuPDF\n",
            "Successfully installed PyMuPDF-1.18.19\n"
          ]
        }
      ]
    },
    {
      "cell_type": "markdown",
      "metadata": {
        "id": "UsDZX2f1acPC"
      },
      "source": [
        "## **PyMuPDF**\n",
        "PyMuPDF is a python binding for MuPDF which is a lightweight PDF viewer. PyMuPDF is not entirely python based. This package is known for both, its top performance and high rendering quality.\n",
        "With PyMuPDF, we can access files with extensions like *.pdf, *.xps, *.oxps, *.epub, *.cbz or *.fb2 from your Python scripts. Several popular image formats are supported as well, including multi-page TIFF images.\n",
        "PyMuPDF extracts the information of multipage documents also. It gives us the privilege to extract information for a particular page if you enter the page number.\n",
        "Below is the code to extract text from PDF using PyMuPDF along with Input PDF and output extracted text."
      ]
    },
    {
      "cell_type": "code",
      "metadata": {
        "id": "_79hjoXWXNyf"
      },
      "source": [
        "import sys, fitz"
      ],
      "execution_count": 31,
      "outputs": []
    },
    {
      "cell_type": "code",
      "metadata": {
        "colab": {
          "base_uri": "https://localhost:8080/"
        },
        "id": "qjJ3CxCSXU_3",
        "outputId": "61232773-7a8a-40f3-9a5f-6d3acf8f415f"
      },
      "source": [
        "path='/content/drive/MyDrive/krtplacement.pdf'\n",
        "doc = fitz.open(path)\n",
        "text = \"\"\n",
        "for page in doc:\n",
        "    text=text + str(page.getText())\n",
        "\n",
        "txt=\" \".join(text.split('\\n'))\n",
        "print(txt)  "
      ],
      "execution_count": 35,
      "outputs": [
        {
          "output_type": "stream",
          "name": "stdout",
          "text": [
            "                                                                      KARTHICK N  Data Science    CONTACT INFO      +91 8248193088        Karthick.981027@gmail.com           NO.1/0A Thadha Pillai street  Vilappakam, Ranipet district, Tamil  Nadu, India-632521.  Nationality: Indian  LinkedIn:   https://www.linkedin.com/in/karthic k -n-892b51150   GitHub link:  https://github.com/NKarthick93/Datascie nce-projects                        ABOUT ME  Expertise in problem solving. Excellent in working with business  users as a part of requirements, gathering and converting their  needs  into  mathematical  models  and  solutions.  Deep  understanding the mathematical models and algorithms.    EDUCATION   ▪ Master of Science/Data science (CGPA: 8.44) Vellore  institute of technology, Vellore               (2019-2021)   ▪ Bachelor of science/Computer science (CGPA: 7.15) Vellore  institute of technology, Vellore (2016-2019)   ▪ Higher secondary school/Bio-maths (Percentage: 69.83)  G.V.C higher secondary school, Arcot (2014-2016)   ▪ Secondary school (Percentage: 88.2) G.V.C higher secondary  school, Arcot (2013-2014)     ACADEMIC PROJECTS                                                                                            Predict Loan Eligibility for Dream Housing Finance company –    Dream Housing Finance company deals in all kinds of home loans.  They have presence across all urban, semi urban and rural areas.  Customer first applies for home loan and after that company  validates the customer eligibility for loan. (Duration-2 months)    House Price Prediction – This project can help the developer  determine the selling price of a house and can help the customer to  arrange the right time to purchase a house. (Duration-2 months)    Predicting the Survival of Titanic Passengers - The problem  statement entails predicting whether a passenger would survive or  not survive given the features such as passenger class, sex, fair, age,  number of siblings/spouses aboard, number of parents/children  aboard, and others. (Duration-2 months)    Twitter Sentimental Analysis – In this project, we try to implement  a Twitter sentiment analysis model that helps to overcome the  challenges of identifying the sentiments of the tweets. (Duration-2  months)             SKILLS   ▪  Python   ▪  SQL  ▪  Excel  ▪  Problem Solving   ▪  Data analysis   ▪  Statistical Modelling   ▪  Machine Learning   ▪  Deep Learning    ▪  Natural Language processing  ▪  Power BI for Visualization                                                                           .               Language Skills  • Tamil – Speaking / Written  • Kannada – Speaking  • English – Speaking / Written    EXPERTISE    Personal Skills  • Technical Support  • Encouragement  • Entertainment  • Management    Image Classification – Image classification is the process of  predicting a specific class, or label, for something that is defined by  a set of data points. (Duration-2 months)  TOOLS AND LIBRARIES                                          Anaconda, Jupyter, Spyder, Sql, Python (IDE)  Pandas, NumPy, Matplotlib, Seaborn, Scikit learn, TensorFlow and  Keras, Tableau.    INTERNSHIP  ▪ I have been Completed One-month Data Science & Analytics  Internship at GRIP at The Sparks Foundation through  Internshala. (Aug2020 – Sep2020)     ▪ I have been Completed Data Analytics Consulting Virtual  Internship at KPMG(Forage).                                          FUNCTIONAL RESPONSIBILITIES  ▪ Involved in Data pre-processing Techniques for making the  data useful for creating Machine learning models.  ▪ Involved in creating various regression and classification  algorithms by using various sklearn libraries such as Linear  Regression, Decision Tree, Naïve Bayes etc...    CERTIFICATIONS  ▪ Online certification on SQL course in 365 Data science.   ▪ Participation in Webathon event (won third place)   ▪ Participation in Team sport Volleyball (Runner in divisional  level)   ▪ Participation in International Set Conference conducted by  VIT.      FOLLOW ME  Twitter  https://twitter.com/Nkarthick98    Facebook  https://www.facebook.com/profile.p hp?id=100008226933831     INTERESTS  • Music / Pop Song  • Travelling  • Photography  • Playing Games  • Learning  \n"
          ]
        }
      ]
    },
    {
      "cell_type": "code",
      "metadata": {
        "colab": {
          "base_uri": "https://localhost:8080/",
          "height": 506
        },
        "id": "WfmNOJMFYKSx",
        "outputId": "73b2e9bd-3938-4c23-c08b-22ea35810a70"
      },
      "source": [
        "txt"
      ],
      "execution_count": 36,
      "outputs": [
        {
          "output_type": "execute_result",
          "data": {
            "application/vnd.google.colaboratory.intrinsic+json": {
              "type": "string"
            },
            "text/plain": [
              "'                                                                      KARTHICK N  Data Science    CONTACT INFO      +91 8248193088        Karthick.981027@gmail.com           NO.1/0A Thadha Pillai street  Vilappakam, Ranipet district, Tamil  Nadu, India-632521.  Nationality: Indian  LinkedIn:   https://www.linkedin.com/in/karthic k -n-892b51150   GitHub link:  https://github.com/NKarthick93/Datascie nce-projects                        ABOUT ME  Expertise in problem solving. Excellent in working with business  users as a part of requirements, gathering and converting their  needs  into  mathematical  models  and  solutions.  Deep  understanding the mathematical models and algorithms.    EDUCATION   ▪ Master of Science/Data science (CGPA: 8.44) Vellore  institute of technology, Vellore               (2019-2021)   ▪ Bachelor of science/Computer science (CGPA: 7.15) Vellore  institute of technology, Vellore (2016-2019)   ▪ Higher secondary school/Bio-maths (Percentage: 69.83)  G.V.C higher secondary school, Arcot (2014-2016)   ▪ Secondary school (Percentage: 88.2) G.V.C higher secondary  school, Arcot (2013-2014)     ACADEMIC PROJECTS                                                                                            Predict Loan Eligibility for Dream Housing Finance company –    Dream Housing Finance company deals in all kinds of home loans.  They have presence across all urban, semi urban and rural areas.  Customer first applies for home loan and after that company  validates the customer eligibility for loan. (Duration-2 months)    House Price Prediction – This project can help the developer  determine the selling price of a house and can help the customer to  arrange the right time to purchase a house. (Duration-2 months)    Predicting the Survival of Titanic Passengers - The problem  statement entails predicting whether a passenger would survive or  not survive given the features such as passenger class, sex, fair, age,  number of siblings/spouses aboard, number of parents/children  aboard, and others. (Duration-2 months)    Twitter Sentimental Analysis – In this project, we try to implement  a Twitter sentiment analysis model that helps to overcome the  challenges of identifying the sentiments of the tweets. (Duration-2  months)             SKILLS   ▪  Python   ▪  SQL  ▪  Excel  ▪  Problem Solving   ▪  Data analysis   ▪  Statistical Modelling   ▪  Machine Learning   ▪  Deep Learning    ▪  Natural Language processing  ▪  Power BI for Visualization                                                                           .               Language Skills  • Tamil – Speaking / Written  • Kannada – Speaking  • English – Speaking / Written    EXPERTISE    Personal Skills  • Technical Support  • Encouragement  • Entertainment  • Management    Image Classification – Image classification is the process of  predicting a specific class, or label, for something that is defined by  a set of data points. (Duration-2 months)  TOOLS AND LIBRARIES                                          Anaconda, Jupyter, Spyder, Sql, Python (IDE)  Pandas, NumPy, Matplotlib, Seaborn, Scikit learn, TensorFlow and  Keras, Tableau.    INTERNSHIP  ▪ I have been Completed One-month Data Science & Analytics  Internship at GRIP at The Sparks Foundation through  Internshala. (Aug2020 – Sep2020)     ▪ I have been Completed Data Analytics Consulting Virtual  Internship at KPMG(Forage).                                          FUNCTIONAL RESPONSIBILITIES  ▪ Involved in Data pre-processing Techniques for making the  data useful for creating Machine learning models.  ▪ Involved in creating various regression and classification  algorithms by using various sklearn libraries such as Linear  Regression, Decision Tree, Naïve Bayes etc...    CERTIFICATIONS  ▪ Online certification on SQL course in 365 Data science.   ▪ Participation in Webathon event (won third place)   ▪ Participation in Team sport Volleyball (Runner in divisional  level)   ▪ Participation in International Set Conference conducted by  VIT.      FOLLOW ME  Twitter  https://twitter.com/Nkarthick98    Facebook  https://www.facebook.com/profile.p hp?id=100008226933831     INTERESTS  • Music / Pop Song  • Travelling  • Photography  • Playing Games  • Learning  '"
            ]
          },
          "metadata": {},
          "execution_count": 36
        }
      ]
    },
    {
      "cell_type": "code",
      "metadata": {
        "colab": {
          "base_uri": "https://localhost:8080/"
        },
        "id": "HaGiLTlkXcmX",
        "outputId": "491ba2a9-af9a-4325-d2ef-1fc58873280c"
      },
      "source": [
        "pip install python-docx"
      ],
      "execution_count": 37,
      "outputs": [
        {
          "output_type": "stream",
          "name": "stdout",
          "text": [
            "Requirement already satisfied: python-docx in /usr/local/lib/python3.7/dist-packages (0.8.11)\n",
            "Requirement already satisfied: lxml>=2.3.2 in /usr/local/lib/python3.7/dist-packages (from python-docx) (4.2.6)\n"
          ]
        }
      ]
    },
    {
      "cell_type": "code",
      "metadata": {
        "id": "fs_clrJVbR2E"
      },
      "source": [
        "from docx import Document"
      ],
      "execution_count": 41,
      "outputs": []
    },
    {
      "cell_type": "code",
      "metadata": {
        "id": "igiBVG2wbR4k"
      },
      "source": [
        "doc=Document('/content/drive/MyDrive/Resume/placement_resume1.docx')"
      ],
      "execution_count": 42,
      "outputs": []
    },
    {
      "cell_type": "code",
      "metadata": {
        "colab": {
          "base_uri": "https://localhost:8080/"
        },
        "id": "NpKrsSnff_7T",
        "outputId": "a7c31243-1189-4044-e51e-27edd6606e9c"
      },
      "source": [
        "type(doc)"
      ],
      "execution_count": 43,
      "outputs": [
        {
          "output_type": "execute_result",
          "data": {
            "text/plain": [
              "docx.document.Document"
            ]
          },
          "metadata": {},
          "execution_count": 43
        }
      ]
    },
    {
      "cell_type": "code",
      "metadata": {
        "id": "eQYY5EocgHtU"
      },
      "source": [
        "doc.paragraphs"
      ],
      "execution_count": null,
      "outputs": []
    },
    {
      "cell_type": "code",
      "metadata": {
        "id": "yyudlFXAgHv4"
      },
      "source": [
        "import docx\n",
        "\n",
        "def getText(filename):\n",
        "    doc = docx.Document(filename)\n",
        "    fullText = []\n",
        "    for para in doc.paragraphs:\n",
        "        fullText.append(para.text)\n",
        "    return '\\n'.join(fullText)"
      ],
      "execution_count": 73,
      "outputs": []
    },
    {
      "cell_type": "code",
      "metadata": {
        "colab": {
          "base_uri": "https://localhost:8080/"
        },
        "id": "UCiF7PpmrzDf",
        "outputId": "1be07d6f-b8e7-4d4d-8ebe-eaf9ebbf9c82"
      },
      "source": [
        "import docx\n",
        "path='/content/drive/MyDrive/Resume/placement_resume1.docx'\n",
        "doc = docx.Document('placement_resume1.docx')\n",
        "fullText = []\n",
        "for para in doc.paragraphs:\n",
        "    fullText.append(para.text)\n",
        "    txt=\" \".join(fullText)\n",
        "print(txt)      "
      ],
      "execution_count": 78,
      "outputs": [
        {
          "output_type": "stream",
          "name": "stdout",
          "text": [
            "                                                                 \n"
          ]
        }
      ]
    },
    {
      "cell_type": "code",
      "metadata": {
        "colab": {
          "base_uri": "https://localhost:8080/"
        },
        "id": "N-m6BUvzrBHm",
        "outputId": "6041d7ef-54b1-4560-9a6f-1ea8994217dd"
      },
      "source": [
        "print(txt)"
      ],
      "execution_count": 79,
      "outputs": [
        {
          "output_type": "stream",
          "name": "stdout",
          "text": [
            "                                                                 \n"
          ]
        }
      ]
    },
    {
      "cell_type": "code",
      "metadata": {
        "id": "7Mf-Q0aDps5C"
      },
      "source": [
        ""
      ],
      "execution_count": null,
      "outputs": []
    }
  ]
}