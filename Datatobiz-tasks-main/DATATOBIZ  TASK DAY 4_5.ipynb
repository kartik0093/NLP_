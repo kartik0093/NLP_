{
 "cells": [
  {
   "cell_type": "code",
   "execution_count": 1,
   "metadata": {},
   "outputs": [],
   "source": [
    "#Ignore warnings\n",
    "import warnings\n",
    "warnings.filterwarnings('ignore')\n",
    "import os, sys\n",
    "from keras.models import Model\n",
    "from keras.layers import Input, LSTM, GRU, Dense, Embedding\n",
    "from keras.preprocessing.text import Tokenizer\n",
    "from keras.preprocessing.sequence import pad_sequences\n",
    "from tensorflow.keras.utils import to_categorical\n",
    "import numpy as np\n",
    "import matplotlib.pyplot as plt"
   ]
  },
  {
   "cell_type": "code",
   "execution_count": 2,
   "metadata": {},
   "outputs": [],
   "source": [
    "BATCH_SIZE = 128\n",
    "EPOCHS = 20\n",
    "LSTM_NODES =256\n",
    "NUM_SENTENCES = 20000\n",
    "MAX_SENTENCE_LENGTH = 50\n",
    "MAX_NUM_WORDS = 20000\n",
    "EMBEDDING_SIZE = 100"
   ]
  },
  {
   "cell_type": "code",
   "execution_count": 3,
   "metadata": {},
   "outputs": [
    {
     "name": "stdout",
     "output_type": "stream",
     "text": [
      "Number of sample input: 20000\n",
      "Number of sample output: 20000\n",
      "Number of sample output input: 20000\n"
     ]
    }
   ],
   "source": [
    "input_sentences = []\n",
    "output_sentences = []\n",
    "output_sentences_inputs = []\n",
    "\n",
    "count = 0\n",
    "for line in open('fra.txt', encoding=\"utf-8\"):\n",
    "    count += 1\n",
    "    if count > NUM_SENTENCES:\n",
    "        break\n",
    "    if '\\t' not in line:\n",
    "        continue\n",
    "    input_sentence = line.rstrip().split('\\t')[0]\n",
    "    output = line.rstrip().split('\\t')[1]\n",
    "\n",
    "    output_sentence = output + ' <eos>'\n",
    "    output_sentence_input = '<sos> ' + output\n",
    "\n",
    "    input_sentences.append(input_sentence)\n",
    "    output_sentences.append(output_sentence)\n",
    "    output_sentences_inputs.append(output_sentence_input)\n",
    "\n",
    "print(\"Number of sample input:\", len(input_sentences))\n",
    "print(\"Number of sample output:\", len(output_sentences))\n",
    "print(\"Number of sample output input:\", len(output_sentences_inputs))"
   ]
  },
  {
   "cell_type": "code",
   "execution_count": 4,
   "metadata": {},
   "outputs": [
    {
     "name": "stdout",
     "output_type": "stream",
     "text": [
      "English sentence:  Beat it.\n",
      "French translation:  Casse-toi de là. <eos>\n"
     ]
    }
   ],
   "source": [
    "print(\"English sentence: \",input_sentences[180])\n",
    "print(\"French translation: \",output_sentences[180])"
   ]
  },
  {
   "cell_type": "code",
   "execution_count": 5,
   "metadata": {},
   "outputs": [
    {
     "name": "stdout",
     "output_type": "stream",
     "text": [
      "[[19], [19], [19], [531], [531]]\n"
     ]
    }
   ],
   "source": [
    "#tokenize the input sentences(input language) \n",
    "input_tokenizer = Tokenizer(num_words=MAX_NUM_WORDS)\n",
    "input_tokenizer.fit_on_texts(input_sentences)\n",
    "input_integer_seq = input_tokenizer.texts_to_sequences(input_sentences)\n",
    "print(input_integer_seq[:5])"
   ]
  },
  {
   "cell_type": "code",
   "execution_count": 6,
   "metadata": {},
   "outputs": [
    {
     "name": "stdout",
     "output_type": "stream",
     "text": [
      "Total unique words in the input: 3441\n"
     ]
    }
   ],
   "source": [
    "word2idx_inputs = input_tokenizer.word_index\n",
    "print('Total unique words in the input: %s' % len(word2idx_inputs))"
   ]
  },
  {
   "cell_type": "code",
   "execution_count": 7,
   "metadata": {},
   "outputs": [
    {
     "name": "stdout",
     "output_type": "stream",
     "text": [
      "Length of longest sentence in input: 5\n"
     ]
    }
   ],
   "source": [
    "max_input_len = max(len(sen) for sen in input_integer_seq)\n",
    "print(\"Length of longest sentence in input: %g\" % max_input_len)"
   ]
  },
  {
   "cell_type": "code",
   "execution_count": 8,
   "metadata": {},
   "outputs": [
    {
     "name": "stdout",
     "output_type": "stream",
     "text": [
      "encoder_input_sequences.shape: (20000, 5)\n",
      "encoder_input_sequences[180]: [  0   0   0 304   4]\n"
     ]
    }
   ],
   "source": [
    "encoder_input_sequences = pad_sequences(input_integer_seq, maxlen=max_input_len)\n",
    "print(\"encoder_input_sequences.shape:\", encoder_input_sequences.shape)\n",
    "print(\"encoder_input_sequences[180]:\", encoder_input_sequences[180])"
   ]
  },
  {
   "cell_type": "code",
   "execution_count": 9,
   "metadata": {},
   "outputs": [
    {
     "name": "stdout",
     "output_type": "stream",
     "text": [
      "534\n",
      "56\n"
     ]
    }
   ],
   "source": [
    "print(word2idx_inputs[\"join\"])\n",
    "print(word2idx_inputs[\"us\"])"
   ]
  },
  {
   "cell_type": "code",
   "execution_count": 10,
   "metadata": {},
   "outputs": [
    {
     "name": "stdout",
     "output_type": "stream",
     "text": [
      "[[2, 51, 4], [2, 703], [2, 428, 4], [2, 895, 4], [2, 4508]]\n"
     ]
    }
   ],
   "source": [
    "#tokenize the output sentences(Output language)\n",
    "output_tokenizer = Tokenizer(num_words=MAX_NUM_WORDS, filters='')\n",
    "output_tokenizer.fit_on_texts(output_sentences + output_sentences_inputs)\n",
    "output_integer_seq = output_tokenizer.texts_to_sequences(output_sentences)\n",
    "output_input_integer_seq = output_tokenizer.texts_to_sequences(output_sentences_inputs)\n",
    "print(output_input_integer_seq[:5])"
   ]
  },
  {
   "cell_type": "code",
   "execution_count": 11,
   "metadata": {},
   "outputs": [
    {
     "name": "stdout",
     "output_type": "stream",
     "text": [
      "Total unique words in the output: 9499\n"
     ]
    }
   ],
   "source": [
    "word2idx_outputs = output_tokenizer.word_index\n",
    "print('Total unique words in the output: %s' % len(word2idx_outputs))"
   ]
  },
  {
   "cell_type": "code",
   "execution_count": 12,
   "metadata": {},
   "outputs": [
    {
     "name": "stdout",
     "output_type": "stream",
     "text": [
      "Length of longest sentence in the output: 12\n"
     ]
    }
   ],
   "source": [
    "num_words_output = len(word2idx_outputs) + 1\n",
    "max_out_len = max(len(sen) for sen in output_integer_seq)\n",
    "print(\"Length of longest sentence in the output: %g\" % max_out_len)"
   ]
  },
  {
   "cell_type": "code",
   "execution_count": 13,
   "metadata": {},
   "outputs": [
    {
     "name": "stdout",
     "output_type": "stream",
     "text": [
      "decoder_input_sequences.shape: (20000, 12)\n",
      "decoder_input_sequences[180]: [   2 4555   15  127    0    0    0    0    0    0    0    0]\n"
     ]
    }
   ],
   "source": [
    "decoder_input_sequences = pad_sequences(output_input_integer_seq, maxlen=max_out_len, padding='post')\n",
    "print(\"decoder_input_sequences.shape:\", decoder_input_sequences.shape)\n",
    "print(\"decoder_input_sequences[180]:\", decoder_input_sequences[180])"
   ]
  },
  {
   "cell_type": "code",
   "execution_count": 14,
   "metadata": {},
   "outputs": [
    {
     "name": "stdout",
     "output_type": "stream",
     "text": [
      "2\n",
      "2711\n",
      "19\n",
      "219\n"
     ]
    }
   ],
   "source": [
    "print(word2idx_outputs[\"<sos>\"])\n",
    "print(word2idx_outputs[\"joignez-vous\"])\n",
    "print(word2idx_outputs[\"à\"])\n",
    "print(word2idx_outputs[\"nous.\"])"
   ]
  },
  {
   "cell_type": "code",
   "execution_count": 15,
   "metadata": {},
   "outputs": [
    {
     "name": "stdout",
     "output_type": "stream",
     "text": [
      "decoder_output_sequences.shape: (20000, 12)\n"
     ]
    }
   ],
   "source": [
    "decoder_output_sequences = pad_sequences(output_integer_seq, maxlen=max_out_len, padding='post')\n",
    "print(\"decoder_output_sequences.shape:\", decoder_output_sequences.shape)"
   ]
  },
  {
   "cell_type": "code",
   "execution_count": 16,
   "metadata": {},
   "outputs": [],
   "source": [
    "from numpy import array\n",
    "from numpy import asarray\n",
    "from numpy import zeros\n",
    "\n",
    "embeddings_dictionary = dict()\n",
    "\n",
    "glove_file = open('C:/Users/karthick/Downloads/glove.6B.100d.txt/glove.6B.100d.txt', encoding=\"utf8\")\n",
    "\n",
    "for line in glove_file:\n",
    "    records = line.split()\n",
    "    word = records[0]\n",
    "    vector_dimensions = asarray(records[1:], dtype='float32')\n",
    "    embeddings_dictionary[word] = vector_dimensions\n",
    "glove_file.close()"
   ]
  },
  {
   "cell_type": "code",
   "execution_count": 17,
   "metadata": {},
   "outputs": [],
   "source": [
    "num_words = min(MAX_NUM_WORDS, len(word2idx_inputs) + 1)\n",
    "embedding_matrix = zeros((num_words, EMBEDDING_SIZE))\n",
    "for word, index in word2idx_inputs.items():\n",
    "    embedding_vector = embeddings_dictionary.get(word)\n",
    "    if embedding_vector is not None:\n",
    "        embedding_matrix[index] = embedding_vector"
   ]
  },
  {
   "cell_type": "code",
   "execution_count": 18,
   "metadata": {},
   "outputs": [
    {
     "name": "stdout",
     "output_type": "stream",
     "text": [
      "[ 0.12648    0.1366     0.22192   -0.025204  -0.7197     0.66147\n",
      "  0.48509    0.057223   0.13829   -0.26375   -0.23647    0.74349\n",
      "  0.46737   -0.462      0.20031   -0.26302    0.093948  -0.61756\n",
      " -0.28213    0.1353     0.28213    0.21813    0.16418    0.22547\n",
      " -0.98945    0.29624   -0.62476   -0.29535    0.21534    0.92274\n",
      "  0.38388    0.55744   -0.14628   -0.15674   -0.51941    0.25629\n",
      " -0.0079678  0.12998   -0.029192   0.20868   -0.55127    0.075353\n",
      "  0.44746   -0.71046    0.75562    0.010378   0.095229   0.16673\n",
      "  0.22073   -0.46562   -0.10199   -0.80386    0.45162    0.45183\n",
      "  0.19869   -1.6571     0.7584    -0.40298    0.82426   -0.386\n",
      "  0.0039546  0.61318    0.02701   -0.3308    -0.095652  -0.082164\n",
      "  0.7858     0.13394   -0.32715   -0.31371   -0.20247   -0.73001\n",
      " -0.49343    0.56445    0.61038    0.36777   -0.070182   0.44859\n",
      " -0.61774   -0.18849    0.65592    0.44797   -0.10469    0.62512\n",
      " -1.9474    -0.60622    0.073874   0.50013   -1.1278    -0.42066\n",
      " -0.37322   -0.50538    0.59171    0.46534   -0.42482    0.83265\n",
      "  0.081548  -0.44147   -0.084311  -1.2304   ]\n"
     ]
    }
   ],
   "source": [
    "print(embeddings_dictionary[\"ill\"])"
   ]
  },
  {
   "cell_type": "code",
   "execution_count": 19,
   "metadata": {},
   "outputs": [
    {
     "name": "stdout",
     "output_type": "stream",
     "text": [
      "[-1.23510003e-01  5.82360029e-01  9.39920008e-01 -5.65240011e-02\n",
      "  1.67850003e-01 -2.40789995e-01  3.60240005e-02 -1.39980003e-01\n",
      " -1.35020003e-01  4.10090014e-02  1.94969997e-01  3.83430004e-01\n",
      "  1.10760003e-01 -4.15609986e-01  1.50639996e-01 -5.81780016e-01\n",
      " -3.76370013e-01 -9.37810019e-02 -3.81440014e-01  4.19869989e-01\n",
      "  1.01559997e+00  7.40190029e-01  2.21249998e-01 -1.41049996e-01\n",
      " -4.16350007e-01 -9.45720002e-02 -1.30559996e-01 -5.32060027e-01\n",
      " -1.02069996e-01 -3.11580002e-01  3.11659992e-01 -3.99710014e-02\n",
      "  1.58960000e-01 -5.45970015e-02  5.97019970e-01  4.45329994e-01\n",
      "  4.51750010e-02 -1.13820001e-01 -7.92980015e-01  2.15570003e-01\n",
      " -4.88249987e-01 -3.22939992e-01 -4.70840000e-02 -1.71920002e-01\n",
      " -9.04999971e-02 -3.88779998e-01  1.04020000e+00  1.26980003e-02\n",
      "  1.27130002e-01 -3.56429994e-01  6.26600027e-01 -1.56069994e-01\n",
      "  1.12539999e-01  1.04149997e+00 -3.17950010e-01 -2.34139991e+00\n",
      " -1.59590006e-01 -2.40899995e-01  1.75010002e+00  2.64629990e-01\n",
      " -9.47749987e-02  1.17460001e+00 -3.47559988e-01  1.79429993e-01\n",
      "  5.98420024e-01  1.33149996e-01  9.80189964e-02  9.73400027e-02\n",
      "  2.61370003e-01  2.40570009e-02  2.55870014e-01 -4.63220000e-01\n",
      " -1.63010001e-01 -1.65519997e-01  4.11309987e-01 -4.51999992e-01\n",
      " -1.85090005e-01 -1.50900006e-01 -9.20140028e-01 -6.70910013e-05\n",
      "  5.43860018e-01  4.18080002e-01 -5.70219994e-01 -3.36670011e-01\n",
      " -1.60650003e+00 -3.63189995e-01  2.91839987e-01  5.63080013e-02\n",
      " -2.75709987e-01 -1.88429996e-01  2.13569999e-01 -8.14749971e-02\n",
      " -3.89519989e-01 -5.47810011e-02 -5.91660023e-01  3.14370006e-01\n",
      " -5.65649986e-01  1.98420003e-01  5.17620027e-01  1.20930001e-01]\n"
     ]
    }
   ],
   "source": [
    "print(embedding_matrix[539])"
   ]
  },
  {
   "cell_type": "code",
   "execution_count": 20,
   "metadata": {},
   "outputs": [],
   "source": [
    "embedding_layer = Embedding(num_words, EMBEDDING_SIZE, weights=[embedding_matrix], input_length=max_input_len)"
   ]
  },
  {
   "cell_type": "code",
   "execution_count": 21,
   "metadata": {},
   "outputs": [],
   "source": [
    "decoder_targets_one_hot = np.zeros((\n",
    "        len(input_sentences),\n",
    "        max_out_len,\n",
    "        num_words_output\n",
    "    ),\n",
    "    dtype='float32'\n",
    ")"
   ]
  },
  {
   "cell_type": "code",
   "execution_count": 22,
   "metadata": {},
   "outputs": [
    {
     "data": {
      "text/plain": [
       "(20000, 12, 9500)"
      ]
     },
     "execution_count": 22,
     "metadata": {},
     "output_type": "execute_result"
    }
   ],
   "source": [
    "decoder_targets_one_hot.shape"
   ]
  },
  {
   "cell_type": "code",
   "execution_count": 23,
   "metadata": {},
   "outputs": [],
   "source": [
    "for i, d in enumerate(decoder_output_sequences):\n",
    "    for t, word in enumerate(d):\n",
    "        decoder_targets_one_hot[i, t, word] = 1"
   ]
  },
  {
   "cell_type": "code",
   "execution_count": 24,
   "metadata": {},
   "outputs": [],
   "source": [
    "encoder_inputs_placeholder = Input(shape=(max_input_len,))\n",
    "x = embedding_layer(encoder_inputs_placeholder)\n",
    "encoder = LSTM(LSTM_NODES, return_state=True)\n",
    "\n",
    "encoder_outputs, h, c = encoder(x)\n",
    "encoder_states = [h, c]"
   ]
  },
  {
   "cell_type": "code",
   "execution_count": 25,
   "metadata": {},
   "outputs": [],
   "source": [
    "decoder_inputs_placeholder = Input(shape=(max_out_len,))\n",
    "\n",
    "decoder_embedding = Embedding(num_words_output, LSTM_NODES)\n",
    "decoder_inputs_x = decoder_embedding(decoder_inputs_placeholder)\n",
    "\n",
    "decoder_lstm = LSTM(LSTM_NODES, return_sequences=True, return_state=True)\n",
    "decoder_outputs, _, _ = decoder_lstm(decoder_inputs_x, initial_state=encoder_states)"
   ]
  },
  {
   "cell_type": "code",
   "execution_count": 26,
   "metadata": {},
   "outputs": [],
   "source": [
    "decoder_dense = Dense(num_words_output, activation='softmax')\n",
    "decoder_outputs = decoder_dense(decoder_outputs)"
   ]
  },
  {
   "cell_type": "code",
   "execution_count": 28,
   "metadata": {},
   "outputs": [],
   "source": [
    "model = Model([encoder_inputs_placeholder,\n",
    "  decoder_inputs_placeholder], decoder_outputs)\n",
    "model.compile(\n",
    "    optimizer='rmsprop',\n",
    "    loss='categorical_crossentropy',\n",
    "    metrics=['accuracy']\n",
    ")"
   ]
  },
  {
   "cell_type": "code",
   "execution_count": 29,
   "metadata": {},
   "outputs": [
    {
     "name": "stdout",
     "output_type": "stream",
     "text": [
      "Epoch 1/20\n",
      "282/282 [==============================] - 103s 302ms/step - loss: 2.7097 - accuracy: 0.6705 - val_loss: 2.0943 - val_accuracy: 0.7047\n",
      "Epoch 2/20\n",
      "282/282 [==============================] - 86s 304ms/step - loss: 1.5637 - accuracy: 0.7666 - val_loss: 1.8577 - val_accuracy: 0.7332\n",
      "Epoch 3/20\n",
      "282/282 [==============================] - 82s 290ms/step - loss: 1.3316 - accuracy: 0.8026 - val_loss: 1.7410 - val_accuracy: 0.7492\n",
      "Epoch 4/20\n",
      "282/282 [==============================] - 82s 290ms/step - loss: 1.2125 - accuracy: 0.8161 - val_loss: 1.6376 - val_accuracy: 0.7644\n",
      "Epoch 5/20\n",
      "282/282 [==============================] - 82s 292ms/step - loss: 1.1234 - accuracy: 0.8262 - val_loss: 1.5933 - val_accuracy: 0.7690\n",
      "Epoch 6/20\n",
      "282/282 [==============================] - 82s 290ms/step - loss: 1.0379 - accuracy: 0.8376 - val_loss: 1.5639 - val_accuracy: 0.7741\n",
      "Epoch 7/20\n",
      "282/282 [==============================] - 83s 295ms/step - loss: 0.9734 - accuracy: 0.8454 - val_loss: 1.5497 - val_accuracy: 0.7745\n",
      "Epoch 8/20\n",
      "282/282 [==============================] - 83s 294ms/step - loss: 0.9240 - accuracy: 0.8516 - val_loss: 1.5561 - val_accuracy: 0.7740\n",
      "Epoch 9/20\n",
      "282/282 [==============================] - 81s 289ms/step - loss: 0.8870 - accuracy: 0.8577 - val_loss: 1.5549 - val_accuracy: 0.7723\n",
      "Epoch 10/20\n",
      "282/282 [==============================] - 84s 298ms/step - loss: 0.8444 - accuracy: 0.8635 - val_loss: 1.5359 - val_accuracy: 0.7778\n",
      "Epoch 11/20\n",
      "282/282 [==============================] - 79s 280ms/step - loss: 0.8063 - accuracy: 0.8694 - val_loss: 1.5372 - val_accuracy: 0.7776\n",
      "Epoch 12/20\n",
      "282/282 [==============================] - 91s 322ms/step - loss: 0.7732 - accuracy: 0.8753 - val_loss: 1.5505 - val_accuracy: 0.7784\n",
      "Epoch 13/20\n",
      "282/282 [==============================] - 88s 313ms/step - loss: 0.7519 - accuracy: 0.8795 - val_loss: 1.5477 - val_accuracy: 0.7773\n",
      "Epoch 14/20\n",
      "282/282 [==============================] - 83s 296ms/step - loss: 0.7163 - accuracy: 0.8843 - val_loss: 1.5368 - val_accuracy: 0.7818\n",
      "Epoch 15/20\n",
      "282/282 [==============================] - 88s 311ms/step - loss: 0.6910 - accuracy: 0.8886 - val_loss: 1.5618 - val_accuracy: 0.7798\n",
      "Epoch 16/20\n",
      "282/282 [==============================] - 91s 322ms/step - loss: 0.6747 - accuracy: 0.8912 - val_loss: 1.5584 - val_accuracy: 0.7806\n",
      "Epoch 17/20\n",
      "282/282 [==============================] - 83s 294ms/step - loss: 0.6618 - accuracy: 0.8943 - val_loss: 1.5917 - val_accuracy: 0.7817\n",
      "Epoch 18/20\n",
      "282/282 [==============================] - 88s 311ms/step - loss: 0.6398 - accuracy: 0.8974 - val_loss: 1.5880 - val_accuracy: 0.7819\n",
      "Epoch 19/20\n",
      "282/282 [==============================] - 94s 332ms/step - loss: 0.6278 - accuracy: 0.9002 - val_loss: 1.5976 - val_accuracy: 0.7815\n",
      "Epoch 20/20\n",
      "282/282 [==============================] - 90s 318ms/step - loss: 0.6137 - accuracy: 0.9029 - val_loss: 1.5878 - val_accuracy: 0.7840\n"
     ]
    }
   ],
   "source": [
    "r = model.fit(\n",
    "    [encoder_input_sequences, decoder_input_sequences],\n",
    "    decoder_targets_one_hot,\n",
    "    batch_size=BATCH_SIZE,\n",
    "    epochs=EPOCHS,\n",
    "    validation_split=0.1,\n",
    ")"
   ]
  },
  {
   "cell_type": "code",
   "execution_count": 30,
   "metadata": {},
   "outputs": [],
   "source": [
    "encoder_model = Model(encoder_inputs_placeholder, encoder_states)"
   ]
  },
  {
   "cell_type": "code",
   "execution_count": 31,
   "metadata": {},
   "outputs": [],
   "source": [
    "decoder_state_input_h = Input(shape=(LSTM_NODES,))\n",
    "decoder_state_input_c = Input(shape=(LSTM_NODES,))\n",
    "decoder_states_inputs = [decoder_state_input_h, decoder_state_input_c]"
   ]
  },
  {
   "cell_type": "code",
   "execution_count": 32,
   "metadata": {},
   "outputs": [],
   "source": [
    "decoder_inputs_single = Input(shape=(1,))\n",
    "decoder_inputs_single_x = decoder_embedding(decoder_inputs_single)"
   ]
  },
  {
   "cell_type": "code",
   "execution_count": 33,
   "metadata": {},
   "outputs": [],
   "source": [
    "decoder_outputs, h, c = decoder_lstm(decoder_inputs_single_x, initial_state=decoder_states_inputs)"
   ]
  },
  {
   "cell_type": "code",
   "execution_count": 34,
   "metadata": {},
   "outputs": [],
   "source": [
    "decoder_states = [h, c]\n",
    "decoder_outputs = decoder_dense(decoder_outputs)"
   ]
  },
  {
   "cell_type": "code",
   "execution_count": 35,
   "metadata": {},
   "outputs": [],
   "source": [
    "decoder_model = Model(\n",
    "    [decoder_inputs_single] + decoder_states_inputs,\n",
    "    [decoder_outputs] + decoder_states\n",
    ")"
   ]
  },
  {
   "cell_type": "code",
   "execution_count": 36,
   "metadata": {},
   "outputs": [],
   "source": [
    "idx2word_input = {v:k for k, v in word2idx_inputs.items()}\n",
    "idx2word_target = {v:k for k, v in word2idx_outputs.items()}"
   ]
  },
  {
   "cell_type": "code",
   "execution_count": 37,
   "metadata": {},
   "outputs": [],
   "source": [
    "def translate_sentence(input_seq):\n",
    "    states_value = encoder_model.predict(input_seq)\n",
    "    target_seq = np.zeros((1, 1))\n",
    "    target_seq[0, 0] = word2idx_outputs['<sos>']\n",
    "    eos = word2idx_outputs['<eos>']\n",
    "    output_sentence = []\n",
    "\n",
    "    for _ in range(max_out_len):\n",
    "        output_tokens, h, c = decoder_model.predict([target_seq] + states_value)\n",
    "        idx = np.argmax(output_tokens[0, 0, :])\n",
    "\n",
    "        if eos == idx:\n",
    "            break\n",
    "\n",
    "        word = ''\n",
    "\n",
    "        if idx > 0:\n",
    "            word = idx2word_target[idx]\n",
    "            output_sentence.append(word)\n",
    "\n",
    "        target_seq[0, 0] = idx\n",
    "        states_value = [h, c]\n",
    "\n",
    "    return ' '.join(output_sentence)"
   ]
  },
  {
   "cell_type": "code",
   "execution_count": 39,
   "metadata": {},
   "outputs": [
    {
     "name": "stdout",
     "output_type": "stream",
     "text": [
      "-\n",
      "Input: I'm so tired.\n",
      "Response: je suis tellement fatigué.\n"
     ]
    }
   ],
   "source": [
    "i = np.random.choice(len(input_sentences))\n",
    "input_seq = encoder_input_sequences[i:i+1]\n",
    "translation = translate_sentence(input_seq)\n",
    "print('-')\n",
    "print('Input:', input_sentences[i])\n",
    "print('Response:', translation)"
   ]
  },
  {
   "cell_type": "code",
   "execution_count": 40,
   "metadata": {},
   "outputs": [
    {
     "name": "stdout",
     "output_type": "stream",
     "text": [
      "-\n",
      "Input: It's an outrage.\n",
      "Response: c'est un accord.\n"
     ]
    }
   ],
   "source": [
    "i = np.random.choice(len(input_sentences))\n",
    "input_seq = encoder_input_sequences[i:i+1]\n",
    "translation = translate_sentence(input_seq)\n",
    "print('-')\n",
    "print('Input:', input_sentences[i])\n",
    "print('Response:', translation)"
   ]
  },
  {
   "cell_type": "code",
   "execution_count": 27,
   "metadata": {},
   "outputs": [],
   "source": [
    "from tensorflow.keras.optimizers import Adam"
   ]
  },
  {
   "cell_type": "code",
   "execution_count": 28,
   "metadata": {},
   "outputs": [],
   "source": [
    "model2 = Model([encoder_inputs_placeholder,decoder_inputs_placeholder], decoder_outputs)\n",
    "model2.compile(\n",
    "    optimizer='Adam',\n",
    "    loss='categorical_crossentropy',\n",
    "    metrics=['accuracy']\n",
    ")"
   ]
  },
  {
   "cell_type": "code",
   "execution_count": 29,
   "metadata": {},
   "outputs": [
    {
     "name": "stdout",
     "output_type": "stream",
     "text": [
      "Epoch 1/20\n",
      "282/282 [==============================] - 104s 312ms/step - loss: 3.5015 - accuracy: 0.6447 - val_loss: 2.2510 - val_accuracy: 0.6972\n",
      "Epoch 2/20\n",
      "282/282 [==============================] - 85s 303ms/step - loss: 1.7701 - accuracy: 0.7330 - val_loss: 2.0738 - val_accuracy: 0.7117\n",
      "Epoch 3/20\n",
      "282/282 [==============================] - 92s 327ms/step - loss: 1.5431 - accuracy: 0.7666 - val_loss: 1.9396 - val_accuracy: 0.7244\n",
      "Epoch 4/20\n",
      "282/282 [==============================] - 94s 334ms/step - loss: 1.3614 - accuracy: 0.7908 - val_loss: 1.8403 - val_accuracy: 0.7367\n",
      "Epoch 5/20\n",
      "282/282 [==============================] - 95s 336ms/step - loss: 1.2197 - accuracy: 0.8056 - val_loss: 1.7696 - val_accuracy: 0.7479\n",
      "Epoch 6/20\n",
      "282/282 [==============================] - 100s 354ms/step - loss: 1.0971 - accuracy: 0.8171 - val_loss: 1.7158 - val_accuracy: 0.7558\n",
      "Epoch 7/20\n",
      "282/282 [==============================] - 105s 374ms/step - loss: 0.9944 - accuracy: 0.8270 - val_loss: 1.6872 - val_accuracy: 0.7607\n",
      "Epoch 8/20\n",
      "282/282 [==============================] - 100s 354ms/step - loss: 0.9092 - accuracy: 0.8340 - val_loss: 1.6554 - val_accuracy: 0.7640\n",
      "Epoch 9/20\n",
      "282/282 [==============================] - 94s 335ms/step - loss: 0.8296 - accuracy: 0.8412 - val_loss: 1.6332 - val_accuracy: 0.7667\n",
      "Epoch 10/20\n",
      "282/282 [==============================] - 92s 326ms/step - loss: 0.7517 - accuracy: 0.8509 - val_loss: 1.6244 - val_accuracy: 0.7707\n",
      "Epoch 11/20\n",
      "282/282 [==============================] - 87s 308ms/step - loss: 0.6828 - accuracy: 0.8585 - val_loss: 1.6150 - val_accuracy: 0.7715\n",
      "Epoch 12/20\n",
      "282/282 [==============================] - 88s 311ms/step - loss: 0.6237 - accuracy: 0.8667 - val_loss: 1.6098 - val_accuracy: 0.7744\n",
      "Epoch 13/20\n",
      "282/282 [==============================] - 91s 322ms/step - loss: 0.5671 - accuracy: 0.8744 - val_loss: 1.6117 - val_accuracy: 0.7744\n",
      "Epoch 14/20\n",
      "282/282 [==============================] - 84s 297ms/step - loss: 0.5176 - accuracy: 0.8818 - val_loss: 1.6073 - val_accuracy: 0.7745\n",
      "Epoch 15/20\n",
      "282/282 [==============================] - 86s 305ms/step - loss: 0.4756 - accuracy: 0.8888 - val_loss: 1.6207 - val_accuracy: 0.7742\n",
      "Epoch 16/20\n",
      "282/282 [==============================] - 90s 319ms/step - loss: 0.4365 - accuracy: 0.8963 - val_loss: 1.6244 - val_accuracy: 0.7747\n",
      "Epoch 17/20\n",
      "282/282 [==============================] - 87s 310ms/step - loss: 0.3969 - accuracy: 0.9034 - val_loss: 1.6107 - val_accuracy: 0.7778\n",
      "Epoch 18/20\n",
      "282/282 [==============================] - 88s 310ms/step - loss: 0.3658 - accuracy: 0.9086 - val_loss: 1.6237 - val_accuracy: 0.7788\n",
      "Epoch 19/20\n",
      "282/282 [==============================] - 84s 300ms/step - loss: 0.3322 - accuracy: 0.9152 - val_loss: 1.6366 - val_accuracy: 0.7786\n",
      "Epoch 20/20\n",
      "282/282 [==============================] - 91s 322ms/step - loss: 0.3085 - accuracy: 0.9201 - val_loss: 1.6413 - val_accuracy: 0.7778\n"
     ]
    }
   ],
   "source": [
    "r = model2.fit(\n",
    "    [encoder_input_sequences, decoder_input_sequences],\n",
    "    decoder_targets_one_hot,\n",
    "    batch_size=BATCH_SIZE,\n",
    "    epochs=EPOCHS,\n",
    "    validation_split=0.1,\n",
    ")"
   ]
  },
  {
   "cell_type": "code",
   "execution_count": 31,
   "metadata": {},
   "outputs": [],
   "source": [
    "from tensorflow.keras.layers import Bidirectional"
   ]
  },
  {
   "cell_type": "code",
   "execution_count": 32,
   "metadata": {},
   "outputs": [],
   "source": [
    "encoder_inputs_placeholder = Input(shape=(max_input_len,))\n",
    "x = embedding_layer(encoder_inputs_placeholder)\n",
    "encoder = LSTM(LSTM_NODES, return_state=True)\n",
    "\n",
    "encoder_outputs, h, c = encoder(x)\n",
    "encoder_states = [h, c]"
   ]
  },
  {
   "cell_type": "code",
   "execution_count": 33,
   "metadata": {},
   "outputs": [],
   "source": [
    "decoder_inputs_placeholder = Input(shape=(max_out_len,))\n",
    "\n",
    "decoder_embedding = Embedding(num_words_output, LSTM_NODES)\n",
    "decoder_inputs_x = decoder_embedding(decoder_inputs_placeholder)\n",
    "\n",
    "decoder_lstm = LSTM(LSTM_NODES, return_sequences=True, return_state=True)\n",
    "decoder_outputs, _, _ = decoder_lstm(decoder_inputs_x, initial_state=encoder_states)"
   ]
  },
  {
   "cell_type": "code",
   "execution_count": 34,
   "metadata": {},
   "outputs": [],
   "source": [
    "from tensorflow.keras.layers import Dropout\n",
    "dropout = Dropout(rate=0.3)\n",
    "decoder_outputs = dropout(decoder_outputs)"
   ]
  },
  {
   "cell_type": "code",
   "execution_count": 35,
   "metadata": {},
   "outputs": [],
   "source": [
    "decoder_dense = Dense(num_words_output, activation='softmax')\n",
    "decoder_outputs = decoder_dense(decoder_outputs)"
   ]
  },
  {
   "cell_type": "code",
   "execution_count": 36,
   "metadata": {},
   "outputs": [],
   "source": [
    "model2 = Model([encoder_inputs_placeholder,decoder_inputs_placeholder], decoder_outputs)\n",
    "model2.compile(\n",
    "    optimizer='Adam',\n",
    "    loss='categorical_crossentropy',\n",
    "    metrics=['accuracy']\n",
    ")"
   ]
  },
  {
   "cell_type": "code",
   "execution_count": 45,
   "metadata": {},
   "outputs": [
    {
     "name": "stdout",
     "output_type": "stream",
     "text": [
      "Epoch 1/50\n",
      "219/219 [==============================] - 83s 366ms/step - loss: 3.7030 - accuracy: 0.6382 - val_loss: 2.2420 - val_accuracy: 0.6903\n",
      "Epoch 2/50\n",
      "219/219 [==============================] - 80s 364ms/step - loss: 1.7661 - accuracy: 0.7381 - val_loss: 2.0421 - val_accuracy: 0.7137\n",
      "Epoch 3/50\n",
      "219/219 [==============================] - 77s 350ms/step - loss: 1.5232 - accuracy: 0.7682 - val_loss: 1.8864 - val_accuracy: 0.7404\n",
      "Epoch 4/50\n",
      "219/219 [==============================] - 76s 347ms/step - loss: 1.3385 - accuracy: 0.7983 - val_loss: 1.7818 - val_accuracy: 0.7568\n",
      "Epoch 5/50\n",
      "219/219 [==============================] - 78s 356ms/step - loss: 1.1855 - accuracy: 0.8156 - val_loss: 1.7036 - val_accuracy: 0.7652\n",
      "Epoch 6/50\n",
      "219/219 [==============================] - 80s 368ms/step - loss: 1.0670 - accuracy: 0.8263 - val_loss: 1.6486 - val_accuracy: 0.7711\n",
      "Epoch 7/50\n",
      "219/219 [==============================] - 78s 358ms/step - loss: 0.9584 - accuracy: 0.8352 - val_loss: 1.6119 - val_accuracy: 0.7767\n",
      "Epoch 8/50\n",
      "219/219 [==============================] - 80s 363ms/step - loss: 0.8676 - accuracy: 0.8433 - val_loss: 1.5867 - val_accuracy: 0.7803\n",
      "Epoch 9/50\n",
      "219/219 [==============================] - 81s 371ms/step - loss: 0.7847 - accuracy: 0.8519 - val_loss: 1.5708 - val_accuracy: 0.7835\n",
      "Epoch 10/50\n",
      "219/219 [==============================] - 80s 366ms/step - loss: 0.6990 - accuracy: 0.8607 - val_loss: 1.5627 - val_accuracy: 0.7839\n",
      "Epoch 11/50\n",
      "219/219 [==============================] - 74s 339ms/step - loss: 0.6395 - accuracy: 0.8683 - val_loss: 1.5554 - val_accuracy: 0.7860\n",
      "Epoch 12/50\n",
      "219/219 [==============================] - 75s 342ms/step - loss: 0.5755 - accuracy: 0.8763 - val_loss: 1.5583 - val_accuracy: 0.7872\n",
      "Epoch 13/50\n",
      "219/219 [==============================] - 75s 341ms/step - loss: 0.5213 - accuracy: 0.8854 - val_loss: 1.5500 - val_accuracy: 0.7893\n",
      "Epoch 14/50\n",
      "219/219 [==============================] - 78s 356ms/step - loss: 0.4688 - accuracy: 0.8933 - val_loss: 1.5640 - val_accuracy: 0.7902\n",
      "Epoch 15/50\n",
      "219/219 [==============================] - 76s 346ms/step - loss: 0.4220 - accuracy: 0.9017 - val_loss: 1.5644 - val_accuracy: 0.7904\n",
      "Epoch 16/50\n",
      "219/219 [==============================] - 75s 341ms/step - loss: 0.3866 - accuracy: 0.9073 - val_loss: 1.5674 - val_accuracy: 0.7905\n",
      "Epoch 17/50\n",
      "219/219 [==============================] - 82s 374ms/step - loss: 0.3484 - accuracy: 0.9147 - val_loss: 1.5714 - val_accuracy: 0.7914\n",
      "Epoch 18/50\n",
      "219/219 [==============================] - 80s 364ms/step - loss: 0.3209 - accuracy: 0.9207 - val_loss: 1.5768 - val_accuracy: 0.7916\n",
      "Epoch 19/50\n",
      "219/219 [==============================] - 89s 406ms/step - loss: 0.2898 - accuracy: 0.9264 - val_loss: 1.5883 - val_accuracy: 0.7931\n",
      "Epoch 20/50\n",
      "219/219 [==============================] - 82s 373ms/step - loss: 0.2658 - accuracy: 0.9310 - val_loss: 1.5953 - val_accuracy: 0.7919\n",
      "Epoch 21/50\n",
      "219/219 [==============================] - 82s 376ms/step - loss: 0.2470 - accuracy: 0.9334 - val_loss: 1.5970 - val_accuracy: 0.7916\n",
      "Epoch 22/50\n",
      "219/219 [==============================] - 75s 345ms/step - loss: 0.2309 - accuracy: 0.9364 - val_loss: 1.6067 - val_accuracy: 0.7928\n",
      "Epoch 23/50\n",
      "219/219 [==============================] - 75s 342ms/step - loss: 0.2129 - accuracy: 0.9393 - val_loss: 1.6180 - val_accuracy: 0.7921\n",
      "Epoch 24/50\n",
      "219/219 [==============================] - 76s 349ms/step - loss: 0.1973 - accuracy: 0.9414 - val_loss: 1.6288 - val_accuracy: 0.7910\n",
      "Epoch 25/50\n",
      "219/219 [==============================] - 79s 360ms/step - loss: 0.1845 - accuracy: 0.9443 - val_loss: 1.6332 - val_accuracy: 0.7917\n",
      "Epoch 26/50\n",
      "219/219 [==============================] - 77s 351ms/step - loss: 0.1755 - accuracy: 0.9447 - val_loss: 1.6453 - val_accuracy: 0.7913\n",
      "Epoch 27/50\n",
      "219/219 [==============================] - 75s 345ms/step - loss: 0.1644 - accuracy: 0.9469 - val_loss: 1.6467 - val_accuracy: 0.7921\n",
      "Epoch 28/50\n",
      "219/219 [==============================] - 80s 366ms/step - loss: 0.1564 - accuracy: 0.9482 - val_loss: 1.6639 - val_accuracy: 0.7923\n",
      "Epoch 29/50\n",
      "219/219 [==============================] - 82s 373ms/step - loss: 0.1504 - accuracy: 0.9482 - val_loss: 1.6668 - val_accuracy: 0.7913\n",
      "Epoch 30/50\n",
      "219/219 [==============================] - 86s 392ms/step - loss: 0.1428 - accuracy: 0.9494 - val_loss: 1.6898 - val_accuracy: 0.7913\n",
      "Epoch 31/50\n",
      "219/219 [==============================] - 91s 414ms/step - loss: 0.1394 - accuracy: 0.9493 - val_loss: 1.6979 - val_accuracy: 0.7919\n",
      "Epoch 32/50\n",
      "219/219 [==============================] - 87s 399ms/step - loss: 0.1337 - accuracy: 0.9509 - val_loss: 1.6931 - val_accuracy: 0.7917\n",
      "Epoch 33/50\n",
      "219/219 [==============================] - 81s 371ms/step - loss: 0.1281 - accuracy: 0.9513 - val_loss: 1.7042 - val_accuracy: 0.7914\n",
      "Epoch 34/50\n",
      "219/219 [==============================] - 76s 347ms/step - loss: 0.1259 - accuracy: 0.9509 - val_loss: 1.7208 - val_accuracy: 0.7910\n",
      "Epoch 35/50\n",
      "219/219 [==============================] - 76s 349ms/step - loss: 0.1219 - accuracy: 0.9520 - val_loss: 1.7302 - val_accuracy: 0.7914\n",
      "Epoch 36/50\n",
      "219/219 [==============================] - 75s 343ms/step - loss: 0.1184 - accuracy: 0.9523 - val_loss: 1.7320 - val_accuracy: 0.7920\n",
      "Epoch 37/50\n",
      "219/219 [==============================] - 75s 343ms/step - loss: 0.1156 - accuracy: 0.9524 - val_loss: 1.7428 - val_accuracy: 0.7914\n",
      "Epoch 38/50\n",
      "219/219 [==============================] - 74s 338ms/step - loss: 0.1131 - accuracy: 0.9527 - val_loss: 1.7521 - val_accuracy: 0.7912\n",
      "Epoch 39/50\n",
      "219/219 [==============================] - 75s 341ms/step - loss: 0.1105 - accuracy: 0.9529 - val_loss: 1.7596 - val_accuracy: 0.7907\n",
      "Epoch 40/50\n",
      "219/219 [==============================] - 74s 337ms/step - loss: 0.1093 - accuracy: 0.9523 - val_loss: 1.7622 - val_accuracy: 0.7923\n",
      "Epoch 41/50\n",
      "219/219 [==============================] - 78s 357ms/step - loss: 0.1068 - accuracy: 0.9535 - val_loss: 1.7727 - val_accuracy: 0.7916\n",
      "Epoch 42/50\n",
      "219/219 [==============================] - 75s 342ms/step - loss: 0.1046 - accuracy: 0.9534 - val_loss: 1.7998 - val_accuracy: 0.7915\n",
      "Epoch 43/50\n",
      "219/219 [==============================] - 75s 345ms/step - loss: 0.1048 - accuracy: 0.9531 - val_loss: 1.7969 - val_accuracy: 0.7912\n",
      "Epoch 44/50\n",
      "219/219 [==============================] - 78s 358ms/step - loss: 0.1029 - accuracy: 0.9531 - val_loss: 1.7971 - val_accuracy: 0.7902\n",
      "Epoch 45/50\n",
      "219/219 [==============================] - 75s 343ms/step - loss: 0.0996 - accuracy: 0.9540 - val_loss: 1.8010 - val_accuracy: 0.7904\n",
      "Epoch 46/50\n",
      "219/219 [==============================] - 79s 363ms/step - loss: 0.1012 - accuracy: 0.9539 - val_loss: 1.8027 - val_accuracy: 0.7910\n",
      "Epoch 47/50\n",
      "219/219 [==============================] - 82s 377ms/step - loss: 0.0983 - accuracy: 0.9540 - val_loss: 1.8173 - val_accuracy: 0.7898\n",
      "Epoch 48/50\n",
      "219/219 [==============================] - 85s 389ms/step - loss: 0.0977 - accuracy: 0.9537 - val_loss: 1.8248 - val_accuracy: 0.7908\n",
      "Epoch 49/50\n",
      "219/219 [==============================] - 77s 354ms/step - loss: 0.0969 - accuracy: 0.9537 - val_loss: 1.8399 - val_accuracy: 0.7899\n",
      "Epoch 50/50\n",
      "219/219 [==============================] - 73s 335ms/step - loss: 0.0958 - accuracy: 0.9542 - val_loss: 1.8451 - val_accuracy: 0.7906\n"
     ]
    }
   ],
   "source": [
    "r = model2.fit(\n",
    "    [encoder_input_sequences, decoder_input_sequences],\n",
    "    decoder_targets_one_hot,\n",
    "    batch_size=BATCH_SIZE,\n",
    "    epochs=50,\n",
    "    validation_split=0.3,\n",
    ")"
   ]
  },
  {
   "cell_type": "code",
   "execution_count": 42,
   "metadata": {},
   "outputs": [],
   "source": [
    "model3 = Model([encoder_inputs_placeholder,decoder_inputs_placeholder], decoder_outputs)\n",
    "model3.compile(\n",
    "    optimizer='Adam',\n",
    "    loss='categorical_crossentropy',\n",
    "    metrics=['accuracy']\n",
    ")"
   ]
  },
  {
   "cell_type": "code",
   "execution_count": 44,
   "metadata": {},
   "outputs": [
    {
     "name": "stdout",
     "output_type": "stream",
     "text": [
      "Epoch 1/20\n",
      "125/125 [==============================] - 75s 576ms/step - loss: 0.1363 - accuracy: 0.9510 - val_loss: 0.9326 - val_accuracy: 0.8641\n",
      "Epoch 2/20\n",
      "125/125 [==============================] - 70s 561ms/step - loss: 0.1273 - accuracy: 0.9520 - val_loss: 0.9553 - val_accuracy: 0.8603\n",
      "Epoch 3/20\n",
      "125/125 [==============================] - 67s 540ms/step - loss: 0.1213 - accuracy: 0.9534 - val_loss: 0.9737 - val_accuracy: 0.8556\n",
      "Epoch 4/20\n",
      "125/125 [==============================] - 67s 532ms/step - loss: 0.1184 - accuracy: 0.9533 - val_loss: 0.9866 - val_accuracy: 0.8551\n",
      "Epoch 5/20\n",
      "125/125 [==============================] - 68s 549ms/step - loss: 0.1155 - accuracy: 0.9539 - val_loss: 1.0061 - val_accuracy: 0.8500\n",
      "Epoch 6/20\n",
      "125/125 [==============================] - 64s 515ms/step - loss: 0.1116 - accuracy: 0.9542 - val_loss: 1.0163 - val_accuracy: 0.8496\n",
      "Epoch 7/20\n",
      "125/125 [==============================] - 66s 531ms/step - loss: 0.1091 - accuracy: 0.9547 - val_loss: 1.0285 - val_accuracy: 0.8467\n",
      "Epoch 8/20\n",
      "125/125 [==============================] - 70s 557ms/step - loss: 0.1074 - accuracy: 0.9550 - val_loss: 1.0401 - val_accuracy: 0.8450\n",
      "Epoch 9/20\n",
      "125/125 [==============================] - 67s 534ms/step - loss: 0.1064 - accuracy: 0.9542 - val_loss: 1.0509 - val_accuracy: 0.8438\n",
      "Epoch 10/20\n",
      "125/125 [==============================] - 73s 581ms/step - loss: 0.1051 - accuracy: 0.9541 - val_loss: 1.0638 - val_accuracy: 0.8416\n",
      "Epoch 11/20\n",
      "125/125 [==============================] - 70s 561ms/step - loss: 0.1023 - accuracy: 0.9542 - val_loss: 1.0819 - val_accuracy: 0.8400\n",
      "Epoch 12/20\n",
      "125/125 [==============================] - 66s 529ms/step - loss: 0.1003 - accuracy: 0.9556 - val_loss: 1.0884 - val_accuracy: 0.8402\n",
      "Epoch 13/20\n",
      "125/125 [==============================] - 68s 543ms/step - loss: 0.0998 - accuracy: 0.9551 - val_loss: 1.1046 - val_accuracy: 0.8383\n",
      "Epoch 14/20\n",
      "125/125 [==============================] - 66s 526ms/step - loss: 0.0982 - accuracy: 0.9557 - val_loss: 1.1070 - val_accuracy: 0.8382\n",
      "Epoch 15/20\n",
      "125/125 [==============================] - 66s 530ms/step - loss: 0.0963 - accuracy: 0.9562 - val_loss: 1.1151 - val_accuracy: 0.8358\n",
      "Epoch 16/20\n",
      "125/125 [==============================] - 63s 502ms/step - loss: 0.0958 - accuracy: 0.9552 - val_loss: 1.1281 - val_accuracy: 0.8360\n",
      "Epoch 17/20\n",
      "125/125 [==============================] - 66s 532ms/step - loss: 0.0941 - accuracy: 0.9548 - val_loss: 1.1362 - val_accuracy: 0.8351\n",
      "Epoch 18/20\n",
      "125/125 [==============================] - 73s 587ms/step - loss: 0.0931 - accuracy: 0.9550 - val_loss: 1.1417 - val_accuracy: 0.8350\n",
      "Epoch 19/20\n",
      "125/125 [==============================] - 70s 561ms/step - loss: 0.0923 - accuracy: 0.9559 - val_loss: 1.1561 - val_accuracy: 0.8336\n",
      "Epoch 20/20\n",
      "125/125 [==============================] - 71s 567ms/step - loss: 0.0917 - accuracy: 0.9558 - val_loss: 1.1575 - val_accuracy: 0.8332\n"
     ]
    }
   ],
   "source": [
    "r = model3.fit(\n",
    "    [encoder_input_sequences, decoder_input_sequences],\n",
    "    decoder_targets_one_hot,\n",
    "    batch_size=BATCH_SIZE,\n",
    "    epochs=20,\n",
    "    validation_split=0.2,\n",
    ")"
   ]
  },
  {
   "cell_type": "code",
   "execution_count": 41,
   "metadata": {},
   "outputs": [],
   "source": [
    "# Save entire model to a HDFS file\n",
    "model3.save(\"Encoder-decoder_Model.h5\")"
   ]
  },
  {
   "cell_type": "code",
   "execution_count": null,
   "metadata": {},
   "outputs": [],
   "source": []
  }
 ],
 "metadata": {
  "kernelspec": {
   "display_name": "Python 3",
   "language": "python",
   "name": "python3"
  },
  "language_info": {
   "codemirror_mode": {
    "name": "ipython",
    "version": 3
   },
   "file_extension": ".py",
   "mimetype": "text/x-python",
   "name": "python",
   "nbconvert_exporter": "python",
   "pygments_lexer": "ipython3",
   "version": "3.7.3"
  }
 },
 "nbformat": 4,
 "nbformat_minor": 2
}
