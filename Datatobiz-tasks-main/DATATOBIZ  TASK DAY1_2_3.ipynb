{
 "cells": [
  {
   "cell_type": "markdown",
   "metadata": {},
   "source": [
    "## Problem statement - Fake News Classifier\n",
    "The authenticity of Information has become a longstanding issue affecting businesses and society, both for printed and digital media. On social networks, the reach and effects of information spread occur at such a fast pace and so amplified that distorted, inaccurate or false information acquires a tremendous potential to cause real world impacts, within minutes, for millions of users. Recently, several public concerns about this problem and some approaches to mitigate the problem were expressed. . The sensationalism of not-so-accurate eye catching and intriguing headlines aimed at retaining the attention of audiences to sell information has persisted all throughout the history of all kinds of information broadcast. On social networking websites, the reach and effects of information spread are however significantly amplified and occur at such a fast pace, that distorted, inaccurate or false information acquires a tremendous potential to cause real impacts, within minutes, for millions of user\n"
   ]
  },
  {
   "cell_type": "code",
   "execution_count": 1,
   "metadata": {},
   "outputs": [],
   "source": [
    "#Ignore warnings\n",
    "import warnings\n",
    "warnings.filterwarnings('ignore')"
   ]
  },
  {
   "cell_type": "code",
   "execution_count": 2,
   "metadata": {},
   "outputs": [],
   "source": [
    "#Basic libraries\n",
    "import pandas as pd \n",
    "import numpy as np "
   ]
  },
  {
   "cell_type": "code",
   "execution_count": 3,
   "metadata": {},
   "outputs": [],
   "source": [
    "#NLTK libraries\n",
    "import nltk\n",
    "import re\n",
    "import string\n",
    "from nltk.corpus import stopwords\n",
    "from wordcloud import WordCloud,STOPWORDS\n",
    "from nltk.stem.porter import PorterStemmer\n",
    "from sklearn.feature_extraction.text import TfidfVectorizer\n",
    "from sklearn.feature_extraction.text import CountVectorizer"
   ]
  },
  {
   "cell_type": "markdown",
   "metadata": {},
   "source": [
    "### Importing the dataset"
   ]
  },
  {
   "cell_type": "code",
   "execution_count": 4,
   "metadata": {},
   "outputs": [],
   "source": [
    "fake_news = pd.read_csv('E://dataset//dataset//fakenews//Fake_news//Fake.csv')\n",
    "true_news = pd.read_csv('E://dataset//dataset//fakenews//Fake_news//True.csv')"
   ]
  },
  {
   "cell_type": "code",
   "execution_count": 5,
   "metadata": {},
   "outputs": [
    {
     "data": {
      "text/html": [
       "<div>\n",
       "<style scoped>\n",
       "    .dataframe tbody tr th:only-of-type {\n",
       "        vertical-align: middle;\n",
       "    }\n",
       "\n",
       "    .dataframe tbody tr th {\n",
       "        vertical-align: top;\n",
       "    }\n",
       "\n",
       "    .dataframe thead th {\n",
       "        text-align: right;\n",
       "    }\n",
       "</style>\n",
       "<table border=\"1\" class=\"dataframe\">\n",
       "  <thead>\n",
       "    <tr style=\"text-align: right;\">\n",
       "      <th></th>\n",
       "      <th>title</th>\n",
       "      <th>text</th>\n",
       "      <th>subject</th>\n",
       "      <th>date</th>\n",
       "    </tr>\n",
       "  </thead>\n",
       "  <tbody>\n",
       "    <tr>\n",
       "      <th>0</th>\n",
       "      <td>Donald Trump Sends Out Embarrassing New Year’...</td>\n",
       "      <td>Donald Trump just couldn t wish all Americans ...</td>\n",
       "      <td>News</td>\n",
       "      <td>December 31, 2017</td>\n",
       "    </tr>\n",
       "    <tr>\n",
       "      <th>1</th>\n",
       "      <td>Drunk Bragging Trump Staffer Started Russian ...</td>\n",
       "      <td>House Intelligence Committee Chairman Devin Nu...</td>\n",
       "      <td>News</td>\n",
       "      <td>December 31, 2017</td>\n",
       "    </tr>\n",
       "    <tr>\n",
       "      <th>2</th>\n",
       "      <td>Sheriff David Clarke Becomes An Internet Joke...</td>\n",
       "      <td>On Friday, it was revealed that former Milwauk...</td>\n",
       "      <td>News</td>\n",
       "      <td>December 30, 2017</td>\n",
       "    </tr>\n",
       "    <tr>\n",
       "      <th>3</th>\n",
       "      <td>Trump Is So Obsessed He Even Has Obama’s Name...</td>\n",
       "      <td>On Christmas day, Donald Trump announced that ...</td>\n",
       "      <td>News</td>\n",
       "      <td>December 29, 2017</td>\n",
       "    </tr>\n",
       "    <tr>\n",
       "      <th>4</th>\n",
       "      <td>Pope Francis Just Called Out Donald Trump Dur...</td>\n",
       "      <td>Pope Francis used his annual Christmas Day mes...</td>\n",
       "      <td>News</td>\n",
       "      <td>December 25, 2017</td>\n",
       "    </tr>\n",
       "  </tbody>\n",
       "</table>\n",
       "</div>"
      ],
      "text/plain": [
       "                                               title  \\\n",
       "0   Donald Trump Sends Out Embarrassing New Year’...   \n",
       "1   Drunk Bragging Trump Staffer Started Russian ...   \n",
       "2   Sheriff David Clarke Becomes An Internet Joke...   \n",
       "3   Trump Is So Obsessed He Even Has Obama’s Name...   \n",
       "4   Pope Francis Just Called Out Donald Trump Dur...   \n",
       "\n",
       "                                                text subject  \\\n",
       "0  Donald Trump just couldn t wish all Americans ...    News   \n",
       "1  House Intelligence Committee Chairman Devin Nu...    News   \n",
       "2  On Friday, it was revealed that former Milwauk...    News   \n",
       "3  On Christmas day, Donald Trump announced that ...    News   \n",
       "4  Pope Francis used his annual Christmas Day mes...    News   \n",
       "\n",
       "                date  \n",
       "0  December 31, 2017  \n",
       "1  December 31, 2017  \n",
       "2  December 30, 2017  \n",
       "3  December 29, 2017  \n",
       "4  December 25, 2017  "
      ]
     },
     "execution_count": 5,
     "metadata": {},
     "output_type": "execute_result"
    }
   ],
   "source": [
    "fake_news.head()"
   ]
  },
  {
   "cell_type": "code",
   "execution_count": 6,
   "metadata": {},
   "outputs": [
    {
     "data": {
      "text/html": [
       "<div>\n",
       "<style scoped>\n",
       "    .dataframe tbody tr th:only-of-type {\n",
       "        vertical-align: middle;\n",
       "    }\n",
       "\n",
       "    .dataframe tbody tr th {\n",
       "        vertical-align: top;\n",
       "    }\n",
       "\n",
       "    .dataframe thead th {\n",
       "        text-align: right;\n",
       "    }\n",
       "</style>\n",
       "<table border=\"1\" class=\"dataframe\">\n",
       "  <thead>\n",
       "    <tr style=\"text-align: right;\">\n",
       "      <th></th>\n",
       "      <th>title</th>\n",
       "      <th>text</th>\n",
       "      <th>subject</th>\n",
       "      <th>date</th>\n",
       "    </tr>\n",
       "  </thead>\n",
       "  <tbody>\n",
       "    <tr>\n",
       "      <th>0</th>\n",
       "      <td>As U.S. budget fight looms, Republicans flip t...</td>\n",
       "      <td>WASHINGTON (Reuters) - The head of a conservat...</td>\n",
       "      <td>politicsNews</td>\n",
       "      <td>December 31, 2017</td>\n",
       "    </tr>\n",
       "    <tr>\n",
       "      <th>1</th>\n",
       "      <td>U.S. military to accept transgender recruits o...</td>\n",
       "      <td>WASHINGTON (Reuters) - Transgender people will...</td>\n",
       "      <td>politicsNews</td>\n",
       "      <td>December 29, 2017</td>\n",
       "    </tr>\n",
       "    <tr>\n",
       "      <th>2</th>\n",
       "      <td>Senior U.S. Republican senator: 'Let Mr. Muell...</td>\n",
       "      <td>WASHINGTON (Reuters) - The special counsel inv...</td>\n",
       "      <td>politicsNews</td>\n",
       "      <td>December 31, 2017</td>\n",
       "    </tr>\n",
       "    <tr>\n",
       "      <th>3</th>\n",
       "      <td>FBI Russia probe helped by Australian diplomat...</td>\n",
       "      <td>WASHINGTON (Reuters) - Trump campaign adviser ...</td>\n",
       "      <td>politicsNews</td>\n",
       "      <td>December 30, 2017</td>\n",
       "    </tr>\n",
       "    <tr>\n",
       "      <th>4</th>\n",
       "      <td>Trump wants Postal Service to charge 'much mor...</td>\n",
       "      <td>SEATTLE/WASHINGTON (Reuters) - President Donal...</td>\n",
       "      <td>politicsNews</td>\n",
       "      <td>December 29, 2017</td>\n",
       "    </tr>\n",
       "  </tbody>\n",
       "</table>\n",
       "</div>"
      ],
      "text/plain": [
       "                                               title  \\\n",
       "0  As U.S. budget fight looms, Republicans flip t...   \n",
       "1  U.S. military to accept transgender recruits o...   \n",
       "2  Senior U.S. Republican senator: 'Let Mr. Muell...   \n",
       "3  FBI Russia probe helped by Australian diplomat...   \n",
       "4  Trump wants Postal Service to charge 'much mor...   \n",
       "\n",
       "                                                text       subject  \\\n",
       "0  WASHINGTON (Reuters) - The head of a conservat...  politicsNews   \n",
       "1  WASHINGTON (Reuters) - Transgender people will...  politicsNews   \n",
       "2  WASHINGTON (Reuters) - The special counsel inv...  politicsNews   \n",
       "3  WASHINGTON (Reuters) - Trump campaign adviser ...  politicsNews   \n",
       "4  SEATTLE/WASHINGTON (Reuters) - President Donal...  politicsNews   \n",
       "\n",
       "                 date  \n",
       "0  December 31, 2017   \n",
       "1  December 29, 2017   \n",
       "2  December 31, 2017   \n",
       "3  December 30, 2017   \n",
       "4  December 29, 2017   "
      ]
     },
     "execution_count": 6,
     "metadata": {},
     "output_type": "execute_result"
    }
   ],
   "source": [
    "true_news.head()"
   ]
  },
  {
   "cell_type": "code",
   "execution_count": 7,
   "metadata": {},
   "outputs": [
    {
     "data": {
      "text/plain": [
       "(23481, 4)"
      ]
     },
     "execution_count": 7,
     "metadata": {},
     "output_type": "execute_result"
    }
   ],
   "source": [
    "fake_news.shape"
   ]
  },
  {
   "cell_type": "code",
   "execution_count": 8,
   "metadata": {},
   "outputs": [
    {
     "data": {
      "text/plain": [
       "(21417, 4)"
      ]
     },
     "execution_count": 8,
     "metadata": {},
     "output_type": "execute_result"
    }
   ],
   "source": [
    "true_news.shape"
   ]
  },
  {
   "cell_type": "code",
   "execution_count": 9,
   "metadata": {},
   "outputs": [
    {
     "name": "stdout",
     "output_type": "stream",
     "text": [
      "<class 'pandas.core.frame.DataFrame'>\n",
      "RangeIndex: 23481 entries, 0 to 23480\n",
      "Data columns (total 4 columns):\n",
      " #   Column   Non-Null Count  Dtype \n",
      "---  ------   --------------  ----- \n",
      " 0   title    23481 non-null  object\n",
      " 1   text     23481 non-null  object\n",
      " 2   subject  23481 non-null  object\n",
      " 3   date     23481 non-null  object\n",
      "dtypes: object(4)\n",
      "memory usage: 733.9+ KB\n"
     ]
    }
   ],
   "source": [
    "fake_news.info()"
   ]
  },
  {
   "cell_type": "code",
   "execution_count": 10,
   "metadata": {},
   "outputs": [
    {
     "name": "stdout",
     "output_type": "stream",
     "text": [
      "<class 'pandas.core.frame.DataFrame'>\n",
      "RangeIndex: 21417 entries, 0 to 21416\n",
      "Data columns (total 4 columns):\n",
      " #   Column   Non-Null Count  Dtype \n",
      "---  ------   --------------  ----- \n",
      " 0   title    21417 non-null  object\n",
      " 1   text     21417 non-null  object\n",
      " 2   subject  21417 non-null  object\n",
      " 3   date     21417 non-null  object\n",
      "dtypes: object(4)\n",
      "memory usage: 669.4+ KB\n"
     ]
    }
   ],
   "source": [
    "true_news.info()"
   ]
  },
  {
   "cell_type": "markdown",
   "metadata": {},
   "source": [
    "### Dataset Details\n",
    "This metadata has two csv files where one dataset contains fake news and the other contains true/real news and has nearly 23481 fake news and 21417 true news\n",
    "\n",
    "### Description of columns in the file:\n",
    "\n",
    "1.title- contains news headlines\n",
    "\n",
    "2.text-contains news content\n",
    "\n",
    "3.subject- type of news\n",
    "\n",
    "4.date- date the news was published"
   ]
  },
  {
   "cell_type": "markdown",
   "metadata": {},
   "source": [
    "### Preprocessing and Cleaning\n",
    "We have to perform  preprocessing steps before performing EDA."
   ]
  },
  {
   "cell_type": "code",
   "execution_count": 11,
   "metadata": {},
   "outputs": [],
   "source": [
    "#Target variable for fake news\n",
    "fake_news['output']=0\n",
    "\n",
    "#Target variable for true news\n",
    "true_news['output']=1"
   ]
  },
  {
   "cell_type": "code",
   "execution_count": 12,
   "metadata": {},
   "outputs": [],
   "source": [
    "#Concatenating and dropping for fake news\n",
    "fake_news['news']=fake_news['title']+fake_news['text']\n",
    "fake_news=fake_news.drop(['title', 'text'], axis=1)"
   ]
  },
  {
   "cell_type": "code",
   "execution_count": 13,
   "metadata": {},
   "outputs": [],
   "source": [
    "#Concatenating and dropping for true news\n",
    "true_news['news']=true_news['title']+true_news['text']\n",
    "true_news=true_news.drop(['title', 'text'], axis=1)"
   ]
  },
  {
   "cell_type": "code",
   "execution_count": 14,
   "metadata": {},
   "outputs": [],
   "source": [
    "#Rearranging the columns\n",
    "fake_news = fake_news[['subject', 'date', 'news','output']]\n",
    "true_news = true_news[['subject', 'date', 'news','output']]"
   ]
  },
  {
   "cell_type": "code",
   "execution_count": 15,
   "metadata": {},
   "outputs": [
    {
     "data": {
      "text/plain": [
       "May 10, 2017                                                                                                                46\n",
       "May 26, 2016                                                                                                                44\n",
       "May 5, 2016                                                                                                                 44\n",
       "May 6, 2016                                                                                                                 44\n",
       "May 11, 2016                                                                                                                43\n",
       "                                                                                                                            ..\n",
       "December 19, 2017                                                                                                            1\n",
       "December 4, 2017                                                                                                             1\n",
       "Jun 21, 2015                                                                                                                 1\n",
       "November 20, 2017                                                                                                            1\n",
       "MSNBC HOST Rudely Assumes Steel Worker Would Never Let His Son Follow in His Footsteps…He Couldn’t Be More Wrong [Video]     1\n",
       "Name: date, Length: 1681, dtype: int64"
      ]
     },
     "execution_count": 15,
     "metadata": {},
     "output_type": "execute_result"
    }
   ],
   "source": [
    "#Converting the date columns to datetime format\n",
    "fake_news['date'].value_counts()"
   ]
  },
  {
   "cell_type": "code",
   "execution_count": 16,
   "metadata": {},
   "outputs": [
    {
     "data": {
      "text/html": [
       "<div>\n",
       "<style scoped>\n",
       "    .dataframe tbody tr th:only-of-type {\n",
       "        vertical-align: middle;\n",
       "    }\n",
       "\n",
       "    .dataframe tbody tr th {\n",
       "        vertical-align: top;\n",
       "    }\n",
       "\n",
       "    .dataframe thead th {\n",
       "        text-align: right;\n",
       "    }\n",
       "</style>\n",
       "<table border=\"1\" class=\"dataframe\">\n",
       "  <thead>\n",
       "    <tr style=\"text-align: right;\">\n",
       "      <th></th>\n",
       "      <th>subject</th>\n",
       "      <th>date</th>\n",
       "      <th>news</th>\n",
       "      <th>output</th>\n",
       "    </tr>\n",
       "  </thead>\n",
       "  <tbody>\n",
       "    <tr>\n",
       "      <th>0</th>\n",
       "      <td>News</td>\n",
       "      <td>December 31, 2017</td>\n",
       "      <td>Donald Trump Sends Out Embarrassing New Year’...</td>\n",
       "      <td>0</td>\n",
       "    </tr>\n",
       "    <tr>\n",
       "      <th>1</th>\n",
       "      <td>News</td>\n",
       "      <td>December 31, 2017</td>\n",
       "      <td>Drunk Bragging Trump Staffer Started Russian ...</td>\n",
       "      <td>0</td>\n",
       "    </tr>\n",
       "    <tr>\n",
       "      <th>2</th>\n",
       "      <td>News</td>\n",
       "      <td>December 30, 2017</td>\n",
       "      <td>Sheriff David Clarke Becomes An Internet Joke...</td>\n",
       "      <td>0</td>\n",
       "    </tr>\n",
       "    <tr>\n",
       "      <th>3</th>\n",
       "      <td>News</td>\n",
       "      <td>December 29, 2017</td>\n",
       "      <td>Trump Is So Obsessed He Even Has Obama’s Name...</td>\n",
       "      <td>0</td>\n",
       "    </tr>\n",
       "    <tr>\n",
       "      <th>4</th>\n",
       "      <td>News</td>\n",
       "      <td>December 25, 2017</td>\n",
       "      <td>Pope Francis Just Called Out Donald Trump Dur...</td>\n",
       "      <td>0</td>\n",
       "    </tr>\n",
       "  </tbody>\n",
       "</table>\n",
       "</div>"
      ],
      "text/plain": [
       "  subject               date  \\\n",
       "0    News  December 31, 2017   \n",
       "1    News  December 31, 2017   \n",
       "2    News  December 30, 2017   \n",
       "3    News  December 29, 2017   \n",
       "4    News  December 25, 2017   \n",
       "\n",
       "                                                news  output  \n",
       "0   Donald Trump Sends Out Embarrassing New Year’...       0  \n",
       "1   Drunk Bragging Trump Staffer Started Russian ...       0  \n",
       "2   Sheriff David Clarke Becomes An Internet Joke...       0  \n",
       "3   Trump Is So Obsessed He Even Has Obama’s Name...       0  \n",
       "4   Pope Francis Just Called Out Donald Trump Dur...       0  "
      ]
     },
     "execution_count": 16,
     "metadata": {},
     "output_type": "execute_result"
    }
   ],
   "source": [
    "fake_news=fake_news[~fake_news.date.str.contains(\"http\")]\n",
    "fake_news=fake_news[~fake_news.date.str.contains(\"HOST\")]\n",
    "fake_news.head()"
   ]
  },
  {
   "cell_type": "code",
   "execution_count": 17,
   "metadata": {},
   "outputs": [
    {
     "data": {
      "text/plain": [
       "May 10, 2017         46\n",
       "May 5, 2016          44\n",
       "May 26, 2016         44\n",
       "May 6, 2016          44\n",
       "May 11, 2016         43\n",
       "                     ..\n",
       "Jun 7, 2015           1\n",
       "December 11, 2017     1\n",
       "Jun 21, 2015          1\n",
       "October 9, 2017       1\n",
       "December 4, 2017      1\n",
       "Name: date, Length: 1675, dtype: int64"
      ]
     },
     "execution_count": 17,
     "metadata": {},
     "output_type": "execute_result"
    }
   ],
   "source": [
    "fake_news['date'].value_counts()"
   ]
  },
  {
   "cell_type": "code",
   "execution_count": 18,
   "metadata": {},
   "outputs": [],
   "source": [
    "#Converting the date to datetime format\n",
    "fake_news['date'] = pd.to_datetime(fake_news['date'].str.strip(), dayfirst=True)\n",
    "true_news['date'] = pd.to_datetime(true_news['date'].str.strip(), dayfirst=True)"
   ]
  },
  {
   "cell_type": "code",
   "execution_count": 19,
   "metadata": {},
   "outputs": [
    {
     "data": {
      "text/html": [
       "<div>\n",
       "<style scoped>\n",
       "    .dataframe tbody tr th:only-of-type {\n",
       "        vertical-align: middle;\n",
       "    }\n",
       "\n",
       "    .dataframe tbody tr th {\n",
       "        vertical-align: top;\n",
       "    }\n",
       "\n",
       "    .dataframe thead th {\n",
       "        text-align: right;\n",
       "    }\n",
       "</style>\n",
       "<table border=\"1\" class=\"dataframe\">\n",
       "  <thead>\n",
       "    <tr style=\"text-align: right;\">\n",
       "      <th></th>\n",
       "      <th>subject</th>\n",
       "      <th>date</th>\n",
       "      <th>news</th>\n",
       "      <th>output</th>\n",
       "    </tr>\n",
       "  </thead>\n",
       "  <tbody>\n",
       "    <tr>\n",
       "      <th>0</th>\n",
       "      <td>News</td>\n",
       "      <td>2017-12-31</td>\n",
       "      <td>Donald Trump Sends Out Embarrassing New Year’...</td>\n",
       "      <td>0</td>\n",
       "    </tr>\n",
       "    <tr>\n",
       "      <th>1</th>\n",
       "      <td>News</td>\n",
       "      <td>2017-12-31</td>\n",
       "      <td>Drunk Bragging Trump Staffer Started Russian ...</td>\n",
       "      <td>0</td>\n",
       "    </tr>\n",
       "    <tr>\n",
       "      <th>2</th>\n",
       "      <td>News</td>\n",
       "      <td>2017-12-30</td>\n",
       "      <td>Sheriff David Clarke Becomes An Internet Joke...</td>\n",
       "      <td>0</td>\n",
       "    </tr>\n",
       "    <tr>\n",
       "      <th>3</th>\n",
       "      <td>News</td>\n",
       "      <td>2017-12-29</td>\n",
       "      <td>Trump Is So Obsessed He Even Has Obama’s Name...</td>\n",
       "      <td>0</td>\n",
       "    </tr>\n",
       "    <tr>\n",
       "      <th>4</th>\n",
       "      <td>News</td>\n",
       "      <td>2017-12-25</td>\n",
       "      <td>Pope Francis Just Called Out Donald Trump Dur...</td>\n",
       "      <td>0</td>\n",
       "    </tr>\n",
       "    <tr>\n",
       "      <th>...</th>\n",
       "      <td>...</td>\n",
       "      <td>...</td>\n",
       "      <td>...</td>\n",
       "      <td>...</td>\n",
       "    </tr>\n",
       "    <tr>\n",
       "      <th>21412</th>\n",
       "      <td>worldnews</td>\n",
       "      <td>2017-08-22</td>\n",
       "      <td>'Fully committed' NATO backs new U.S. approach...</td>\n",
       "      <td>1</td>\n",
       "    </tr>\n",
       "    <tr>\n",
       "      <th>21413</th>\n",
       "      <td>worldnews</td>\n",
       "      <td>2017-08-22</td>\n",
       "      <td>LexisNexis withdrew two products from Chinese ...</td>\n",
       "      <td>1</td>\n",
       "    </tr>\n",
       "    <tr>\n",
       "      <th>21414</th>\n",
       "      <td>worldnews</td>\n",
       "      <td>2017-08-22</td>\n",
       "      <td>Minsk cultural hub becomes haven from authorit...</td>\n",
       "      <td>1</td>\n",
       "    </tr>\n",
       "    <tr>\n",
       "      <th>21415</th>\n",
       "      <td>worldnews</td>\n",
       "      <td>2017-08-22</td>\n",
       "      <td>Vatican upbeat on possibility of Pope Francis ...</td>\n",
       "      <td>1</td>\n",
       "    </tr>\n",
       "    <tr>\n",
       "      <th>21416</th>\n",
       "      <td>worldnews</td>\n",
       "      <td>2017-08-22</td>\n",
       "      <td>Indonesia to buy $1.14 billion worth of Russia...</td>\n",
       "      <td>1</td>\n",
       "    </tr>\n",
       "  </tbody>\n",
       "</table>\n",
       "<p>44888 rows × 4 columns</p>\n",
       "</div>"
      ],
      "text/plain": [
       "         subject       date  \\\n",
       "0           News 2017-12-31   \n",
       "1           News 2017-12-31   \n",
       "2           News 2017-12-30   \n",
       "3           News 2017-12-29   \n",
       "4           News 2017-12-25   \n",
       "...          ...        ...   \n",
       "21412  worldnews 2017-08-22   \n",
       "21413  worldnews 2017-08-22   \n",
       "21414  worldnews 2017-08-22   \n",
       "21415  worldnews 2017-08-22   \n",
       "21416  worldnews 2017-08-22   \n",
       "\n",
       "                                                    news  output  \n",
       "0       Donald Trump Sends Out Embarrassing New Year’...       0  \n",
       "1       Drunk Bragging Trump Staffer Started Russian ...       0  \n",
       "2       Sheriff David Clarke Becomes An Internet Joke...       0  \n",
       "3       Trump Is So Obsessed He Even Has Obama’s Name...       0  \n",
       "4       Pope Francis Just Called Out Donald Trump Dur...       0  \n",
       "...                                                  ...     ...  \n",
       "21412  'Fully committed' NATO backs new U.S. approach...       1  \n",
       "21413  LexisNexis withdrew two products from Chinese ...       1  \n",
       "21414  Minsk cultural hub becomes haven from authorit...       1  \n",
       "21415  Vatican upbeat on possibility of Pope Francis ...       1  \n",
       "21416  Indonesia to buy $1.14 billion worth of Russia...       1  \n",
       "\n",
       "[44888 rows x 4 columns]"
      ]
     },
     "execution_count": 19,
     "metadata": {},
     "output_type": "execute_result"
    }
   ],
   "source": [
    "#Appending two datasets\n",
    "data = [fake_news, true_news]\n",
    "new_dataset = pd.concat(data)\n",
    "new_dataset"
   ]
  },
  {
   "cell_type": "code",
   "execution_count": 20,
   "metadata": {},
   "outputs": [
    {
     "data": {
      "text/html": [
       "<div>\n",
       "<style scoped>\n",
       "    .dataframe tbody tr th:only-of-type {\n",
       "        vertical-align: middle;\n",
       "    }\n",
       "\n",
       "    .dataframe tbody tr th {\n",
       "        vertical-align: top;\n",
       "    }\n",
       "\n",
       "    .dataframe thead th {\n",
       "        text-align: right;\n",
       "    }\n",
       "</style>\n",
       "<table border=\"1\" class=\"dataframe\">\n",
       "  <thead>\n",
       "    <tr style=\"text-align: right;\">\n",
       "      <th></th>\n",
       "      <th>subject</th>\n",
       "      <th>date</th>\n",
       "      <th>news</th>\n",
       "      <th>output</th>\n",
       "    </tr>\n",
       "  </thead>\n",
       "  <tbody>\n",
       "    <tr>\n",
       "      <th>0</th>\n",
       "      <td>News</td>\n",
       "      <td>2017-12-31</td>\n",
       "      <td>donald trump sends out embarrassing new year’...</td>\n",
       "      <td>0</td>\n",
       "    </tr>\n",
       "    <tr>\n",
       "      <th>1</th>\n",
       "      <td>News</td>\n",
       "      <td>2017-12-31</td>\n",
       "      <td>drunk bragging trump staffer started russian ...</td>\n",
       "      <td>0</td>\n",
       "    </tr>\n",
       "    <tr>\n",
       "      <th>2</th>\n",
       "      <td>News</td>\n",
       "      <td>2017-12-30</td>\n",
       "      <td>sheriff david clarke becomes an internet joke...</td>\n",
       "      <td>0</td>\n",
       "    </tr>\n",
       "    <tr>\n",
       "      <th>3</th>\n",
       "      <td>News</td>\n",
       "      <td>2017-12-29</td>\n",
       "      <td>trump is so obsessed he even has obama’s name...</td>\n",
       "      <td>0</td>\n",
       "    </tr>\n",
       "    <tr>\n",
       "      <th>4</th>\n",
       "      <td>News</td>\n",
       "      <td>2017-12-25</td>\n",
       "      <td>pope francis just called out donald trump dur...</td>\n",
       "      <td>0</td>\n",
       "    </tr>\n",
       "  </tbody>\n",
       "</table>\n",
       "</div>"
      ],
      "text/plain": [
       "  subject       date                                               news  \\\n",
       "0    News 2017-12-31   donald trump sends out embarrassing new year’...   \n",
       "1    News 2017-12-31   drunk bragging trump staffer started russian ...   \n",
       "2    News 2017-12-30   sheriff david clarke becomes an internet joke...   \n",
       "3    News 2017-12-29   trump is so obsessed he even has obama’s name...   \n",
       "4    News 2017-12-25   pope francis just called out donald trump dur...   \n",
       "\n",
       "   output  \n",
       "0       0  \n",
       "1       0  \n",
       "2       0  \n",
       "3       0  \n",
       "4       0  "
      ]
     },
     "execution_count": 20,
     "metadata": {},
     "output_type": "execute_result"
    }
   ],
   "source": [
    "df=new_dataset.copy()\n",
    "def cleaning(text):\n",
    "    text = str(text).lower()\n",
    "    text = re.sub('\\[.*?\\]', '', text)\n",
    "    text = re.sub('https?://\\S+|www\\.\\S+', '', text)\n",
    "    text = re.sub('<.*?>+', '', text)\n",
    "    text = re.sub('[%s]' % re.escape(string.punctuation), '', text)\n",
    "    text = re.sub('\\n', '', text)\n",
    "    text = re.sub('\\w*\\d\\w*', '', text)\n",
    "    return text\n",
    "df['news']=df['news'].apply(lambda x:cleaning(x))\n",
    "df.head()"
   ]
  },
  {
   "cell_type": "code",
   "execution_count": 21,
   "metadata": {},
   "outputs": [
    {
     "data": {
      "text/html": [
       "<div>\n",
       "<style scoped>\n",
       "    .dataframe tbody tr th:only-of-type {\n",
       "        vertical-align: middle;\n",
       "    }\n",
       "\n",
       "    .dataframe tbody tr th {\n",
       "        vertical-align: top;\n",
       "    }\n",
       "\n",
       "    .dataframe thead th {\n",
       "        text-align: right;\n",
       "    }\n",
       "</style>\n",
       "<table border=\"1\" class=\"dataframe\">\n",
       "  <thead>\n",
       "    <tr style=\"text-align: right;\">\n",
       "      <th></th>\n",
       "      <th>subject</th>\n",
       "      <th>date</th>\n",
       "      <th>news</th>\n",
       "      <th>output</th>\n",
       "    </tr>\n",
       "  </thead>\n",
       "  <tbody>\n",
       "    <tr>\n",
       "      <th>0</th>\n",
       "      <td>News</td>\n",
       "      <td>2017-12-31</td>\n",
       "      <td>donald trump sends out embarrassing new year’...</td>\n",
       "      <td>0</td>\n",
       "    </tr>\n",
       "    <tr>\n",
       "      <th>1</th>\n",
       "      <td>News</td>\n",
       "      <td>2017-12-31</td>\n",
       "      <td>drunk bragging trump staffer started russian ...</td>\n",
       "      <td>0</td>\n",
       "    </tr>\n",
       "    <tr>\n",
       "      <th>2</th>\n",
       "      <td>News</td>\n",
       "      <td>2017-12-30</td>\n",
       "      <td>sheriff david clarke becomes an internet joke...</td>\n",
       "      <td>0</td>\n",
       "    </tr>\n",
       "    <tr>\n",
       "      <th>3</th>\n",
       "      <td>News</td>\n",
       "      <td>2017-12-29</td>\n",
       "      <td>trump is so obsessed he even has obama’s name...</td>\n",
       "      <td>0</td>\n",
       "    </tr>\n",
       "    <tr>\n",
       "      <th>4</th>\n",
       "      <td>News</td>\n",
       "      <td>2017-12-25</td>\n",
       "      <td>pope francis just called out donald trump dur...</td>\n",
       "      <td>0</td>\n",
       "    </tr>\n",
       "  </tbody>\n",
       "</table>\n",
       "</div>"
      ],
      "text/plain": [
       "  subject       date                                               news  \\\n",
       "0    News 2017-12-31   donald trump sends out embarrassing new year’...   \n",
       "1    News 2017-12-31   drunk bragging trump staffer started russian ...   \n",
       "2    News 2017-12-30   sheriff david clarke becomes an internet joke...   \n",
       "3    News 2017-12-29   trump is so obsessed he even has obama’s name...   \n",
       "4    News 2017-12-25   pope francis just called out donald trump dur...   \n",
       "\n",
       "   output  \n",
       "0       0  \n",
       "1       0  \n",
       "2       0  \n",
       "3       0  \n",
       "4       0  "
      ]
     },
     "execution_count": 21,
     "metadata": {},
     "output_type": "execute_result"
    }
   ],
   "source": [
    "#preprocessing the data\n",
    "from nltk.corpus import stopwords\n",
    "stop = stopwords.words('english')\n",
    "df['news'].apply(lambda x: ' '.join([word for word in x.split() if word not in (stop)]))\n",
    "df.head()"
   ]
  },
  {
   "cell_type": "code",
   "execution_count": 22,
   "metadata": {},
   "outputs": [],
   "source": [
    "#Function to get top n words\n",
    "def top_words(corpus, n=None):\n",
    "    vec = CountVectorizer().fit(corpus)\n",
    "    words = vec.transform(corpus)\n",
    "    sum = words.sum(axis=0) \n",
    "    words_freq = [(word, sum[0, idx]) for word, idx in vec.vocabulary_.items()]\n",
    "    words_freq =sorted(words_freq, key = lambda x: x[1], reverse=True)\n",
    "    return words_freq[:n]"
   ]
  },
  {
   "cell_type": "code",
   "execution_count": 23,
   "metadata": {},
   "outputs": [
    {
     "name": "stdout",
     "output_type": "stream",
     "text": [
      "word: the : count: 1013570\n",
      "word: to : count: 551828\n",
      "word: of : count: 448644\n",
      "word: and : count: 410084\n",
      "word: in : count: 353762\n",
      "word: that : count: 239260\n",
      "word: on : count: 196149\n",
      "word: for : count: 179071\n",
      "word: is : count: 169230\n",
      "word: trump : count: 140400\n",
      "word: he : count: 133510\n",
      "word: said : count: 130258\n",
      "word: it : count: 128983\n",
      "word: with : count: 121215\n",
      "word: was : count: 116587\n",
      "word: as : count: 104887\n",
      "word: his : count: 97825\n",
      "word: by : count: 96871\n",
      "word: has : count: 89423\n",
      "word: be : count: 84260\n"
     ]
    }
   ],
   "source": [
    "#Calling function and return only top 20 words\n",
    "common_words = top_words(df['news'], 20)\n",
    "for word, freq in common_words:\n",
    "    print('word:', word, ':', 'count:',freq)"
   ]
  },
  {
   "cell_type": "code",
   "execution_count": 24,
   "metadata": {},
   "outputs": [
    {
     "data": {
      "text/plain": [
       "Text(0.5, 1.0, 'Count of fake and true news')"
      ]
     },
     "execution_count": 24,
     "metadata": {},
     "output_type": "execute_result"
    }
   ],
   "source": [
    "##seaborn countplot\n",
    "import matplotlib.pyplot as plt\n",
    "import seaborn as sns\n",
    "sns.countplot(x=\"output\", data=df)\n",
    "plt.title(\"Count of fake and true news\")"
   ]
  },
  {
   "cell_type": "code",
   "execution_count": 25,
   "metadata": {},
   "outputs": [],
   "source": [
    "#Function to get top bigram words\n",
    "def top_bigram(corpus, n=None):\n",
    "    vec = CountVectorizer(ngram_range=(2, 2)).fit(corpus)\n",
    "    words = vec.transform(corpus)\n",
    "    sum_ = words.sum(axis=0) \n",
    "    words_freq = [(word, sum_[0, idx]) for word, idx in vec.vocabulary_.items()]\n",
    "    words_freq =sorted(words_freq, key = lambda x: x[1], reverse=True)\n",
    "    return words_freq[:n]"
   ]
  },
  {
   "cell_type": "code",
   "execution_count": 26,
   "metadata": {},
   "outputs": [
    {
     "name": "stdout",
     "output_type": "stream",
     "text": [
      "word: of the : count: 102320\n",
      "word: in the : count: 81809\n",
      "word: to the : count: 50432\n",
      "word: on the : count: 35668\n",
      "word: for the : count: 31587\n",
      "word: to be : count: 26594\n",
      "word: and the : count: 26507\n",
      "word: donald trump : count: 25051\n",
      "word: that the : count: 24800\n",
      "word: at the : count: 23626\n",
      "word: with the : count: 23058\n",
      "word: the united : count: 21087\n",
      "word: by the : count: 20763\n",
      "word: the us : count: 19960\n",
      "word: from the : count: 19141\n",
      "word: united states : count: 18394\n",
      "word: white house : count: 15485\n",
      "word: said the : count: 14951\n",
      "word: has been : count: 14379\n",
      "word: that he : count: 13978\n"
     ]
    }
   ],
   "source": [
    "#Calling function and return only top 20 words\n",
    "common_words = top_bigram(df['news'], 20)\n",
    "for word, freq in common_words:\n",
    "    print('word:', word, ':', 'count:',freq)"
   ]
  },
  {
   "cell_type": "code",
   "execution_count": 27,
   "metadata": {},
   "outputs": [],
   "source": [
    "#Function to get top trigram words\n",
    "def top_trigram(corpus, n=None):\n",
    "    vec = CountVectorizer(ngram_range=(3, 3), stop_words='english').fit(corpus)\n",
    "    words = vec.transform(corpus)\n",
    "    sum_ = words.sum(axis=0) \n",
    "    words_freq = [(word, sum_[0, idx]) for word, idx in vec.vocabulary_.items()]\n",
    "    words_freq =sorted(words_freq, key = lambda x: x[1], reverse=True)\n",
    "    return words_freq[:n]"
   ]
  },
  {
   "cell_type": "code",
   "execution_count": 28,
   "metadata": {},
   "outputs": [
    {
     "name": "stdout",
     "output_type": "stream",
     "text": [
      "word: president donald trump : count: 6806\n",
      "word: president barack obama : count: 3735\n",
      "word: new york times : count: 2034\n",
      "word: donald trump realdonaldtrump : count: 1790\n",
      "word: reuters president donald : count: 1476\n",
      "word: black lives matter : count: 1431\n",
      "word: president united states : count: 1096\n",
      "word: white house said : count: 1050\n",
      "word: presidentelect donald trump : count: 1043\n",
      "word: new york city : count: 1006\n",
      "word: president vladimir putin : count: 955\n",
      "word: news century wire : count: 951\n",
      "word: national security adviser : count: 898\n",
      "word: affordable care act : count: 868\n",
      "word: director james comey : count: 860\n",
      "word: speaker paul ryan : count: 851\n",
      "word: fbi director james : count: 777\n",
      "word: state rex tillerson : count: 775\n",
      "word: secretary state rex : count: 765\n",
      "word: russian president vladimir : count: 745\n"
     ]
    }
   ],
   "source": [
    "#Calling function and return only top 20 words\n",
    "common_words = top_trigram(df['news'], 20)\n",
    "for word, freq in common_words:\n",
    "    print('word:', word, ':', 'count:',freq)"
   ]
  },
  {
   "cell_type": "code",
   "execution_count": 29,
   "metadata": {},
   "outputs": [],
   "source": [
    "from wordcloud import WordCloud"
   ]
  },
  {
   "cell_type": "code",
   "execution_count": 30,
   "metadata": {},
   "outputs": [
    {
     "data": {
      "text/plain": [
       "Text(0.5, 1.0, 'WordCloud - Vocabulary from Reviews')"
      ]
     },
     "execution_count": 30,
     "metadata": {},
     "output_type": "execute_result"
    },
    {
     "data": {
      "image/png": "[encoded data removed]",
      "text/plain": [
       "<Figure size 720x576 with 1 Axes>"
      ]
     },
     "metadata": {
      "needs_background": "light"
     },
     "output_type": "display_data"
    }
   ],
   "source": [
    "text = fake_news[\"news\"]\n",
    "wordcloud = WordCloud(background_color = 'green', width = 1000, height = 1000, stopwords = STOPWORDS).generate(str(text))\n",
    "plt.figure(figsize=(10,8))\n",
    "plt.imshow(wordcloud)\n",
    "plt.title(\"WordCloud - Vocabulary from Reviews\", fontsize = 22)"
   ]
  },
  {
   "cell_type": "code",
   "execution_count": 31,
   "metadata": {},
   "outputs": [
    {
     "data": {
      "text/plain": [
       "Text(0.5, 1.0, 'WordCloud - Vocabulary from Reviews')"
      ]
     },
     "execution_count": 31,
     "metadata": {},
     "output_type": "execute_result"
    },
    {
     "data": {
      "image/png": "[encoded data removed]",
      "text/plain": [
       "<Figure size 720x576 with 1 Axes>"
      ]
     },
     "metadata": {
      "needs_background": "light"
     },
     "output_type": "display_data"
    }
   ],
   "source": [
    "text = true_news[\"news\"]\n",
    "wordcloud = WordCloud(background_color = 'black', width = 1000, height = 1000, stopwords = STOPWORDS).generate(str(text))\n",
    "plt.figure(figsize=(10,8))\n",
    "plt.imshow(wordcloud)\n",
    "plt.title(\"WordCloud - Vocabulary from Reviews\", fontsize = 22)"
   ]
  },
  {
   "cell_type": "code",
   "execution_count": 32,
   "metadata": {},
   "outputs": [
    {
     "data": {
      "text/html": [
       "<div>\n",
       "<style scoped>\n",
       "    .dataframe tbody tr th:only-of-type {\n",
       "        vertical-align: middle;\n",
       "    }\n",
       "\n",
       "    .dataframe tbody tr th {\n",
       "        vertical-align: top;\n",
       "    }\n",
       "\n",
       "    .dataframe thead th {\n",
       "        text-align: right;\n",
       "    }\n",
       "</style>\n",
       "<table border=\"1\" class=\"dataframe\">\n",
       "  <thead>\n",
       "    <tr style=\"text-align: right;\">\n",
       "      <th></th>\n",
       "      <th>news</th>\n",
       "    </tr>\n",
       "  </thead>\n",
       "  <tbody>\n",
       "    <tr>\n",
       "      <th>0</th>\n",
       "      <td>donald trump sends out embarrassing new year’...</td>\n",
       "    </tr>\n",
       "    <tr>\n",
       "      <th>1</th>\n",
       "      <td>drunk bragging trump staffer started russian ...</td>\n",
       "    </tr>\n",
       "    <tr>\n",
       "      <th>2</th>\n",
       "      <td>sheriff david clarke becomes an internet joke...</td>\n",
       "    </tr>\n",
       "    <tr>\n",
       "      <th>3</th>\n",
       "      <td>trump is so obsessed he even has obama’s name...</td>\n",
       "    </tr>\n",
       "    <tr>\n",
       "      <th>4</th>\n",
       "      <td>pope francis just called out donald trump dur...</td>\n",
       "    </tr>\n",
       "  </tbody>\n",
       "</table>\n",
       "</div>"
      ],
      "text/plain": [
       "                                                news\n",
       "0   donald trump sends out embarrassing new year’...\n",
       "1   drunk bragging trump staffer started russian ...\n",
       "2   sheriff david clarke becomes an internet joke...\n",
       "3   trump is so obsessed he even has obama’s name...\n",
       "4   pope francis just called out donald trump dur..."
      ]
     },
     "execution_count": 32,
     "metadata": {},
     "output_type": "execute_result"
    }
   ],
   "source": [
    "#Extracting 'reviews' for processing\n",
    "news_data=df.copy()\n",
    "news_data=news_data[['news']].reset_index(drop=True)\n",
    "news_data.head()"
   ]
  },
  {
   "cell_type": "code",
   "execution_count": 33,
   "metadata": {},
   "outputs": [
    {
     "data": {
      "text/plain": [
       "(44888, 1)"
      ]
     },
     "execution_count": 33,
     "metadata": {},
     "output_type": "execute_result"
    }
   ],
   "source": [
    "news_data.shape"
   ]
  },
  {
   "cell_type": "markdown",
   "metadata": {},
   "source": [
    "### Stemming \n",
    "Stemming is a method of deriving root word from the inflected word. Here we extract the reviews and convert the words in reviews to its root word. \n",
    "\n",
    "For example,\n",
    "history->histori\n",
    "Finally->fina\n",
    "\n",
    "If you notice, the root words doesn't need to carry a semantic meaning. There is another technique knows as Lemmatization where it converts the words into root words which has a semantic meaning. Simce it takes time. I'm using stemming"
   ]
  },
  {
   "cell_type": "code",
   "execution_count": 34,
   "metadata": {},
   "outputs": [],
   "source": [
    "stop_words = set(stopwords.words(\"english\"))\n",
    "ps = PorterStemmer()"
   ]
  },
  {
   "cell_type": "code",
   "execution_count": 36,
   "metadata": {},
   "outputs": [],
   "source": [
    "#splitting and adding the stemmed words except stopwords\n",
    "corpus = []\n",
    "for i in range(0, len(news_data)):\n",
    "    news = re.sub('[^a-zA-Z]', ' ', news_data['news'][i])\n",
    "    news= news.lower()\n",
    "    news = news.split()\n",
    "    news = [ps.stem(word) for word in news if not word in stop_words]\n",
    "    news = ' '.join(news)\n",
    "    corpus.append(news)  "
   ]
  },
  {
   "cell_type": "code",
   "execution_count": 37,
   "metadata": {},
   "outputs": [
    {
     "data": {
      "text/plain": [
       "'drunk brag trump staffer start russian collus investigationhous intellig committe chairman devin nune go bad day assumpt like mani us christoph steeledossi prompt russia investig lash depart justic fbi order protect trump happen dossier start investig accord document obtain new york timesform trump campaign advis georg papadopoulo drunk wine bar reveal knowledg russian opposit research hillari clintonon top papadopoulo covfef boy trump administr alleg much larger role none damn drunken fool wine bar coffe boy help arrang new york meet trump presid abdel fattah elsisi egypt two month elect known former aid set meet world leader trump team trump ran mere coffe boyin may papadopoulo reveal australian diplomat alexand downer russian offici shop around possibl dirt thendemocrat presidenti nomine hillari clinton exactli much mr papadopoulo said night kensington wine room australian alexand downer unclear report state two month later leak democrat email began appear onlin australian offici pass inform mr papadopoulo american counterpart accord four current former american foreign offici direct knowledg australian role papadopoulo plead guilti lie fbi cooper wit special counsel robert mueller teamthi presid badli script realiti tv showphoto win mcnameegetti imag'"
      ]
     },
     "execution_count": 37,
     "metadata": {},
     "output_type": "execute_result"
    }
   ],
   "source": [
    "corpus[1]"
   ]
  },
  {
   "cell_type": "markdown",
   "metadata": {},
   "source": [
    "### TFIDF(Term Frequency — Inverse Document Frequency)\n",
    "TF-IDF stands for “Term Frequency — Inverse Document Frequency”. This is a technique to quantify a word in documents, we generally compute a weight to each word which signifies the importance of the word in the document and corpus. This method is a widely used technique in Information Retrieval and Text Mining.\n",
    "Here we are splitting as bigram (two words) and consider their combined weight.Also we are taking only the top 5000 words from the news."
   ]
  },
  {
   "cell_type": "code",
   "execution_count": 38,
   "metadata": {},
   "outputs": [
    {
     "data": {
      "text/plain": [
       "(44888, 5000)"
      ]
     },
     "execution_count": 38,
     "metadata": {},
     "output_type": "execute_result"
    }
   ],
   "source": [
    "tfidf_vectorizer = TfidfVectorizer(max_features=5000,ngram_range=(2,2))\n",
    "X= tfidf_vectorizer.fit_transform(news_data['news'])\n",
    "X.shape"
   ]
  },
  {
   "cell_type": "code",
   "execution_count": 39,
   "metadata": {},
   "outputs": [],
   "source": [
    "#Getting the target variable\n",
    "y=df['output']"
   ]
  },
  {
   "cell_type": "markdown",
   "metadata": {},
   "source": [
    "### Day 2 Task"
   ]
  },
  {
   "cell_type": "markdown",
   "metadata": {},
   "source": [
    "### Word2Vec -- Vectorization \n",
    "Word2Vec is one of the most popular technique to learn word embeddings using shallow neural network. It was developed by Tomas Mikolov in 2013 at Google.\n",
    "Word embedding is the most popular representation of document vocabulary. It is capable of capturing context of a word in a document, semantic and syntactic similarity, relation with other words, etc."
   ]
  },
  {
   "cell_type": "code",
   "execution_count": 40,
   "metadata": {},
   "outputs": [],
   "source": [
    "import gensim\n",
    "import nltk\n",
    "from nltk.corpus import stopwords\n",
    "import re"
   ]
  },
  {
   "cell_type": "code",
   "execution_count": 41,
   "metadata": {},
   "outputs": [
    {
     "data": {
      "text/html": [
       "<div>\n",
       "<style scoped>\n",
       "    .dataframe tbody tr th:only-of-type {\n",
       "        vertical-align: middle;\n",
       "    }\n",
       "\n",
       "    .dataframe tbody tr th {\n",
       "        vertical-align: top;\n",
       "    }\n",
       "\n",
       "    .dataframe thead th {\n",
       "        text-align: right;\n",
       "    }\n",
       "</style>\n",
       "<table border=\"1\" class=\"dataframe\">\n",
       "  <thead>\n",
       "    <tr style=\"text-align: right;\">\n",
       "      <th></th>\n",
       "      <th>news</th>\n",
       "    </tr>\n",
       "  </thead>\n",
       "  <tbody>\n",
       "    <tr>\n",
       "      <th>0</th>\n",
       "      <td>donald trump sends out embarrassing new year’...</td>\n",
       "    </tr>\n",
       "    <tr>\n",
       "      <th>1</th>\n",
       "      <td>drunk bragging trump staffer started russian ...</td>\n",
       "    </tr>\n",
       "    <tr>\n",
       "      <th>2</th>\n",
       "      <td>sheriff david clarke becomes an internet joke...</td>\n",
       "    </tr>\n",
       "    <tr>\n",
       "      <th>3</th>\n",
       "      <td>trump is so obsessed he even has obama’s name...</td>\n",
       "    </tr>\n",
       "    <tr>\n",
       "      <th>4</th>\n",
       "      <td>pope francis just called out donald trump dur...</td>\n",
       "    </tr>\n",
       "  </tbody>\n",
       "</table>\n",
       "</div>"
      ],
      "text/plain": [
       "                                                news\n",
       "0   donald trump sends out embarrassing new year’...\n",
       "1   drunk bragging trump staffer started russian ...\n",
       "2   sheriff david clarke becomes an internet joke...\n",
       "3   trump is so obsessed he even has obama’s name...\n",
       "4   pope francis just called out donald trump dur..."
      ]
     },
     "execution_count": 41,
     "metadata": {},
     "output_type": "execute_result"
    }
   ],
   "source": [
    "df1=df.copy()\n",
    "df1=df1[['news']].reset_index(drop=True)\n",
    "df1.head()"
   ]
  },
  {
   "cell_type": "code",
   "execution_count": 42,
   "metadata": {},
   "outputs": [
    {
     "data": {
      "text/plain": [
       "(44888, 1)"
      ]
     },
     "execution_count": 42,
     "metadata": {},
     "output_type": "execute_result"
    }
   ],
   "source": [
    "df1.shape"
   ]
  },
  {
   "cell_type": "code",
   "execution_count": 43,
   "metadata": {},
   "outputs": [],
   "source": [
    "stop_words = set(stopwords.words(\"english\"))\n",
    "ps = PorterStemmer()\n",
    "#splitting and adding the stemmed words except stopwords\n",
    "corpus1 = []\n",
    "for i in range(0, len(df1)):\n",
    "    news = re.sub('[^a-zA-Z]', ' ', df1['news'][i])\n",
    "    news= news.lower()\n",
    "    news = news.split()\n",
    "    news = [ps.stem(word) for word in news if not word in stop_words]\n",
    "    news = ' '.join(news)\n",
    "    corpus1.append(news)  "
   ]
  },
  {
   "cell_type": "code",
   "execution_count": 44,
   "metadata": {},
   "outputs": [
    {
     "data": {
      "text/plain": [
       "'drunk brag trump staffer start russian collus investigationhous intellig committe chairman devin nune go bad day assumpt like mani us christoph steeledossi prompt russia investig lash depart justic fbi order protect trump happen dossier start investig accord document obtain new york timesform trump campaign advis georg papadopoulo drunk wine bar reveal knowledg russian opposit research hillari clintonon top papadopoulo covfef boy trump administr alleg much larger role none damn drunken fool wine bar coffe boy help arrang new york meet trump presid abdel fattah elsisi egypt two month elect known former aid set meet world leader trump team trump ran mere coffe boyin may papadopoulo reveal australian diplomat alexand downer russian offici shop around possibl dirt thendemocrat presidenti nomine hillari clinton exactli much mr papadopoulo said night kensington wine room australian alexand downer unclear report state two month later leak democrat email began appear onlin australian offici pass inform mr papadopoulo american counterpart accord four current former american foreign offici direct knowledg australian role papadopoulo plead guilti lie fbi cooper wit special counsel robert mueller teamthi presid badli script realiti tv showphoto win mcnameegetti imag'"
      ]
     },
     "execution_count": 44,
     "metadata": {},
     "output_type": "execute_result"
    }
   ],
   "source": [
    "corpus1[1]"
   ]
  },
  {
   "cell_type": "code",
   "execution_count": 45,
   "metadata": {},
   "outputs": [],
   "source": [
    "X1 = []\n",
    "stop_words = set(nltk.corpus.stopwords.words(\"english\"))\n",
    "tokenizer = nltk.tokenize.RegexpTokenizer(r'\\w+')\n",
    "for par in df1[\"news\"].values:\n",
    "    temp = []\n",
    "    sentences = nltk.sent_tokenize(par)\n",
    "    for sent in sentences:\n",
    "        sent = sent.lower()\n",
    "        tokens = tokenizer.tokenize(sent)\n",
    "        filtered_words = [w.strip() for w in tokens if w not in stop_words and len(w) > 1]\n",
    "        temp.extend(filtered_words)\n",
    "    X1.append(temp)"
   ]
  },
  {
   "cell_type": "code",
   "execution_count": 46,
   "metadata": {},
   "outputs": [],
   "source": [
    "#Dimension of vectors we are generating\n",
    "EMBEDDING_DIM = 100\n",
    "\n",
    "#Creating Word Vectors by Word2Vec Method (takes time...)\n",
    "w2v_model = gensim.models.Word2Vec(sentences=X1, size=EMBEDDING_DIM, window=5, min_count=1)"
   ]
  },
  {
   "cell_type": "code",
   "execution_count": 47,
   "metadata": {},
   "outputs": [
    {
     "data": {
      "text/plain": [
       "219012"
      ]
     },
     "execution_count": 47,
     "metadata": {},
     "output_type": "execute_result"
    }
   ],
   "source": [
    "#vocab size\n",
    "len(w2v_model.wv.vocab)"
   ]
  },
  {
   "cell_type": "code",
   "execution_count": 48,
   "metadata": {},
   "outputs": [
    {
     "data": {
      "text/plain": [
       "array([ 2.2121763 , -0.04253436, -2.4211857 ,  0.24280795, -0.20357934,\n",
       "       -0.62612253, -1.4849434 , -1.9247683 , -0.16428436, -0.56415796,\n",
       "       -1.1354725 ,  2.362691  , -0.39128345, -0.5301592 , -0.48435575,\n",
       "        1.0935235 ,  0.25691584,  2.8996742 ,  1.0126399 , -0.98695046,\n",
       "       -2.6391265 ,  0.1764777 ,  0.34829548,  0.6691574 , -0.11990207,\n",
       "        0.69909674,  2.751036  , -0.91732574,  1.3734087 , -0.99076515,\n",
       "        0.06245931,  4.0370307 , -0.6008222 ,  1.9023764 ,  2.947813  ,\n",
       "       -2.3571718 ,  2.0871453 , -1.5510064 , -0.33711675,  0.8842626 ,\n",
       "        0.45696583, -0.6450854 , -1.7465974 , -0.34782234, -1.2667068 ,\n",
       "       -3.0215867 ,  0.09655878, -1.2077161 , -1.2111449 ,  0.04733181,\n",
       "        1.3451438 ,  2.3075798 , -0.96322656,  1.3808304 ,  3.9988782 ,\n",
       "        1.1229974 , -0.36907277,  2.1039615 , -1.9157379 ,  1.4518477 ,\n",
       "        0.64476234,  0.9533515 , -1.2088871 , -1.5834299 ,  0.71617544,\n",
       "       -0.3289287 , -1.7079862 ,  0.2963554 ,  0.5237787 , -1.0443709 ,\n",
       "       -0.48252767, -0.48445848, -3.341641  , -1.5110333 ,  1.8710175 ,\n",
       "        1.6236702 , -0.23702846,  1.4141939 ,  0.85029906,  0.4936307 ,\n",
       "        2.5881987 ,  1.3348027 ,  1.3260953 ,  2.2021518 , -2.4886625 ,\n",
       "       -0.18239866,  4.6286025 , -1.2399952 ,  0.1646112 , -0.25568503,\n",
       "        0.15845256, -2.786315  , -0.19203907,  0.5631451 ,  2.797889  ,\n",
       "        0.86637473,  0.30312407,  1.0484892 ,  0.55390364, -0.4430397 ],\n",
       "      dtype=float32)"
      ]
     },
     "execution_count": 48,
     "metadata": {},
     "output_type": "execute_result"
    }
   ],
   "source": [
    "#see a sample vector for random word, lets say Corona \n",
    "w2v_model[\"trump\"]"
   ]
  },
  {
   "cell_type": "code",
   "execution_count": 49,
   "metadata": {},
   "outputs": [
    {
     "data": {
      "text/plain": [
       "[('tehran', 0.8787291646003723),\n",
       " ('iranian', 0.7448481917381287),\n",
       " ('nuclear', 0.6180054545402527),\n",
       " ('iranians', 0.6175577640533447),\n",
       " ('destabilizing', 0.6110596656799316),\n",
       " ('qatar', 0.6084328889846802),\n",
       " ('usiran', 0.6013638973236084),\n",
       " ('jcpoa', 0.5966141819953918),\n",
       " ('pyongyang', 0.5945923328399658),\n",
       " ('hezbollah', 0.5846118330955505)]"
      ]
     },
     "execution_count": 49,
     "metadata": {},
     "output_type": "execute_result"
    }
   ],
   "source": [
    "w2v_model.wv.most_similar(\"iran\")"
   ]
  },
  {
   "cell_type": "code",
   "execution_count": 50,
   "metadata": {},
   "outputs": [],
   "source": [
    "from tensorflow.keras.preprocessing.text import Tokenizer\n",
    "#Tokenized applies basic processing like changing it yo lower case, explicitely setting that as False\n",
    "tokenizer = Tokenizer()\n",
    "tokenizer.fit_on_texts(X1)\n",
    "X1 = tokenizer.texts_to_sequences(X1)"
   ]
  },
  {
   "cell_type": "code",
   "execution_count": 51,
   "metadata": {},
   "outputs": [
    {
     "data": {
      "text/plain": [
       "[15, 1, 4578, 2509, 9, 35, 4427, 499, 120165, 1]"
      ]
     },
     "execution_count": 51,
     "metadata": {},
     "output_type": "execute_result"
    }
   ],
   "source": [
    "# lets check the first 10 words of first news\n",
    "#every word has been represented with a number\n",
    "X1[0][:10]"
   ]
  },
  {
   "cell_type": "code",
   "execution_count": 52,
   "metadata": {},
   "outputs": [
    {
     "name": "stdout",
     "output_type": "stream",
     "text": [
      "trump : 1\n",
      "said : 2\n",
      "us : 3\n",
      "would : 4\n",
      "president : 5\n",
      "people : 6\n",
      "one : 7\n",
      "state : 8\n",
      "new : 9\n",
      "also : 10\n"
     ]
    }
   ],
   "source": [
    "word_index = tokenizer.word_index\n",
    "for word, num in word_index.items():\n",
    "    print(f\"{word} : {num}\")\n",
    "    if num == 10:\n",
    "        break     "
   ]
  },
  {
   "cell_type": "code",
   "execution_count": 53,
   "metadata": {},
   "outputs": [
    {
     "data": {
      "text/plain": [
       "44088"
      ]
     },
     "execution_count": 53,
     "metadata": {},
     "output_type": "execute_result"
    }
   ],
   "source": [
    "num = np.array([len(x1) for x1 in X1])\n",
    "len(num[num  < 700])"
   ]
  },
  {
   "cell_type": "code",
   "execution_count": 54,
   "metadata": {},
   "outputs": [],
   "source": [
    "#Lets keep all news to 700, add padding to news with less than 700 words and truncating long ones\n",
    "maxlength = 700 "
   ]
  },
  {
   "cell_type": "code",
   "execution_count": 55,
   "metadata": {},
   "outputs": [],
   "source": [
    "from tensorflow.keras.preprocessing.sequence import pad_sequences"
   ]
  },
  {
   "cell_type": "code",
   "execution_count": 56,
   "metadata": {},
   "outputs": [],
   "source": [
    "#Making all news of size maxlen defined above\n",
    "X1 = pad_sequences(X1, maxlen=maxlength)"
   ]
  },
  {
   "cell_type": "code",
   "execution_count": 57,
   "metadata": {},
   "outputs": [
    {
     "data": {
      "text/plain": [
       "700"
      ]
     },
     "execution_count": 57,
     "metadata": {},
     "output_type": "execute_result"
    }
   ],
   "source": [
    "len(X1[0])"
   ]
  },
  {
   "cell_type": "code",
   "execution_count": 58,
   "metadata": {},
   "outputs": [],
   "source": [
    "vocab_size = len(tokenizer.word_index) + 1"
   ]
  },
  {
   "cell_type": "code",
   "execution_count": 59,
   "metadata": {},
   "outputs": [],
   "source": [
    "# Function to create weight matrix from word2vec gensim model\n",
    "def get_weight_matrix(model, vocab):\n",
    "    vocab_size = len(vocab) + 1\n",
    "    weight_matrix = np.zeros((vocab_size, EMBEDDING_DIM))\n",
    "    for word, i in vocab.items():\n",
    "        weight_matrix[i] = model[word]\n",
    "    return weight_matrix"
   ]
  },
  {
   "cell_type": "code",
   "execution_count": 60,
   "metadata": {},
   "outputs": [
    {
     "data": {
      "text/plain": [
       "{'trump': 1,\n",
       " 'said': 2,\n",
       " 'us': 3,\n",
       " 'would': 4,\n",
       " 'president': 5,\n",
       " 'people': 6,\n",
       " 'one': 7,\n",
       " 'state': 8,\n",
       " 'new': 9,\n",
       " 'also': 10,\n",
       " 'obama': 11,\n",
       " 'clinton': 12,\n",
       " 'house': 13,\n",
       " 'government': 14,\n",
       " 'donald': 15,\n",
       " 'reuters': 16,\n",
       " 'states': 17,\n",
       " 'republican': 18,\n",
       " 'could': 19,\n",
       " 'white': 20,\n",
       " 'told': 21,\n",
       " 'united': 22,\n",
       " 'like': 23,\n",
       " 'campaign': 24,\n",
       " 'news': 25,\n",
       " 'last': 26,\n",
       " 'party': 27,\n",
       " 'two': 28,\n",
       " 'election': 29,\n",
       " 'time': 30,\n",
       " 'first': 31,\n",
       " 'hillary': 32,\n",
       " 'former': 33,\n",
       " 'even': 34,\n",
       " 'year': 35,\n",
       " 'country': 36,\n",
       " 'many': 37,\n",
       " 'years': 38,\n",
       " 'security': 39,\n",
       " 'media': 40,\n",
       " 'may': 41,\n",
       " 'say': 42,\n",
       " 'political': 43,\n",
       " 'national': 44,\n",
       " 'court': 45,\n",
       " 'police': 46,\n",
       " 'get': 47,\n",
       " 'made': 48,\n",
       " 'law': 49,\n",
       " 'make': 50,\n",
       " 'american': 51,\n",
       " 'republicans': 52,\n",
       " 'going': 53,\n",
       " 'since': 54,\n",
       " 'percent': 55,\n",
       " 'russia': 56,\n",
       " 'presidential': 57,\n",
       " 'bill': 58,\n",
       " 'administration': 59,\n",
       " 'back': 60,\n",
       " 'america': 61,\n",
       " 'senate': 62,\n",
       " 'says': 63,\n",
       " 'north': 64,\n",
       " 'support': 65,\n",
       " 'democratic': 66,\n",
       " 'vote': 67,\n",
       " 'week': 68,\n",
       " 'group': 69,\n",
       " 'including': 70,\n",
       " 'know': 71,\n",
       " 'think': 72,\n",
       " 'officials': 73,\n",
       " 'according': 74,\n",
       " 'take': 75,\n",
       " 'way': 76,\n",
       " 'public': 77,\n",
       " 'military': 78,\n",
       " 'world': 79,\n",
       " 'office': 80,\n",
       " 'federal': 81,\n",
       " 'foreign': 82,\n",
       " 'department': 83,\n",
       " 'called': 84,\n",
       " 'washington': 85,\n",
       " 'via': 86,\n",
       " 'right': 87,\n",
       " 'million': 88,\n",
       " 'statement': 89,\n",
       " 'want': 90,\n",
       " 'saying': 91,\n",
       " 'tax': 92,\n",
       " 'see': 93,\n",
       " 'tuesday': 94,\n",
       " 'still': 95,\n",
       " 'well': 96,\n",
       " 'congress': 97,\n",
       " 'russian': 98,\n",
       " 'china': 99,\n",
       " 'women': 100,\n",
       " 'much': 101,\n",
       " 'democrats': 102,\n",
       " 'another': 103,\n",
       " 'day': 104,\n",
       " 'wednesday': 105,\n",
       " 'part': 106,\n",
       " 'image': 107,\n",
       " 'minister': 108,\n",
       " 'go': 109,\n",
       " 'work': 110,\n",
       " 'city': 111,\n",
       " 'thursday': 112,\n",
       " 'friday': 113,\n",
       " 'policy': 114,\n",
       " 'asked': 115,\n",
       " 'video': 116,\n",
       " 'war': 117,\n",
       " 'black': 118,\n",
       " 'committee': 119,\n",
       " 'rights': 120,\n",
       " 'monday': 121,\n",
       " 'deal': 122,\n",
       " 'secretary': 123,\n",
       " 'york': 124,\n",
       " 'korea': 125,\n",
       " 'official': 126,\n",
       " 'next': 127,\n",
       " 'americans': 128,\n",
       " 'general': 129,\n",
       " 'help': 130,\n",
       " 'need': 131,\n",
       " 'three': 132,\n",
       " 'whether': 133,\n",
       " 'leader': 134,\n",
       " 'show': 135,\n",
       " 'never': 136,\n",
       " 'senator': 137,\n",
       " 'case': 138,\n",
       " 'man': 139,\n",
       " 'around': 140,\n",
       " 'fbi': 141,\n",
       " 'candidate': 142,\n",
       " 'order': 143,\n",
       " 'use': 144,\n",
       " 'members': 145,\n",
       " 'iran': 146,\n",
       " 'report': 147,\n",
       " 'took': 148,\n",
       " 'meeting': 149,\n",
       " 'good': 150,\n",
       " 'come': 151,\n",
       " 'every': 152,\n",
       " 'left': 153,\n",
       " 'end': 154,\n",
       " 'without': 155,\n",
       " 'used': 156,\n",
       " 'power': 157,\n",
       " 'top': 158,\n",
       " 'really': 159,\n",
       " 'twitter': 160,\n",
       " 'put': 161,\n",
       " 'intelligence': 162,\n",
       " 'attack': 163,\n",
       " 'investigation': 164,\n",
       " 'countries': 165,\n",
       " 'times': 166,\n",
       " 'justice': 167,\n",
       " 'money': 168,\n",
       " 'nuclear': 169,\n",
       " 'syria': 170,\n",
       " 'month': 171,\n",
       " 'change': 172,\n",
       " 'voters': 173,\n",
       " 'trade': 174,\n",
       " 'information': 175,\n",
       " 'plan': 176,\n",
       " 'family': 177,\n",
       " 'south': 178,\n",
       " 'leaders': 179,\n",
       " 'decision': 180,\n",
       " 'business': 181,\n",
       " 'speech': 182,\n",
       " 'international': 183,\n",
       " 'reported': 184,\n",
       " 'fact': 185,\n",
       " 'days': 186,\n",
       " 'interview': 187,\n",
       " 'long': 188,\n",
       " 'already': 189,\n",
       " 'story': 190,\n",
       " 'director': 191,\n",
       " 'several': 192,\n",
       " 'groups': 193,\n",
       " 'far': 194,\n",
       " 'conservative': 195,\n",
       " 'agency': 196,\n",
       " 'must': 197,\n",
       " 'likely': 198,\n",
       " 'fox': 199,\n",
       " 'health': 200,\n",
       " 'chief': 201,\n",
       " 'call': 202,\n",
       " 'something': 203,\n",
       " 'place': 204,\n",
       " 'john': 205,\n",
       " 'clear': 206,\n",
       " 'border': 207,\n",
       " 'immigration': 208,\n",
       " 'social': 209,\n",
       " 'supporters': 210,\n",
       " 'months': 211,\n",
       " 'watch': 212,\n",
       " 'among': 213,\n",
       " 'islamic': 214,\n",
       " 'press': 215,\n",
       " 'home': 216,\n",
       " 'believe': 217,\n",
       " 'sanders': 218,\n",
       " 'move': 219,\n",
       " 'however': 220,\n",
       " 'post': 221,\n",
       " 'got': 222,\n",
       " 'barack': 223,\n",
       " 'children': 224,\n",
       " 'program': 225,\n",
       " 'issue': 226,\n",
       " 'might': 227,\n",
       " 'billion': 228,\n",
       " 'act': 229,\n",
       " 'sunday': 230,\n",
       " 'major': 231,\n",
       " 'came': 232,\n",
       " 'muslim': 233,\n",
       " 'recent': 234,\n",
       " 'least': 235,\n",
       " 'nation': 236,\n",
       " 'seen': 237,\n",
       " 'killed': 238,\n",
       " 'found': 239,\n",
       " 'things': 240,\n",
       " 'number': 241,\n",
       " 'great': 242,\n",
       " 'today': 243,\n",
       " 'trying': 244,\n",
       " 'control': 245,\n",
       " 'democrat': 246,\n",
       " 'matter': 247,\n",
       " 'though': 248,\n",
       " 'later': 249,\n",
       " 'reporters': 250,\n",
       " 'cruz': 251,\n",
       " 'win': 252,\n",
       " 'defense': 253,\n",
       " 'economic': 254,\n",
       " 'eu': 255,\n",
       " 'yet': 256,\n",
       " 'attacks': 257,\n",
       " 'march': 258,\n",
       " 'making': 259,\n",
       " 'cnn': 260,\n",
       " 'working': 261,\n",
       " 'went': 262,\n",
       " 'executive': 263,\n",
       " 'let': 264,\n",
       " 'school': 265,\n",
       " 'become': 266,\n",
       " 'actually': 267,\n",
       " 'look': 268,\n",
       " 'keep': 269,\n",
       " 'stop': 270,\n",
       " 'give': 271,\n",
       " 'spokesman': 272,\n",
       " 'free': 273,\n",
       " 'governor': 274,\n",
       " 'big': 275,\n",
       " 'little': 276,\n",
       " 'system': 277,\n",
       " 'legal': 278,\n",
       " 'set': 279,\n",
       " 'past': 280,\n",
       " 'real': 281,\n",
       " 'un': 282,\n",
       " 'senior': 283,\n",
       " 'forces': 284,\n",
       " 'away': 285,\n",
       " 'violence': 286,\n",
       " 'four': 287,\n",
       " 'earlier': 288,\n",
       " 'point': 289,\n",
       " 'thing': 290,\n",
       " 'added': 291,\n",
       " 'member': 292,\n",
       " 'january': 293,\n",
       " 'woman': 294,\n",
       " 'nothing': 295,\n",
       " 'lawmakers': 296,\n",
       " 'comment': 297,\n",
       " 'talks': 298,\n",
       " 'illegal': 299,\n",
       " 'sanctions': 300,\n",
       " 'wall': 301,\n",
       " 'ever': 302,\n",
       " 'force': 303,\n",
       " 'opposition': 304,\n",
       " 'european': 305,\n",
       " 'local': 306,\n",
       " 'taking': 307,\n",
       " 'head': 308,\n",
       " 'known': 309,\n",
       " 'human': 310,\n",
       " 'july': 311,\n",
       " 'nominee': 312,\n",
       " 'issues': 313,\n",
       " 'following': 314,\n",
       " 'judge': 315,\n",
       " 'prime': 316,\n",
       " 'company': 317,\n",
       " 'attorney': 318,\n",
       " 'gop': 319,\n",
       " 'held': 320,\n",
       " 'companies': 321,\n",
       " 'possible': 322,\n",
       " 'gun': 323,\n",
       " 'care': 324,\n",
       " 'wants': 325,\n",
       " 'supreme': 326,\n",
       " 'union': 327,\n",
       " 'person': 328,\n",
       " 'across': 329,\n",
       " 'team': 330,\n",
       " 'men': 331,\n",
       " 'action': 332,\n",
       " 'pay': 333,\n",
       " 'released': 334,\n",
       " 'expected': 335,\n",
       " 'community': 336,\n",
       " 'continue': 337,\n",
       " 'better': 338,\n",
       " 'job': 339,\n",
       " 'night': 340,\n",
       " 'nations': 341,\n",
       " 'given': 342,\n",
       " 'high': 343,\n",
       " 'enough': 344,\n",
       " 'legislation': 345,\n",
       " 'others': 346,\n",
       " 'evidence': 347,\n",
       " 'financial': 348,\n",
       " 'taken': 349,\n",
       " 'history': 350,\n",
       " 'response': 351,\n",
       " 'question': 352,\n",
       " 'process': 353,\n",
       " 'face': 354,\n",
       " 'budget': 355,\n",
       " 'reports': 356,\n",
       " 'open': 357,\n",
       " 'ban': 358,\n",
       " 'close': 359,\n",
       " 'wrote': 360,\n",
       " 'done': 361,\n",
       " 'university': 362,\n",
       " 'special': 363,\n",
       " 'important': 364,\n",
       " 'fight': 365,\n",
       " 'iraq': 366,\n",
       " 'life': 367,\n",
       " 'june': 368,\n",
       " 'syrian': 369,\n",
       " 'course': 370,\n",
       " 'plans': 371,\n",
       " 'source': 372,\n",
       " 'debate': 373,\n",
       " 'lot': 374,\n",
       " 'anyone': 375,\n",
       " 'majority': 376,\n",
       " 'run': 377,\n",
       " 'private': 378,\n",
       " 'putin': 379,\n",
       " 'images': 380,\n",
       " 'refugees': 381,\n",
       " 'email': 382,\n",
       " 'november': 383,\n",
       " 'air': 384,\n",
       " 'using': 385,\n",
       " 'second': 386,\n",
       " 'race': 387,\n",
       " 'mexico': 388,\n",
       " 'death': 389,\n",
       " 'staff': 390,\n",
       " 'saturday': 391,\n",
       " 'ryan': 392,\n",
       " 'conference': 393,\n",
       " 'despite': 394,\n",
       " 'anything': 395,\n",
       " 'comments': 396,\n",
       " 'comey': 397,\n",
       " 'accused': 398,\n",
       " 'crisis': 399,\n",
       " 'behind': 400,\n",
       " 'along': 401,\n",
       " 'efforts': 402,\n",
       " 'lives': 403,\n",
       " 'able': 404,\n",
       " 'ago': 405,\n",
       " 'saudi': 406,\n",
       " 'best': 407,\n",
       " 'agreement': 408,\n",
       " 'mr': 409,\n",
       " 'early': 410,\n",
       " 'find': 411,\n",
       " 'role': 412,\n",
       " 'full': 413,\n",
       " 'region': 414,\n",
       " 'less': 415,\n",
       " 'future': 416,\n",
       " 'lead': 417,\n",
       " 'letter': 418,\n",
       " 'instead': 419,\n",
       " 'council': 420,\n",
       " 'comes': 421,\n",
       " 'britain': 422,\n",
       " 'five': 423,\n",
       " 'current': 424,\n",
       " 'within': 425,\n",
       " 'someone': 426,\n",
       " 'jobs': 427,\n",
       " 'due': 428,\n",
       " 'facebook': 429,\n",
       " 'civil': 430,\n",
       " 'calling': 431,\n",
       " 'sure': 432,\n",
       " 'israel': 433,\n",
       " 'texas': 434,\n",
       " 'service': 435,\n",
       " 'hard': 436,\n",
       " 'coalition': 437,\n",
       " 'visit': 438,\n",
       " 'getting': 439,\n",
       " 'live': 440,\n",
       " 'students': 441,\n",
       " 'name': 442,\n",
       " 'center': 443,\n",
       " 'young': 444,\n",
       " 'congressional': 445,\n",
       " 'weeks': 446,\n",
       " 'calls': 447,\n",
       " 'votes': 448,\n",
       " 'coming': 449,\n",
       " 'economy': 450,\n",
       " 'rules': 451,\n",
       " 'effort': 452,\n",
       " 'obamacare': 453,\n",
       " 'army': 454,\n",
       " 'announced': 455,\n",
       " 'muslims': 456,\n",
       " 'global': 457,\n",
       " 'thousands': 458,\n",
       " 'paul': 459,\n",
       " 'weapons': 460,\n",
       " 'elections': 461,\n",
       " 'event': 462,\n",
       " 'line': 463,\n",
       " 'chairman': 464,\n",
       " 'emails': 465,\n",
       " 'nearly': 466,\n",
       " 'running': 467,\n",
       " 'sent': 468,\n",
       " 'citizens': 469,\n",
       " 'healthcare': 470,\n",
       " 'talk': 471,\n",
       " 'climate': 472,\n",
       " 'sources': 473,\n",
       " 'racist': 474,\n",
       " 'ties': 475,\n",
       " 'street': 476,\n",
       " 'fake': 477,\n",
       " 'claims': 478,\n",
       " 'allow': 479,\n",
       " 'candidates': 480,\n",
       " 'bush': 481,\n",
       " 'daily': 482,\n",
       " 'rule': 483,\n",
       " 'capital': 484,\n",
       " 'position': 485,\n",
       " 'december': 486,\n",
       " 'whose': 487,\n",
       " 'october': 488,\n",
       " 'middle': 489,\n",
       " 'led': 490,\n",
       " 'hold': 491,\n",
       " 'turkey': 492,\n",
       " 'wanted': 493,\n",
       " 'workers': 494,\n",
       " 'ruling': 495,\n",
       " 'florida': 496,\n",
       " 'needs': 497,\n",
       " 'tell': 498,\n",
       " 'message': 499,\n",
       " 'latest': 500,\n",
       " 'april': 501,\n",
       " 'outside': 502,\n",
       " 'makes': 503,\n",
       " 'gave': 504,\n",
       " 'late': 505,\n",
       " 'liberal': 506,\n",
       " 'everyone': 507,\n",
       " 'began': 508,\n",
       " 'problem': 509,\n",
       " 'east': 510,\n",
       " 'authorities': 511,\n",
       " 'showed': 512,\n",
       " 'bad': 513,\n",
       " 'threat': 514,\n",
       " 'officers': 515,\n",
       " 'organization': 516,\n",
       " 'september': 517,\n",
       " 'criminal': 518,\n",
       " 'politics': 519,\n",
       " 'leave': 520,\n",
       " 'poll': 521,\n",
       " 'questions': 522,\n",
       " 'rally': 523,\n",
       " 'reform': 524,\n",
       " 'voting': 525,\n",
       " 'failed': 526,\n",
       " 'immigrants': 527,\n",
       " 'means': 528,\n",
       " 'germany': 529,\n",
       " 'august': 530,\n",
       " 'start': 531,\n",
       " 'immediately': 532,\n",
       " 'representatives': 533,\n",
       " 'lost': 534,\n",
       " 'reason': 535,\n",
       " 'relations': 536,\n",
       " 'meet': 537,\n",
       " 'words': 538,\n",
       " 'list': 539,\n",
       " 'peace': 540,\n",
       " 'together': 541,\n",
       " 'parliament': 542,\n",
       " 'cut': 543,\n",
       " 'access': 544,\n",
       " 'release': 545,\n",
       " 'stand': 546,\n",
       " 'speaking': 547,\n",
       " 'hope': 548,\n",
       " 'policies': 549,\n",
       " 'services': 550,\n",
       " 'february': 551,\n",
       " 'different': 552,\n",
       " 'central': 553,\n",
       " 'rather': 554,\n",
       " 'funding': 555,\n",
       " 'ahead': 556,\n",
       " 'tried': 557,\n",
       " 'based': 558,\n",
       " 'george': 559,\n",
       " 'strong': 560,\n",
       " 'allies': 561,\n",
       " 'read': 562,\n",
       " 'sexual': 563,\n",
       " 'conservatives': 564,\n",
       " 'agencies': 565,\n",
       " 'spending': 566,\n",
       " 'planned': 567,\n",
       " 'ministry': 568,\n",
       " 'almost': 569,\n",
       " 'try': 570,\n",
       " 'cannot': 571,\n",
       " 'millions': 572,\n",
       " 'thought': 573,\n",
       " 'received': 574,\n",
       " 'oil': 575,\n",
       " 'six': 576,\n",
       " 'host': 577,\n",
       " 'allowed': 578,\n",
       " 'recently': 579,\n",
       " 'morning': 580,\n",
       " 'protect': 581,\n",
       " 'elected': 582,\n",
       " 'idea': 583,\n",
       " 'europe': 584,\n",
       " 'laws': 585,\n",
       " 'bring': 586,\n",
       " 'shows': 587,\n",
       " 'enforcement': 588,\n",
       " 'decided': 589,\n",
       " 'missile': 590,\n",
       " 'bank': 591,\n",
       " 'key': 592,\n",
       " 'fire': 593,\n",
       " 'california': 594,\n",
       " 'old': 595,\n",
       " 'room': 596,\n",
       " 'provide': 597,\n",
       " 'shooting': 598,\n",
       " 'charges': 599,\n",
       " 'entire': 600,\n",
       " 'chinese': 601,\n",
       " 'often': 602,\n",
       " 'parties': 603,\n",
       " 'concerns': 604,\n",
       " 'met': 605,\n",
       " 'talking': 606,\n",
       " 'always': 607,\n",
       " 'near': 608,\n",
       " 'involved': 609,\n",
       " 'situation': 610,\n",
       " 'hate': 611,\n",
       " 'district': 612,\n",
       " 'officer': 613,\n",
       " 'energy': 614,\n",
       " 'kind': 615,\n",
       " 'happened': 616,\n",
       " 'shot': 617,\n",
       " 'denied': 618,\n",
       " 'everything': 619,\n",
       " 'allegations': 620,\n",
       " 'small': 621,\n",
       " 'terrorist': 622,\n",
       " 'looking': 623,\n",
       " 'presidency': 624,\n",
       " 'century': 625,\n",
       " 'movement': 626,\n",
       " 'travel': 627,\n",
       " 'vice': 628,\n",
       " 'james': 629,\n",
       " 'myanmar': 630,\n",
       " 'needed': 631,\n",
       " 'especially': 632,\n",
       " 'freedom': 633,\n",
       " 'arrested': 634,\n",
       " 'industry': 635,\n",
       " 'agreed': 636,\n",
       " 'side': 637,\n",
       " 'voted': 638,\n",
       " 'include': 639,\n",
       " 'water': 640,\n",
       " 'large': 641,\n",
       " 'nomination': 642,\n",
       " 'hours': 643,\n",
       " 'bernie': 644,\n",
       " 'area': 645,\n",
       " 'protesters': 646,\n",
       " 'west': 647,\n",
       " 'korean': 648,\n",
       " 'potential': 649,\n",
       " 'crime': 650,\n",
       " 'data': 651,\n",
       " 'documents': 652,\n",
       " 'british': 653,\n",
       " 'request': 654,\n",
       " 'return': 655,\n",
       " 'tillerson': 656,\n",
       " 'county': 657,\n",
       " 'seems': 658,\n",
       " 'representative': 659,\n",
       " 'market': 660,\n",
       " 'wife': 661,\n",
       " 'although': 662,\n",
       " 'personal': 663,\n",
       " 'fighting': 664,\n",
       " 'fired': 665,\n",
       " 'tweet': 666,\n",
       " 'foundation': 667,\n",
       " 'claim': 668,\n",
       " 'hearing': 669,\n",
       " 'western': 670,\n",
       " 'hit': 671,\n",
       " 'polls': 672,\n",
       " 'adviser': 673,\n",
       " 'adding': 674,\n",
       " 'actions': 675,\n",
       " 'cases': 676,\n",
       " 'either': 677,\n",
       " 'confirmed': 678,\n",
       " 'insurance': 679,\n",
       " 'worked': 680,\n",
       " 'serious': 681,\n",
       " 'interest': 682,\n",
       " 'moscow': 683,\n",
       " 'building': 684,\n",
       " 'decades': 685,\n",
       " 'commission': 686,\n",
       " 'realdonaldtrump': 687,\n",
       " 'wrong': 688,\n",
       " 'alleged': 689,\n",
       " 'forward': 690,\n",
       " 'front': 691,\n",
       " 'step': 692,\n",
       " 'true': 693,\n",
       " 'pressure': 694,\n",
       " 'address': 695,\n",
       " 'term': 696,\n",
       " 'leading': 697,\n",
       " 'spoke': 698,\n",
       " 'flynn': 699,\n",
       " 'claimed': 700,\n",
       " 'paid': 701,\n",
       " 'biggest': 702,\n",
       " 'board': 703,\n",
       " 'probably': 704,\n",
       " 'nov': 705,\n",
       " 'college': 706,\n",
       " 'love': 707,\n",
       " 'passed': 708,\n",
       " 'continued': 709,\n",
       " 'lawyer': 710,\n",
       " 'father': 711,\n",
       " 'clearly': 712,\n",
       " 'feel': 713,\n",
       " 'main': 714,\n",
       " 'truth': 715,\n",
       " 'son': 716,\n",
       " 'review': 717,\n",
       " 'appeared': 718,\n",
       " 'families': 719,\n",
       " 'final': 720,\n",
       " 'primary': 721,\n",
       " 'leadership': 722,\n",
       " 'pence': 723,\n",
       " 'victory': 724,\n",
       " 'network': 725,\n",
       " 'mean': 726,\n",
       " 'soon': 727,\n",
       " 'protest': 728,\n",
       " 'michael': 729,\n",
       " 'turn': 730,\n",
       " 'cia': 731,\n",
       " 'mike': 732,\n",
       " 'taxes': 733,\n",
       " 'record': 734,\n",
       " 'brought': 735,\n",
       " 'ted': 736,\n",
       " 'arabia': 737,\n",
       " 'declined': 738,\n",
       " 'rubio': 739,\n",
       " 'terrorism': 740,\n",
       " 'simply': 741,\n",
       " 'aid': 742,\n",
       " 'dollars': 743,\n",
       " 'sessions': 744,\n",
       " 'goes': 745,\n",
       " 'deputy': 746,\n",
       " 'toward': 747,\n",
       " 'result': 748,\n",
       " 'mccain': 749,\n",
       " 'turned': 750,\n",
       " 'issued': 751,\n",
       " 'mayor': 752,\n",
       " 'points': 753,\n",
       " 'started': 754,\n",
       " 'sign': 755,\n",
       " 'became': 756,\n",
       " 'spent': 757,\n",
       " 'remarks': 758,\n",
       " 'view': 759,\n",
       " 'posted': 760,\n",
       " 'merkel': 761,\n",
       " 'david': 762,\n",
       " 'independence': 763,\n",
       " 'included': 764,\n",
       " 'details': 765,\n",
       " 'signed': 766,\n",
       " 'town': 767,\n",
       " 'protests': 768,\n",
       " 'secret': 769,\n",
       " 'attempt': 770,\n",
       " 'religious': 771,\n",
       " 'article': 772,\n",
       " 'influence': 773,\n",
       " 'forced': 774,\n",
       " 'fund': 775,\n",
       " 'agenda': 776,\n",
       " 'popular': 777,\n",
       " 'previously': 778,\n",
       " 'raised': 779,\n",
       " 'guy': 780,\n",
       " 'mark': 781,\n",
       " 'german': 782,\n",
       " 'push': 783,\n",
       " 'pass': 784,\n",
       " 'constitution': 785,\n",
       " 'isis': 786,\n",
       " 'relationship': 787,\n",
       " 'food': 788,\n",
       " 'pretty': 789,\n",
       " 'child': 790,\n",
       " 'level': 791,\n",
       " 'giving': 792,\n",
       " 'gets': 793,\n",
       " 'seeking': 794,\n",
       " 'half': 795,\n",
       " 'saw': 796,\n",
       " 'al': 797,\n",
       " 'firm': 798,\n",
       " 'account': 799,\n",
       " 'short': 800,\n",
       " 'website': 801,\n",
       " 'militants': 802,\n",
       " 'speak': 803,\n",
       " 'helped': 804,\n",
       " 'cost': 805,\n",
       " 'debt': 806,\n",
       " 'speaker': 807,\n",
       " 'carolina': 808,\n",
       " 'proposed': 809,\n",
       " 'total': 810,\n",
       " 'conflict': 811,\n",
       " 'voter': 812,\n",
       " 'hundreds': 813,\n",
       " 'friends': 814,\n",
       " 'increase': 815,\n",
       " 'convention': 816,\n",
       " 'ask': 817,\n",
       " 'ambassador': 818,\n",
       " 'armed': 819,\n",
       " 'wire': 820,\n",
       " 'described': 821,\n",
       " 'repeatedly': 822,\n",
       " 'reality': 823,\n",
       " 'longer': 824,\n",
       " 'largest': 825,\n",
       " 'phone': 826,\n",
       " 'created': 827,\n",
       " 'fear': 828,\n",
       " 'remain': 829,\n",
       " 'regional': 830,\n",
       " 'independent': 831,\n",
       " 'heard': 832,\n",
       " 'violent': 833,\n",
       " 'discuss': 834,\n",
       " 'areas': 835,\n",
       " 'hand': 836,\n",
       " 'troops': 837,\n",
       " 'crowd': 838,\n",
       " 'changes': 839,\n",
       " 'respond': 840,\n",
       " 'criticized': 841,\n",
       " 'education': 842,\n",
       " 'currently': 843,\n",
       " 'similar': 844,\n",
       " 'build': 845,\n",
       " 'whole': 846,\n",
       " 'flag': 847,\n",
       " 'example': 848,\n",
       " 'else': 849,\n",
       " 'tv': 850,\n",
       " 'third': 851,\n",
       " 'brexit': 852,\n",
       " 'hands': 853,\n",
       " 'funds': 854,\n",
       " 'victims': 855,\n",
       " 'mass': 856,\n",
       " 'stay': 857,\n",
       " 'incident': 858,\n",
       " 'japan': 859,\n",
       " 'programs': 860,\n",
       " 'criticism': 861,\n",
       " 'robert': 862,\n",
       " 'employees': 863,\n",
       " 'northern': 864,\n",
       " 'refugee': 865,\n",
       " 'senators': 866,\n",
       " 'single': 867,\n",
       " 'warned': 868,\n",
       " 'france': 869,\n",
       " 'seven': 870,\n",
       " 'presidentelect': 871,\n",
       " 'telling': 872,\n",
       " 'absolutely': 873,\n",
       " 'mainstream': 874,\n",
       " 'living': 875,\n",
       " 'published': 876,\n",
       " 'rate': 877,\n",
       " 'base': 878,\n",
       " 'reporter': 879,\n",
       " 'johnson': 880,\n",
       " 'risk': 881,\n",
       " 'asking': 882,\n",
       " 'panel': 883,\n",
       " 'rohingya': 884,\n",
       " 'cause': 885,\n",
       " 'powerful': 886,\n",
       " 'takes': 887,\n",
       " 'dangerous': 888,\n",
       " 'spokeswoman': 889,\n",
       " 'inside': 890,\n",
       " 'concerned': 891,\n",
       " 'medical': 892,\n",
       " 'lower': 893,\n",
       " 'tweeted': 894,\n",
       " 'focus': 895,\n",
       " 'terrorists': 896,\n",
       " 'experts': 897,\n",
       " 'opinion': 898,\n",
       " 'understand': 899,\n",
       " 'operations': 900,\n",
       " 'iraqi': 901,\n",
       " 'transition': 902,\n",
       " 'form': 903,\n",
       " 'appears': 904,\n",
       " 'proposal': 905,\n",
       " 'radio': 906,\n",
       " 'san': 907,\n",
       " 'happen': 908,\n",
       " 'safe': 909,\n",
       " 'project': 910,\n",
       " 'television': 911,\n",
       " 'share': 912,\n",
       " 'island': 913,\n",
       " 'christian': 914,\n",
       " 'measures': 915,\n",
       " 'nato': 916,\n",
       " 'consider': 917,\n",
       " 'king': 918,\n",
       " 'businesses': 919,\n",
       " 'seek': 920,\n",
       " 'exactly': 921,\n",
       " 'completely': 922,\n",
       " 'apparently': 923,\n",
       " 'served': 924,\n",
       " 'virginia': 925,\n",
       " 'dead': 926,\n",
       " 'charged': 927,\n",
       " 'interests': 928,\n",
       " 'page': 929,\n",
       " 'previous': 930,\n",
       " 'fraud': 931,\n",
       " 'kurdish': 932,\n",
       " 'research': 933,\n",
       " 'concern': 934,\n",
       " 'prevent': 935,\n",
       " 'quickly': 936,\n",
       " 'committed': 937,\n",
       " 'safety': 938,\n",
       " 'politicians': 939,\n",
       " 'results': 940,\n",
       " 'southern': 941,\n",
       " 'events': 942,\n",
       " 'breitbart': 943,\n",
       " 'answer': 944,\n",
       " 'corruption': 945,\n",
       " 'individuals': 946,\n",
       " 'problems': 947,\n",
       " 'died': 948,\n",
       " 'respect': 949,\n",
       " 'fellow': 950,\n",
       " 'moore': 951,\n",
       " 'huge': 952,\n",
       " 'urged': 953,\n",
       " 'moment': 954,\n",
       " 'mother': 955,\n",
       " 'student': 956,\n",
       " 'internet': 957,\n",
       " 'prison': 958,\n",
       " 'joe': 959,\n",
       " 'poor': 960,\n",
       " 'ready': 961,\n",
       " 'development': 962,\n",
       " 'numbers': 963,\n",
       " 'ground': 964,\n",
       " 'threats': 965,\n",
       " 'trip': 966,\n",
       " 'mcconnell': 967,\n",
       " 'certainly': 968,\n",
       " 'named': 969,\n",
       " 'drug': 970,\n",
       " 'measure': 971,\n",
       " 'online': 972,\n",
       " 'certain': 973,\n",
       " 'eight': 974,\n",
       " 'terror': 975,\n",
       " 'residents': 976,\n",
       " 'photo': 977,\n",
       " 'knew': 978,\n",
       " 'kelly': 979,\n",
       " 'leaving': 980,\n",
       " 'french': 981,\n",
       " 'afghanistan': 982,\n",
       " 'responsible': 983,\n",
       " 'play': 984,\n",
       " 'create': 985,\n",
       " 'choice': 986,\n",
       " 'knows': 987,\n",
       " 'charge': 988,\n",
       " 'considered': 989,\n",
       " 'terms': 990,\n",
       " 'husband': 991,\n",
       " 'coverage': 992,\n",
       " 'hear': 993,\n",
       " 'agree': 994,\n",
       " 'book': 995,\n",
       " 'records': 996,\n",
       " 'repeal': 997,\n",
       " 'filed': 998,\n",
       " 'church': 999,\n",
       " 'refused': 1000,\n",
       " ...}"
      ]
     },
     "execution_count": 60,
     "metadata": {},
     "output_type": "execute_result"
    }
   ],
   "source": [
    "word_index"
   ]
  },
  {
   "cell_type": "code",
   "execution_count": 61,
   "metadata": {},
   "outputs": [],
   "source": [
    "#Getting embedding vectors from word2vec and usings it as weights of non-trainable keras embedding layer\n",
    "weight = get_weight_matrix(w2v_model, word_index)"
   ]
  },
  {
   "cell_type": "code",
   "execution_count": 62,
   "metadata": {},
   "outputs": [
    {
     "data": {
      "text/plain": [
       "array([[ 0.00000000e+00,  0.00000000e+00,  0.00000000e+00, ...,\n",
       "         0.00000000e+00,  0.00000000e+00,  0.00000000e+00],\n",
       "       [ 2.21217632e+00, -4.25343551e-02, -2.42118573e+00, ...,\n",
       "         1.04848921e+00,  5.53903639e-01, -4.43039685e-01],\n",
       "       [-9.16539967e-01, -2.72089767e+00, -2.21463394e+00, ...,\n",
       "         8.34361557e-03, -8.96540165e-01,  2.31265283e+00],\n",
       "       ...,\n",
       "       [ 3.87548306e-03,  1.04785701e-02,  1.27010997e-02, ...,\n",
       "         2.31144726e-02,  5.34675492e-04,  1.99328326e-02],\n",
       "       [ 6.80237683e-03,  7.37823965e-03,  6.16552820e-03, ...,\n",
       "        -2.43227109e-02,  1.53537588e-02, -2.65230145e-02],\n",
       "       [ 9.47132427e-03,  9.05193563e-04, -1.86757755e-03, ...,\n",
       "        -8.52891617e-03,  1.16271898e-02, -2.19820235e-02]])"
      ]
     },
     "execution_count": 62,
     "metadata": {},
     "output_type": "execute_result"
    }
   ],
   "source": [
    "weight"
   ]
  },
  {
   "cell_type": "code",
   "execution_count": 63,
   "metadata": {},
   "outputs": [],
   "source": [
    "from tensorflow.keras.models import Sequential\n",
    "from tensorflow.keras.layers import Dense, Embedding, LSTM\n",
    "from sklearn.model_selection import train_test_split\n",
    "from sklearn.metrics import classification_report, accuracy_score"
   ]
  },
  {
   "cell_type": "code",
   "execution_count": 69,
   "metadata": {},
   "outputs": [],
   "source": [
    "from tensorflow.keras.layers import LSTM\n",
    "from tensorflow.keras.layers import Dense\n",
    "from tensorflow.keras.layers import Dropout"
   ]
  },
  {
   "cell_type": "code",
   "execution_count": 71,
   "metadata": {},
   "outputs": [],
   "source": [
    "#Defining Neural Network #LSTM \n",
    "model1 = Sequential()\n",
    "#Non-trainable embeddidng layer\n",
    "model1.add(Embedding(vocab_size, output_dim=EMBEDDING_DIM, weights=[weight], input_length=maxlength, trainable=False))\n",
    "model1.add(Dropout(0.3))\n",
    "model1.add(LSTM(units=128))\n",
    "model1.add(Dense(1, activation='sigmoid'))\n",
    "model1.compile(optimizer='adam', loss='binary_crossentropy', metrics=['acc'])"
   ]
  },
  {
   "cell_type": "code",
   "execution_count": 72,
   "metadata": {},
   "outputs": [
    {
     "name": "stdout",
     "output_type": "stream",
     "text": [
      "Model: \"sequential_2\"\n",
      "_________________________________________________________________\n",
      "Layer (type)                 Output Shape              Param #   \n",
      "=================================================================\n",
      "embedding_2 (Embedding)      (None, 700, 100)          21901300  \n",
      "_________________________________________________________________\n",
      "dropout (Dropout)            (None, 700, 100)          0         \n",
      "_________________________________________________________________\n",
      "lstm_1 (LSTM)                (None, 128)               117248    \n",
      "_________________________________________________________________\n",
      "dense_1 (Dense)              (None, 1)                 129       \n",
      "=================================================================\n",
      "Total params: 22,018,677\n",
      "Trainable params: 117,377\n",
      "Non-trainable params: 21,901,300\n",
      "_________________________________________________________________\n"
     ]
    }
   ],
   "source": [
    "model1.summary()"
   ]
  },
  {
   "cell_type": "code",
   "execution_count": 73,
   "metadata": {},
   "outputs": [],
   "source": [
    "#Train test split\n",
    "X_train, X_test, y_train, y_test = train_test_split(X1, y)"
   ]
  },
  {
   "cell_type": "code",
   "execution_count": 74,
   "metadata": {},
   "outputs": [
    {
     "name": "stdout",
     "output_type": "stream",
     "text": [
      "Epoch 1/8\n",
      "737/737 [==============================] - 290s 391ms/step - loss: 0.1961 - acc: 0.9227 - val_loss: 0.0752 - val_acc: 0.9740\n",
      "Epoch 2/8\n",
      "737/737 [==============================] - 288s 390ms/step - loss: 0.0789 - acc: 0.9717 - val_loss: 0.0679 - val_acc: 0.9769\n",
      "Epoch 3/8\n",
      "737/737 [==============================] - 276s 374ms/step - loss: 0.0449 - acc: 0.9839 - val_loss: 0.0280 - val_acc: 0.9900\n",
      "Epoch 4/8\n",
      "737/737 [==============================] - 278s 377ms/step - loss: 0.0456 - acc: 0.9846 - val_loss: 0.0343 - val_acc: 0.9892\n",
      "Epoch 5/8\n",
      "737/737 [==============================] - 278s 378ms/step - loss: 0.0348 - acc: 0.9889 - val_loss: 0.0297 - val_acc: 0.9922\n",
      "Epoch 6/8\n",
      "737/737 [==============================] - 279s 379ms/step - loss: 0.0306 - acc: 0.9901 - val_loss: 0.0288 - val_acc: 0.9907\n",
      "Epoch 7/8\n",
      "737/737 [==============================] - 279s 379ms/step - loss: 0.0236 - acc: 0.9927 - val_loss: 0.0220 - val_acc: 0.9938\n",
      "Epoch 8/8\n",
      "737/737 [==============================] - 288s 391ms/step - loss: 0.0216 - acc: 0.9942 - val_loss: 0.0176 - val_acc: 0.9951\n"
     ]
    },
    {
     "data": {
      "text/plain": [
       "<tensorflow.python.keras.callbacks.History at 0x19d1764f7f0>"
      ]
     },
     "execution_count": 74,
     "metadata": {},
     "output_type": "execute_result"
    }
   ],
   "source": [
    "model1.fit(X_train, y_train, validation_split=0.3, epochs=8)"
   ]
  },
  {
   "cell_type": "code",
   "execution_count": 75,
   "metadata": {},
   "outputs": [],
   "source": [
    "# Save entire model to a HDFS file\n",
    "model1.save(\"LSTMRNN_Model1.h5\")"
   ]
  },
  {
   "cell_type": "code",
   "execution_count": 76,
   "metadata": {},
   "outputs": [],
   "source": [
    "# Class 0 (Fake) if predicted prob < 0.5, else class 1 (Real)\n",
    "y_pred1 = (model1.predict(X_test) >= 0.5).astype(\"int\")"
   ]
  },
  {
   "cell_type": "code",
   "execution_count": 77,
   "metadata": {},
   "outputs": [
    {
     "data": {
      "text/plain": [
       "0.994475138121547"
      ]
     },
     "execution_count": 77,
     "metadata": {},
     "output_type": "execute_result"
    }
   ],
   "source": [
    "accuracy_score(y_test, y_pred1)"
   ]
  },
  {
   "cell_type": "code",
   "execution_count": 78,
   "metadata": {},
   "outputs": [
    {
     "name": "stdout",
     "output_type": "stream",
     "text": [
      "              precision    recall  f1-score   support\n",
      "\n",
      "           0       1.00      0.99      0.99      5860\n",
      "           1       0.99      1.00      0.99      5362\n",
      "\n",
      "    accuracy                           0.99     11222\n",
      "   macro avg       0.99      0.99      0.99     11222\n",
      "weighted avg       0.99      0.99      0.99     11222\n",
      "\n"
     ]
    }
   ],
   "source": [
    "print(classification_report(y_test, y_pred1))"
   ]
  },
  {
   "cell_type": "markdown",
   "metadata": {},
   "source": [
    "### Day 3 Task"
   ]
  },
  {
   "cell_type": "code",
   "execution_count": 79,
   "metadata": {},
   "outputs": [],
   "source": [
    "from tensorflow.keras.layers import Bidirectional\n",
    "from tensorflow.keras.layers import Dropout"
   ]
  },
  {
   "cell_type": "code",
   "execution_count": 88,
   "metadata": {},
   "outputs": [
    {
     "name": "stdout",
     "output_type": "stream",
     "text": [
      "Model: \"sequential_5\"\n",
      "_________________________________________________________________\n",
      "Layer (type)                 Output Shape              Param #   \n",
      "=================================================================\n",
      "embedding_5 (Embedding)      (None, 700, 100)          21901300  \n",
      "_________________________________________________________________\n",
      "dropout_3 (Dropout)          (None, 700, 100)          0         \n",
      "_________________________________________________________________\n",
      "bidirectional_2 (Bidirection (None, 200)               160800    \n",
      "_________________________________________________________________\n",
      "dense_4 (Dense)              (None, 1)                 201       \n",
      "=================================================================\n",
      "Total params: 22,062,301\n",
      "Trainable params: 161,001\n",
      "Non-trainable params: 21,901,300\n",
      "_________________________________________________________________\n",
      "None\n"
     ]
    }
   ],
   "source": [
    "#creating model adding dropout\n",
    "model2=Sequential()\n",
    "model2.add(Embedding(vocab_size, output_dim=EMBEDDING_DIM, weights=[weight], input_length=maxlength, trainable=False))\n",
    "model2.add(Dropout(0.3))\n",
    "model2.add(Bidirectional(LSTM(100)))\n",
    "model2.add(Dense(1,activation='sigmoid'))\n",
    "model2.compile(loss='binary_crossentropy',optimizer='adam',metrics=['accuracy'])\n",
    "print(model2.summary())"
   ]
  },
  {
   "cell_type": "code",
   "execution_count": 89,
   "metadata": {},
   "outputs": [
    {
     "name": "stdout",
     "output_type": "stream",
     "text": [
      "Epoch 1/7\n",
      "737/737 [==============================] - 313s 423ms/step - loss: 0.2036 - accuracy: 0.9188 - val_loss: 0.0767 - val_accuracy: 0.9821\n",
      "Epoch 2/7\n",
      "737/737 [==============================] - 310s 421ms/step - loss: 0.1185 - accuracy: 0.9538 - val_loss: 0.0895 - val_accuracy: 0.9647\n",
      "Epoch 3/7\n",
      "737/737 [==============================] - 311s 423ms/step - loss: 0.0737 - accuracy: 0.9725 - val_loss: 0.0480 - val_accuracy: 0.9834\n",
      "Epoch 4/7\n",
      "737/737 [==============================] - 269s 365ms/step - loss: 0.0507 - accuracy: 0.9817 - val_loss: 0.0439 - val_accuracy: 0.9842\n",
      "Epoch 5/7\n",
      "737/737 [==============================] - 266s 361ms/step - loss: 0.0432 - accuracy: 0.9841 - val_loss: 0.0341 - val_accuracy: 0.9875\n",
      "Epoch 6/7\n",
      "737/737 [==============================] - 270s 366ms/step - loss: 0.0434 - accuracy: 0.9844 - val_loss: 0.0376 - val_accuracy: 0.9867\n",
      "Epoch 7/7\n",
      "737/737 [==============================] - 1072s 1s/step - loss: 0.0437 - accuracy: 0.9851 - val_loss: 0.0385 - val_accuracy: 0.9867\n"
     ]
    },
    {
     "data": {
      "text/plain": [
       "<tensorflow.python.keras.callbacks.History at 0x19d144be668>"
      ]
     },
     "execution_count": 89,
     "metadata": {},
     "output_type": "execute_result"
    }
   ],
   "source": [
    "model2.fit(X_train, y_train, validation_split=0.3, epochs=7)"
   ]
  },
  {
   "cell_type": "code",
   "execution_count": 90,
   "metadata": {},
   "outputs": [],
   "source": [
    "# Save entire model to a HDFS file\n",
    "model2.save(\"Bi-directional_LSTMRNN_Model2.h5\")"
   ]
  },
  {
   "cell_type": "code",
   "execution_count": 91,
   "metadata": {},
   "outputs": [],
   "source": [
    "# Class 0 (Fake) if predicted prob < 0.5, else class 1 (Real)\n",
    "y_pred2 = (model2.predict(X_test) >= 0.5).astype(\"int\")"
   ]
  },
  {
   "cell_type": "code",
   "execution_count": 92,
   "metadata": {},
   "outputs": [
    {
     "data": {
      "text/plain": [
       "0.9861878453038674"
      ]
     },
     "execution_count": 92,
     "metadata": {},
     "output_type": "execute_result"
    }
   ],
   "source": [
    "accuracy_score(y_test, y_pred2)"
   ]
  },
  {
   "cell_type": "code",
   "execution_count": 94,
   "metadata": {},
   "outputs": [
    {
     "name": "stdout",
     "output_type": "stream",
     "text": [
      "              precision    recall  f1-score   support\n",
      "\n",
      "           0       0.98      0.99      0.99      5860\n",
      "           1       0.99      0.98      0.99      5362\n",
      "\n",
      "    accuracy                           0.99     11222\n",
      "   macro avg       0.99      0.99      0.99     11222\n",
      "weighted avg       0.99      0.99      0.99     11222\n",
      "\n"
     ]
    }
   ],
   "source": [
    "print(classification_report(y_test, y_pred2))"
   ]
  },
  {
   "cell_type": "code",
   "execution_count": 95,
   "metadata": {},
   "outputs": [
    {
     "name": "stdout",
     "output_type": "stream",
     "text": [
      "Model: \"sequential_6\"\n",
      "_________________________________________________________________\n",
      "Layer (type)                 Output Shape              Param #   \n",
      "=================================================================\n",
      "embedding_6 (Embedding)      (None, 700, 100)          21901300  \n",
      "_________________________________________________________________\n",
      "dropout_4 (Dropout)          (None, 700, 100)          0         \n",
      "_________________________________________________________________\n",
      "bidirectional_3 (Bidirection (None, 128)               84480     \n",
      "_________________________________________________________________\n",
      "dense_5 (Dense)              (None, 1)                 129       \n",
      "=================================================================\n",
      "Total params: 21,985,909\n",
      "Trainable params: 84,609\n",
      "Non-trainable params: 21,901,300\n",
      "_________________________________________________________________\n",
      "None\n"
     ]
    }
   ],
   "source": [
    "#creating model adding dropout\n",
    "model3=Sequential()\n",
    "model3.add(Embedding(vocab_size, output_dim=EMBEDDING_DIM, weights=[weight], input_length=maxlength, trainable=False))\n",
    "model3.add(Dropout(0.3))\n",
    "model3.add(Bidirectional(LSTM(64)))\n",
    "model3.add(Dense(1,activation='sigmoid'))\n",
    "model3.compile(loss='binary_crossentropy',optimizer='adam',metrics=['accuracy'])\n",
    "print(model3.summary())"
   ]
  },
  {
   "cell_type": "code",
   "execution_count": 97,
   "metadata": {},
   "outputs": [
    {
     "name": "stdout",
     "output_type": "stream",
     "text": [
      "Epoch 1/7\n",
      "737/737 [==============================] - 187s 253ms/step - loss: 0.1361 - accuracy: 0.9519 - val_loss: 0.0892 - val_accuracy: 0.9700\n",
      "Epoch 2/7\n",
      "737/737 [==============================] - 196s 266ms/step - loss: 0.0537 - accuracy: 0.9826 - val_loss: 0.0331 - val_accuracy: 0.9887\n",
      "Epoch 3/7\n",
      "737/737 [==============================] - 217s 295ms/step - loss: 0.0495 - accuracy: 0.9835 - val_loss: 0.0334 - val_accuracy: 0.9901\n",
      "Epoch 4/7\n",
      "737/737 [==============================] - 199s 270ms/step - loss: 0.0359 - accuracy: 0.9891 - val_loss: 0.0301 - val_accuracy: 0.9903\n",
      "Epoch 5/7\n",
      "737/737 [==============================] - 207s 281ms/step - loss: 0.0423 - accuracy: 0.9857 - val_loss: 0.1018 - val_accuracy: 0.9633\n",
      "Epoch 6/7\n",
      "737/737 [==============================] - 199s 270ms/step - loss: 0.0406 - accuracy: 0.9873 - val_loss: 0.0264 - val_accuracy: 0.9918\n",
      "Epoch 7/7\n",
      "737/737 [==============================] - 196s 266ms/step - loss: 0.0245 - accuracy: 0.9922 - val_loss: 0.0234 - val_accuracy: 0.9915\n"
     ]
    },
    {
     "data": {
      "text/plain": [
       "<tensorflow.python.keras.callbacks.History at 0x19d19053eb8>"
      ]
     },
     "execution_count": 97,
     "metadata": {},
     "output_type": "execute_result"
    }
   ],
   "source": [
    "model3.fit(X_train, y_train, validation_split=0.3, epochs=7)"
   ]
  },
  {
   "cell_type": "code",
   "execution_count": 98,
   "metadata": {},
   "outputs": [],
   "source": [
    "# Save entire model to a HDFS file\n",
    "model3.save(\"Bi-directional_LSTMRNN_Model3.h5\")"
   ]
  },
  {
   "cell_type": "code",
   "execution_count": 99,
   "metadata": {},
   "outputs": [],
   "source": [
    "# Class 0 (Fake) if predicted prob < 0.5, else class 1 (Real)\n",
    "y_pred3 = (model3.predict(X_test) >= 0.5).astype(\"int\")"
   ]
  },
  {
   "cell_type": "code",
   "execution_count": 100,
   "metadata": {},
   "outputs": [
    {
     "data": {
      "text/plain": [
       "0.993316699340581"
      ]
     },
     "execution_count": 100,
     "metadata": {},
     "output_type": "execute_result"
    }
   ],
   "source": [
    "accuracy_score(y_test, y_pred3)"
   ]
  },
  {
   "cell_type": "code",
   "execution_count": 101,
   "metadata": {},
   "outputs": [
    {
     "name": "stdout",
     "output_type": "stream",
     "text": [
      "              precision    recall  f1-score   support\n",
      "\n",
      "           0       0.99      0.99      0.99      5860\n",
      "           1       0.99      0.99      0.99      5362\n",
      "\n",
      "    accuracy                           0.99     11222\n",
      "   macro avg       0.99      0.99      0.99     11222\n",
      "weighted avg       0.99      0.99      0.99     11222\n",
      "\n"
     ]
    }
   ],
   "source": [
    "print(classification_report(y_test, y_pred3))"
   ]
  },
  {
   "cell_type": "code",
   "execution_count": 102,
   "metadata": {},
   "outputs": [],
   "source": [
    "from tensorflow.keras import layers"
   ]
  },
  {
   "cell_type": "code",
   "execution_count": 103,
   "metadata": {},
   "outputs": [],
   "source": [
    "#Defining Neural Network\n",
    "model4 = Sequential()\n",
    "#Non-trainable embeddidng layer\n",
    "model4.add(Embedding(vocab_size, output_dim=EMBEDDING_DIM, weights=[weight], input_length=maxlength, trainable=False))\n",
    "model4.add(layers.GRU(64, return_sequences=True))\n",
    "model4.add(layers.SimpleRNN(128))\n",
    "model4.add(Dense(1, activation='sigmoid'))\n",
    "model4.compile(optimizer='adam', loss='binary_crossentropy', metrics=['acc'])"
   ]
  },
  {
   "cell_type": "code",
   "execution_count": 104,
   "metadata": {},
   "outputs": [
    {
     "name": "stdout",
     "output_type": "stream",
     "text": [
      "Model: \"sequential_7\"\n",
      "_________________________________________________________________\n",
      "Layer (type)                 Output Shape              Param #   \n",
      "=================================================================\n",
      "embedding_7 (Embedding)      (None, 700, 100)          21901300  \n",
      "_________________________________________________________________\n",
      "gru (GRU)                    (None, 700, 64)           31872     \n",
      "_________________________________________________________________\n",
      "simple_rnn (SimpleRNN)       (None, 128)               24704     \n",
      "_________________________________________________________________\n",
      "dense_6 (Dense)              (None, 1)                 129       \n",
      "=================================================================\n",
      "Total params: 21,958,005\n",
      "Trainable params: 56,705\n",
      "Non-trainable params: 21,901,300\n",
      "_________________________________________________________________\n",
      "None\n"
     ]
    }
   ],
   "source": [
    "print(model4.summary())"
   ]
  },
  {
   "cell_type": "code",
   "execution_count": 105,
   "metadata": {},
   "outputs": [
    {
     "name": "stdout",
     "output_type": "stream",
     "text": [
      "Epoch 1/5\n",
      "737/737 [==============================] - 214s 288ms/step - loss: 0.1878 - acc: 0.9260 - val_loss: 0.0779 - val_acc: 0.9738\n",
      "Epoch 2/5\n",
      "737/737 [==============================] - 218s 296ms/step - loss: 0.0482 - acc: 0.9833 - val_loss: 0.0288 - val_acc: 0.9899\n",
      "Epoch 3/5\n",
      "737/737 [==============================] - 215s 292ms/step - loss: 0.0271 - acc: 0.9918 - val_loss: 0.0241 - val_acc: 0.9924\n",
      "Epoch 4/5\n",
      "737/737 [==============================] - 241s 327ms/step - loss: 0.0172 - acc: 0.9949 - val_loss: 0.0214 - val_acc: 0.9935\n",
      "Epoch 5/5\n",
      "737/737 [==============================] - 235s 319ms/step - loss: 0.0115 - acc: 0.9966 - val_loss: 0.0224 - val_acc: 0.9925\n"
     ]
    },
    {
     "data": {
      "text/plain": [
       "<tensorflow.python.keras.callbacks.History at 0x19cd9617ba8>"
      ]
     },
     "execution_count": 105,
     "metadata": {},
     "output_type": "execute_result"
    }
   ],
   "source": [
    "model4.fit(X_train, y_train, validation_split=0.3, epochs=5)"
   ]
  },
  {
   "cell_type": "code",
   "execution_count": 106,
   "metadata": {},
   "outputs": [],
   "source": [
    "# Save entire model to a HDFS file\n",
    "model4.save(\"GRU_RNN_Model4.h5\")"
   ]
  },
  {
   "cell_type": "code",
   "execution_count": 107,
   "metadata": {},
   "outputs": [],
   "source": [
    "# Class 0 (Fake) if predicted prob < 0.5, else class 1 (Real)\n",
    "y_pred4 = (model4.predict(X_test) >= 0.5).astype(\"int\")"
   ]
  },
  {
   "cell_type": "code",
   "execution_count": 108,
   "metadata": {},
   "outputs": [
    {
     "data": {
      "text/plain": [
       "0.9918909285332382"
      ]
     },
     "execution_count": 108,
     "metadata": {},
     "output_type": "execute_result"
    }
   ],
   "source": [
    "accuracy_score(y_test, y_pred4)"
   ]
  },
  {
   "cell_type": "code",
   "execution_count": 109,
   "metadata": {},
   "outputs": [
    {
     "name": "stdout",
     "output_type": "stream",
     "text": [
      "              precision    recall  f1-score   support\n",
      "\n",
      "           0       0.99      1.00      0.99      5860\n",
      "           1       1.00      0.99      0.99      5362\n",
      "\n",
      "    accuracy                           0.99     11222\n",
      "   macro avg       0.99      0.99      0.99     11222\n",
      "weighted avg       0.99      0.99      0.99     11222\n",
      "\n"
     ]
    }
   ],
   "source": [
    "print(classification_report(y_test, y_pred4))"
   ]
  },
  {
   "cell_type": "code",
   "execution_count": 110,
   "metadata": {},
   "outputs": [
    {
     "name": "stdout",
     "output_type": "stream",
     "text": [
      "2.5.0\n"
     ]
    }
   ],
   "source": [
    "#Ignore warnings\n",
    "import warnings\n",
    "warnings.filterwarnings('ignore')\n",
    "import os\n",
    "import tensorflow as tf\n",
    "from tensorflow import keras\n",
    "print(tf.version.VERSION)"
   ]
  },
  {
   "cell_type": "code",
   "execution_count": 2,
   "metadata": {},
   "outputs": [],
   "source": [
    "#Ignore warnings\n",
    "import warnings\n",
    "warnings.filterwarnings('ignore')\n",
    "from tensorflow import keras\n",
    "model = keras.models.load_model(\"LSTMRNN_Model1.h5\")"
   ]
  },
  {
   "cell_type": "code",
   "execution_count": 3,
   "metadata": {},
   "outputs": [
    {
     "name": "stdout",
     "output_type": "stream",
     "text": [
      "Model: \"sequential_2\"\n",
      "_________________________________________________________________\n",
      "Layer (type)                 Output Shape              Param #   \n",
      "=================================================================\n",
      "embedding_2 (Embedding)      (None, 700, 100)          21901300  \n",
      "_________________________________________________________________\n",
      "dropout (Dropout)            (None, 700, 100)          0         \n",
      "_________________________________________________________________\n",
      "lstm_1 (LSTM)                (None, 128)               117248    \n",
      "_________________________________________________________________\n",
      "dense_1 (Dense)              (None, 1)                 129       \n",
      "=================================================================\n",
      "Total params: 22,018,677\n",
      "Trainable params: 117,377\n",
      "Non-trainable params: 21,901,300\n",
      "_________________________________________________________________\n"
     ]
    }
   ],
   "source": [
    "model.summary()"
   ]
  },
  {
   "cell_type": "code",
   "execution_count": null,
   "metadata": {},
   "outputs": [],
   "source": []
  },
  {
   "cell_type": "code",
   "execution_count": null,
   "metadata": {},
   "outputs": [],
   "source": []
  }
 ],
 "metadata": {
  "kernelspec": {
   "display_name": "Python 3",
   "language": "python",
   "name": "python3"
  },
  "language_info": {
   "codemirror_mode": {
    "name": "ipython",
    "version": 3
   },
   "file_extension": ".py",
   "mimetype": "text/x-python",
   "name": "python",
   "nbconvert_exporter": "python",
   "pygments_lexer": "ipython3",
   "version": "3.7.3"
  }
 },
 "nbformat": 4,
 "nbformat_minor": 2
}
